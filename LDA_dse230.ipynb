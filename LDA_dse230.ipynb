{
 "cells": [
  {
   "cell_type": "markdown",
   "id": "3acf4c0c",
   "metadata": {},
   "source": [
    "# LDA -- gensim"
   ]
  },
  {
   "cell_type": "markdown",
   "id": "2f84a149",
   "metadata": {},
   "source": [
    "## for preprocessing, Download nltk stopwords and spacy model"
   ]
  },
  {
   "cell_type": "code",
   "execution_count": 54,
   "id": "d27c9dd0",
   "metadata": {},
   "outputs": [
    {
     "name": "stderr",
     "output_type": "stream",
     "text": [
      "[nltk_data] Downloading package stopwords to\n",
      "[nltk_data]     /Users/eyaelgetahun/nltk_data...\n",
      "[nltk_data]   Unzipping corpora/stopwords.zip.\n"
     ]
    },
    {
     "data": {
      "text/plain": [
       "True"
      ]
     },
     "execution_count": 54,
     "metadata": {},
     "output_type": "execute_result"
    }
   ],
   "source": [
    "import nltk\n",
    "nltk.download('stopwords')"
   ]
  },
  {
   "cell_type": "code",
   "execution_count": 29,
   "id": "0887a66e",
   "metadata": {},
   "outputs": [],
   "source": [
    "import re\n",
    "import numpy as np\n",
    "import pandas as pd\n",
    "from pprint import pprint\n",
    "\n",
    "# Gensim\n",
    "import gensim\n",
    "import gensim.corpora as corpora\n",
    "from gensim.utils import simple_preprocess\n",
    "from gensim.models import CoherenceModel\n",
    "\n",
    "# spacy for lemmatization\n",
    "import spacy\n",
    "\n",
    "# Plotting tools\n",
    "import pyLDAvis\n",
    "import pyLDAvis.gensim_models as gensimvis\n",
    "import matplotlib.pyplot as plt\n",
    "%matplotlib inline\n",
    "\n",
    "# Enable logging for gensim - optional\n",
    "import logging\n",
    "logging.basicConfig(format='%(asctime)s : %(levelname)s : %(message)s', level=logging.ERROR)\n",
    "\n",
    "import warnings\n",
    "warnings.filterwarnings(\"ignore\",category=DeprecationWarning)"
   ]
  },
  {
   "cell_type": "code",
   "execution_count": 42,
   "id": "d408ad94",
   "metadata": {},
   "outputs": [],
   "source": [
    "# NLTK Stop words\n",
    "from nltk.corpus import stopwords\n",
    "stop_words = stopwords.words('/Users/eyaelgetahun/Downloads/english.txt')"
   ]
  },
  {
   "cell_type": "markdown",
   "id": "e289bfa6",
   "metadata": {},
   "source": [
    "## import dataset and preprocess"
   ]
  },
  {
   "cell_type": "markdown",
   "id": "4403187a",
   "metadata": {},
   "source": [
    "We will be using the 20-Newsgroups dataset for this exercise. This version of the dataset contains about 11k newsgroups posts from 20 different topics. \n",
    "https://urldefense.com/v3/__https://raw.githubusercontent.com/selva86/datasets/master/newsgroups.json__;!!Mih3wA!Dv1Y8-TZvzgpG7BNRn6wWJ8dFMa3iq6ddyBsbMm0sJHwPuDeRevA3RvzUOzNc1fSryw05XnVXTAiq6SlAQ$ "
   ]
  },
  {
   "cell_type": "code",
   "execution_count": 30,
   "id": "3dd0c9d7",
   "metadata": {},
   "outputs": [
    {
     "name": "stdout",
     "output_type": "stream",
     "text": [
      "['In the new Sino-Russian defense relationship, China does what it wants, and there isn’t a whole lot Russia can do about it.\\n\\nXi Jingping’s recent visit to Moscow—his first since Vladimir Putin invaded Ukraine last year—was summed up by historian Sergey Radchenko in this way: “The summit can be summarised by the Chinese saying 雷声大雨点小 (Loud thunder but few raindrops). Scratch that, even the thunder wasn’t all that loud.”\\n\\nThe meeting, which apparently produced no major policy shifts nor even notable statements of support, did further illustrate a tectonic shift in the supposed \"no limits\" relationship: China is taking the lead in nearly every aspect, including in the defense-industrial sphere once dominated by Russia.\\n\\nRussia’s modern defense ties to China go back to the 1920s. when the new Communist regime in Moscow initially supported the Kuomintang, rather than Mao’s forces, during the Chinese civil war and in the battle against imperial Japan. But Stalin eventually came to back the Chinese Communist Party, handing over Manchuria and its heavy industry in 1945, then supplying economic aid and helping to establish the nascent People’s Republic of China’s civilian and defense manufacturing sector. During this period, the USSR willingly transferred various military technologies to the PRC, including systems that China eventually recast into the J-5 and the J-6 fighter aircraft, as well as the H-6 bomber. This was not merely an expression of goodwill; by allowing an ally to copy their designs, the USSR was able to not only arm a close partner without stressing its own manufacturing, but also rely on them for a supply of materiel to other client states, such as during the Korean War.\\n\\nTheir strategic partnership frayed as the Cold War continued, yet swathes of China’s defense industry, from missiles and radar to warships, have been heavily influenced by equivalent Soviet and then Russian models. Some of these models were licensed directly from Russian defense conglomerates; others were either stolen or legitimately purchased and then reverse-engineered.\\n\\nIn the post-Soviet era, even as Russian firms showed more concern about corporate espionage and technological theft, cooperation between the two countries’ defense industries surged again. This is not just a reflection of their increasingly close ties, but also because defense technology is a rare area where Russian products remained globally competitive and better than their Chinese counterparts. But Moscow increasingly grew caught in a dilemma of immediate sales versus long term loss. It has consistently taken the short view, continuing its arms sales to China, even if it knows that its eastern partner is likely to copy these products and erode its advantage. This policy dilemma has been compounded by the post-Ukraine effect on Russia’s economy, which has left the Russian economy increasingly reliant on China, further decreasing any remaining leverage in the relationship.\\n\\nAviation and air defense show this in action.\\n\\nThe J-11, debuted in 1996, was the first Chinese aircraft made after the fall of the Soviet Union to feature significant Russian input. It began as an officially licensed, Chinese-made copy of the Russian Su-27 multirole fighter, a sale welcomed by the cash-strapped Kremlin. However, before long, China canceled the agreement and began producing the aircraft independently, going on to build over 400 of them—a loss to Russia of roughly $30 million or more in sales per plane.\\n\\nThis appears to have become standard operating procedure for China. For example, when Beijing was looking to upgrade the J-11D, it decided the best method was to purchase Russia’s advanced Su-35 multirole fighter. The deal was completed in 2018 and conspicuously included numerous spare turbofan engines. China then reverse-engineered the engine, shoring up a broader area of continued weakness in its indigenous arms industry. An even more accelerated version of this process played out with Russia’s Su-33 carrier-based fighter. China obtained an early version and began producing an unlicensed indigenous version, the J-15.\\n\\nSimilarly, China’s defense industry has bought, copied, and adapted Russian-made air and missile defense systems, apparently with Russian acquiescence. Six years after acquiring Russia’s S-300, China produced its own copy, the HQ-9, which still serves as one of the PLA’s primary surface-to-air missile systems. Likewise, the Chinese HQ-16 missile system was copied from the Russia Buk-M1-2 but appears to have been made in full collaboration with the Russian Almaz-Antey Corporation. This trend continues with even the most advanced systems, as China purchased the state-of-the-art S-400 in 2014, began testing in 2018, and appears to be currently using the system to improve its own designs.\\n\\nIf Russian officials are unhappy with China slowly absorbing more and more of its defense market, they have remained low-key about it. Aware of its limited options, Russia has tried to make the best of the situation, promoting official licensing and tech-transfer deals. While many of these licensing and technology-sharing agreements respond to China’s earlier technology thefts, they are also reflect Russia’s increasing international isolation. As far back as 2019, a representative from Rostec implied that U.S. pressure was harming its arms business with Turkey. In October 2021, just four months before Russia’s invasion of Ukraine, Rostec announced it would pull away from conducting dollar transactions and maintain strong business ties with East Asia. Last year, Rostec announced a full decoupling from Western countries in the aerospace field. Chinese firms have been more than happy to try to step into this void.\\n\\nThis dependency has now turned from markets to military hardware itself. The perfect storm of Western sanctions and severed business and political ties have severely curtailed Russia’s options in supplying its own forces, especially as the war consumes far more parts than expected. China’s practice of purchasing Russian modeled weapons, largely for acquiring the technology to make itself, though, means China now has a large reserve of military hardware it can supply to Russia’s flagging war effort.\\n\\nIn February, the Chinese firm AVIC International delivered $1.2 million in parts for Russia’s Su-35 fighter, which China began operating in 2018 and has been studying for its own fighter development. The PLA Air Force has also used a subsidiary to deliver critical components for Russia’s S-400 missile defense system. The deliveries also included navigation equipment for the Russian Mi1-71 helicopters, for which China now runs a maintenance center. In new technology areas, China has provided at least $12 million in drones and drone parts since the war began.\\n\\nAs the war goes on, Russia will likely need even more of China’s military industrial capacity to keep elements of the Russian war machine on its feet. Russia faces massive sanctions from the international community, and its defense industry is being forced to source critical components through elaborate third-party arrangements, and even electronics cannibalized from washing machines and refrigerators. Their changing ambitions were recently summed up by Russia`s Kommersant newspaper: \"Technological sovereignty for the Russian Federation and China means two different things. China has set itself the task of producing the entire range of key products and possessing all key technologies as the global leader. For Russia...it is about the possession of a minimum set of technologies that would allow it to compete with the West and not lag behind in development.\"\\n\\nUnder these conditions, China has even more leverage in a relationship that was already tilting its way. The accelerated loss of one of Russia’s few competitive edges against China and in the global market is among the many costs of Putin’s war. As Russia’s defense industry collapses, Chinese firms are moving to the fore in supplying not just the PLA, but also foreign markets that Russia once sold arms to, and even now to the Russian military itself.\\n\\nThe new China-Russia defense industrial relationship can best be summed as beneficial to both parties, but one in which China ultimately benefits far more.\\n\\nThomas Corbett is a research analyst with BluePath Labs. His areas of focus include Chinese foreign relations, emerging technology, and Indo-Pacific security studies.'\n",
      " 'Cookie Preferences Cookie List\\n\\nCookie List\\n\\nA cookie is a small piece of data (text file) that a website – when visited by a user – asks your browser to store on your device in order to remember information about you, such as your language preference or login information. Those cookies are set by us and called first-party cookies. We also use third-party cookies – which are cookies from a domain different than the domain of the website you are visiting – for our advertising and marketing efforts. More specifically, we use cookies and other tracking technologies for the following purposes:\\n\\nStrictly Necessary Cookies\\n\\nWe do not allow you to opt-out of our certain cookies, as they are necessary to ensure the proper functioning of our website (such as prompting our cookie banner and remembering your privacy choices) and/or to monitor site performance. These cookies are not used in a way that constitutes a “sale” of your data under the CCPA. You can set your browser to block or alert you about these cookies, but some parts of the site will not work as intended if you do so. You can usually find these settings in the Options or Preferences menu of your browser. Visit https://urldefense.com/v3/__http://www.allaboutcookies.org__;!!Mih3wA!Dv1Y8-TZvzgpG7BNRn6wWJ8dFMa3iq6ddyBsbMm0sJHwPuDeRevA3RvzUOzNc1fSryw05XnVXTDqUlsbgQ$  to learn more.\\n\\nFunctional Cookies\\n\\nWe do not allow you to opt-out of our certain cookies, as they are necessary to ensure the proper functioning of our website (such as prompting our cookie banner and remembering your privacy choices) and/or to monitor site performance. These cookies are not used in a way that constitutes a “sale” of your data under the CCPA. You can set your browser to block or alert you about these cookies, but some parts of the site will not work as intended if you do so. You can usually find these settings in the Options or Preferences menu of your browser. Visit https://urldefense.com/v3/__http://www.allaboutcookies.org__;!!Mih3wA!Dv1Y8-TZvzgpG7BNRn6wWJ8dFMa3iq6ddyBsbMm0sJHwPuDeRevA3RvzUOzNc1fSryw05XnVXTDqUlsbgQ$  to learn more.\\n\\nPerformance Cookies\\n\\nWe do not allow you to opt-out of our certain cookies, as they are necessary to ensure the proper functioning of our website (such as prompting our cookie banner and remembering your privacy choices) and/or to monitor site performance. These cookies are not used in a way that constitutes a “sale” of your data under the CCPA. You can set your browser to block or alert you about these cookies, but some parts of the site will not work as intended if you do so. You can usually find these settings in the Options or Preferences menu of your browser. Visit https://urldefense.com/v3/__http://www.allaboutcookies.org__;!!Mih3wA!Dv1Y8-TZvzgpG7BNRn6wWJ8dFMa3iq6ddyBsbMm0sJHwPuDeRevA3RvzUOzNc1fSryw05XnVXTDqUlsbgQ$  to learn more.\\n\\nSale of Personal Data\\n\\nWe also use cookies to personalize your experience on our websites, including by determining the most relevant content and advertisements to show you, and to monitor site traffic and performance, so that we may improve our websites and your experience. You may opt out of our use of such cookies (and the associated “sale” of your Personal Information) by using this toggle switch. You will still see some advertising, regardless of your selection. Because we do not track you across different devices, browsers and GEMG properties, your selection will take effect only on this browser, this device and this website.\\n\\nSocial Media Cookies\\n\\nWe also use cookies to personalize your experience on our websites, including by determining the most relevant content and advertisements to show you, and to monitor site traffic and performance, so that we may improve our websites and your experience. You may opt out of our use of such cookies (and the associated “sale” of your Personal Information) by using this toggle switch. You will still see some advertising, regardless of your selection. Because we do not track you across different devices, browsers and GEMG properties, your selection will take effect only on this browser, this device and this website.\\n\\nTargeting Cookies\\n\\nWe also use cookies to personalize your experience on our websites, including by determining the most relevant content and advertisements to show you, and to monitor site traffic and performance, so that we may improve our websites and your experience. You may opt out of our use of such cookies (and the associated “sale” of your Personal Information) by using this toggle switch. You will still see some advertising, regardless of your selection. Because we do not track you across different devices, browsers and GEMG properties, your selection will take effect only on this browser, this device and this website.'\n",
      " 'In this image made from video, Chinese Foreign Ministry spokesperson Wang Wenbin gestures as he speaks during a media briefing at the Ministry of Foreign Affairs office in Beijing on Monday.'\n",
      " ...\n",
      " 'China`s expansion of its nuclear arsenal is the most \"disturbing\" development that Air Force Secretary Frank Kendall has seen in his decadeslong career, he told lawmakers Tuesday.\\n\\nKendall made the statement during a hearing before the House Appropriations Committee. Kendall, with a 50-year U.S. military and defense career, says China`s development into a top-level nuclear power is a major issue.\\n\\n\"I don`t think I`ve seen anything more disturbing in my career than the Chinese ongoing expansion of their nuclear force,\" Kendall told lawmakers.\\n\\n\"For decades, they were quite comfortable with an arsenal of a few hundred nuclear weapons, which was fairly clearly a second-strike capability to act as a deterrent,\" Kendall stated. \"That expansion that they`re undertaking puts us into a new world that we`ve never lived in before, where you have three powers — three great powers, essentially — with large arsenals of nuclear weapons.\"\\n\\nPENTAGON DEFENDS CUTTING NUCLEAR MISSILE PROGRAM IN NATIONAL DEFENSE STRATEGY AMID RUSSIAN TENSION\\n\\nKendall, who graduated from the U.S. Military Academy at West Point in 1971, argued that the U.S. needs to start a dialogue with Russia and especially China, stating that open lines of communication were a major factor in preventing nuclear escalation during the Cold War.\\n\\n\"Russia`s latest move on the New START treaty is not helping — it`s going in the wrong direction,\" Kendall said. \"Nobody wants a nuclear war. We do not want to go back to [the Cold War] world of 30 years ago. I thought we would never be in this position again, and here we are. So, we need to be wise. We really need to start talking to them.\"\\n\\nCHINA CLAIMS US CRUISER `TRESPASSED` IN ITS WATERS, NAVY CALLS ACCUSATION `FALSE`\\n\\nChina announced plans late last year to more than triple its nuclear warhead stockpile by 2035, according to a Pentagon report.\\n\\nThe report, titled \"Military and Security Developments Involving the People`s Republic of China,\" assessed that China \"probably\" expanded its nuclear program in 2021 and that its stockpiles have \"surpassed 400\" warheads.\\n\\n\"If China continues the pace of its nuclear expansion, it will likely field a stockpile of about 1,500 warheads by its 2035 timeline,\" the Department of Defense assessed.\\n\\nCLICK HERE TO GET THE FOX NEWS APP\\n\\nKendall told lawmakers that war with China is far from inevitable, and emphasized that staying ahead of the country`s military capabilities was the key to deterrence.\\n\\nFox News` Caitlin McFall contributed to this report.'\n",
      " 'NEW You can now listen to Fox News articles!\\n\\nTexas stands prominently at the gateway of our nation and Latin American countries as a foremost trading partner that advances our economies. But this progress comes amid new challenges that threaten the sovereignty and viability of Latin American states, global democracy and America’s national security.\\n\\nArmed with predatory loan terms and virtually no accountability, China’s sights are firmly set on our southern neighbors. As witnessed in other developing regions, the Chinese Communist Party (CCP) leverages lavish investments to build geopolitical influence, target strategic sectors of sovereign nations’ economies, and develop military capabilities in 147 countries, including at least 13 countries in Latin America.\\n\\n\"[China] has the capability and intent to eschew international norms, advance its brand of authoritarianism, and amass power and influence at the expense of these democracies,\" Gen. Laura Richardson, commander of U.S. Southern Command, testified before the U.S. House Armed Services Committee this spring.\\n\\nU.S. officials recently warned about negotiations between China and Cuba to establish a new joint military training facility less than 100 miles off America’s shores. This follows reports of China’s efforts to establish a new electronic eavesdropping facility in Cuba that could intercept communications across the southeastern United States and monitor U.S. ship traffic.\\n\\nWHAT CHINA IS DOING IN CUBA IS A BIG THREAT TO ALL OF US\\n\\nMeanwhile, CCP officials in Argentina are working to establish a naval base at Tierra del Fuego that would grant the Chinese Navy control of a key passage connecting the Atlantic and Pacific oceans, as well as access to the entire region’s communications and maritime transit. If realized, this would open the door to extraordinary strategic Chinese military assets in America’s backyard.\\n\\nChinese companies also dominate infrastructure across the Panama Canal. Military experts warn the canal’s extensive China-controlled assets could easily be converted into military capabilities, threatening the flow of international trade. Beijing has already attempted to establish military bases in other developing regions under the guise of a \"logistics facility.\"\\n\\nDams, railroads, canals and other major infrastructure projects are prime targets of Chinese loans. In Peru, a Chinese company is building the Chancay \"mega-port\" that could reconfigure shipping lanes across the southern Pacific when it opens next year. Another Chinese investment company owns several strategic ports in Mexico and a logistics terminal in the Mexican state of Hidalgo. As America confronts a devastating fentanyl crisis, Chinese-produced synthetic opioid precursors are pouring into Mexico for cartels to manufacture and smuggle across our southern border.\\n\\nChina targets strategic sectors such as energy development, petroleum refining and power generation. State-owned PowerChina is active in 50 ongoing projects across more than a dozen Latin American nations. As the Biden administration undercuts America’s energy independence, China is shoring up its own supplies through vast commodity-backed loans, such as Venezuela’s $50 billion loans-for-oil payments to Beijing.\\n\\nAlarmingly, the CCP’s Digital Silk Road initiative exports Chinese information and communications technologies, exposing Latin America to increased cyber threats – threats that could reach the U.S.\\n\\nTwelve of China’s largest tech companies, including Huawei, China Telecom and ZTE – all sanctioned by the United States – have set up operations in 15 Latin American countries since 2015, building data centers, telecoms networks, smart cities and 5G projects. In fact, 80% of Mexico’s telecommunications system comes from China, not the U.S.\\n\\nCHINA`S GROWING DOMINANCE IN LATIN AMERICA A PROBLEM, EXPERTS SAY\\n\\nBeijing is setting international technology standards with its proprietary technology while becoming central to Latin American infrastructure.\\n\\nChina has invested hundreds of billions of dollars into Latin America since joining the World Trade Organization in 2001. In 2017, China became the world’s biggest creditor, outpacing the World Bank and the International Monetary Fund. Massive investments allow the CCP to strongarm nations into adopting anti-democratic policies.\\n\\nOne example is particularly chilling: all Latin American countries recognized Taiwan’s sovereignty 20 years ago, but only seven do today. Honduras cited Chinese economic links as the impetus for its recent decision to cut ties with Taiwan.\\n\\nTexas has taken aggressive measures to contain China’s attempts to exert influence in our state. In 2021, I signed the Lone Star Infrastructure Protection Act, banning companies from hostile nations like China from connecting to critical infrastructure projects in Texas.\\n\\nCLICK HERE TO SIGN UP FOR OUR OPINION NEWSLETTER\\n\\nThis year, I signed a law that secures access to Texas’ electric grid by any company or employee. I also directed state agencies to address vulnerabilities presented by TikTok and other software on personal and state-issued devices and recently signed Senate Bill 1893 that codifies that standard.\\n\\nHowever, we must all recognize the CCP as the calculating force behind strategic investments in America’s backyard. Texas hears China knocking at our door. Will President Biden finally act?'\n",
      " 'Hong Kong CNN —\\n\\nKiki Yang brought an empty green suitcase from Shenzhen to Hong Kong this week to load up on new purchases for her family and friends.\\n\\n“I did a lot of shopping these days,” she told CNN on Tuesday, gesturing to her luggage, which she described as fully packed with clothes, medicine and electronics.\\n\\nYang is one of tens of thousands of mainland Chinese visitors expected to be welcomed back in Hong Kong this week, as one of the world’s toughest border closures ends. On Sunday, residents of Hong Kong and mainland China were permitted to resume two-way, quarantine-free travel after three years, albeit in limited numbers.\\n\\nFor businesses like beauty retail giant Sa Sa, the moment couldn’t have come any sooner: Danny Ho, its chief financial officer, told CNN that mainland Chinese visitors usually account for a whopping 70% of its business.\\n\\n“That basically dropped to almost zero once the border controls [were] in place,” he said, referring to rules starting in early 2020 that required arriving visitors to self-isolate in hotel rooms.\\n\\nDanny Ho, chief financial officer of Sa Sa, speaking to CNN in an interview in Mongkok, Hong Kong on Tuesday. Kevin Broad/CNN\\n\\nUnsurprisingly, Sa Sa’s business has slumped. Once Asia’s biggest beauty retailer, the chain has slipped to fourth place, behind rivals such as LVMH’s Sephora, according to data from market research provider Euromonitor International.\\n\\nSa Sa, which counts Hong Kong and Macao combined as its top market, has seen sales roughly halve since 2019. The company has tried to stop the bleeding by shutting down stores, investing online and diversifying its product mix, including the introduction of non-beauty items, such as face masks and Covid-19 tests, according to Ho.\\n\\nNow, things are looking back up.\\n\\n“Everyone in Hong Kong retail, I can tell you, has been very much looking forward to this event,” said Ho, a member of the Hong Kong Retail Management Association, referring to the border reopening.\\n\\nThe move is the latest effort by Hong Kong to rebuild its status as a global business hub. For decades, the former British colony has been seen as a friendly gateway to the vast market of mainland China, but its economy was battered during the pandemic as Covid-19 restrictions took hold.\\n\\nHong Kong’s economy fell into recession in 2022, and is estimated to have contracted by 3.2% over the full year, according to a government forecast.\\n\\nRestricted cross-border travel was the biggest concern for businesses across the city, according to a survey by the Hong Kong General Chamber of Commerce released Monday.\\n\\n“The worst Is over,” the group declared in a statement, though it warned of other lingering headwinds.\\n\\nEarly days\\n\\nBusinesses and economists aren’t rushing to upgrade their forecasts just yet.\\n\\n“In the first half of this year, the rebound is definitely going to be significant. We’re going to see things really pick up, but it’s not going to reach a full recovery,” said Sheana Yue, China economist at Capital Economics.\\n\\nYue said that hotels and restaurants could soon see an uptick, particularly as “a backlog of people getting their visas sorted” from mainland China was cleared.\\n\\nCurrently, as part of a gradual reopening, Hong Kong has a quota of 60,000 visitor arrivals from mainland China each day.\\n\\nBut according to government statistics, less than 6,000 people in that category have been coming in daily so far. The city has seen a total of just under 21,600 arrivals from mainland China from Sunday through Wednesday, in its first four days of reopening, immigration department data shows.\\n\\nWhile Yue expects Hong Kong to come out of recession this quarter, she estimates it could take a full year for the city to bounce back, potentially by the first quarter of 2024.\\n\\nThat’s when the economy may finally return to early-2019 levels, before it was badly hit by both mass protests and the pandemic, she added.\\n\\nLouise Loo, a senior economist at Oxford Economics, also said it would take a while for Hong Kong to make a turnaround, particularly as it continues to grapple with “meaningful economic challenges,” including weak housing prices and the impact of high US interest rates.\\n\\nBut once all border restrictions are removed, “Hong Kong is the biggest beneficiary of China’s reopening within the region,” she told CNN.\\n\\nHo, the Sasa executive, has also stopped short of raising sales projections this quarter, though he said the company was hopeful for an upswing during the forthcoming Lunar New Year holiday.\\n\\nWe’re going to see things really pick up, but it’s not going to reach a full recovery [fast]. Sheana Yue China economist at Capital Economics\\n\\nThe retailer has prepared special discount coupons on Alipay, Alibaba’s ubiquitous digital payments system, to offer mainland Chinese customers coming to the city to shop, though it’s too early to see an immediate impact of their return, he said.\\n\\n“We have to wait and see how much actually recovers,” Ho added.\\n\\n— CNN’s Marc Stewart, Sandi Sidhu, Jennie Chen, Kathleen Magramo and Simone McCarthy contributed to this report.']\n"
     ]
    },
    {
     "data": {
      "text/html": [
       "<div>\n",
       "<style scoped>\n",
       "    .dataframe tbody tr th:only-of-type {\n",
       "        vertical-align: middle;\n",
       "    }\n",
       "\n",
       "    .dataframe tbody tr th {\n",
       "        vertical-align: top;\n",
       "    }\n",
       "\n",
       "    .dataframe thead th {\n",
       "        text-align: right;\n",
       "    }\n",
       "</style>\n",
       "<table border=\"1\" class=\"dataframe\">\n",
       "  <thead>\n",
       "    <tr style=\"text-align: right;\">\n",
       "      <th></th>\n",
       "      <th>News</th>\n",
       "      <th>count</th>\n",
       "      <th>date</th>\n",
       "      <th>title</th>\n",
       "      <th>url</th>\n",
       "      <th>date2</th>\n",
       "      <th>author</th>\n",
       "      <th>eywords</th>\n",
       "      <th>url2</th>\n",
       "      <th>comment</th>\n",
       "      <th>comment2</th>\n",
       "    </tr>\n",
       "  </thead>\n",
       "  <tbody>\n",
       "    <tr>\n",
       "      <th>0</th>\n",
       "      <td>In the new Sino-Russian defense relationship, ...</td>\n",
       "      <td>19169618</td>\n",
       "      <td>2023-04-04</td>\n",
       "      <td>China Is Eating Russia’s Lunch in the Defense...</td>\n",
       "      <td>https://urldefense.com/v3/__https://www.defenseone.com/ideas/2023/04/china__;!!Mih3wA!Dv1Y8-TZvzgpG7BNRn6wWJ8dFMa3iq6ddyBsbMm0sJHwPuDeRevA3RvzUOzNc1fSryw05XnVXTDCUQcSGQ$ ...</td>\n",
       "      <td>2023-04-04</td>\n",
       "      <td>{Thomas Corbett,Research Analyst,Bluepath Labs}</td>\n",
       "      <td>{china,war,russias,chinas,lunch,market,industr...</td>\n",
       "      <td>https://urldefense.com/v3/__https://www.defenseone.com/__;!!Mih3wA!Dv1Y8-TZvzgpG7BNRn6wWJ8dFMa3iq6ddyBsbMm0sJHwPuDeRevA3RvzUOzNc1fSryw05XnVXTDoyX1Trw$ </td>\n",
       "      <td>NaN</td>\n",
       "      <td>NaN</td>\n",
       "    </tr>\n",
       "    <tr>\n",
       "      <th>1</th>\n",
       "      <td>Cookie Preferences Cookie List\\n\\nCookie List\\...</td>\n",
       "      <td>22151305</td>\n",
       "      <td>2023-09-05</td>\n",
       "      <td>Geopolitical tension with China would hit U.S...</td>\n",
       "      <td>https://urldefense.com/v3/__https://www.defenseone.com/policy/2023/08/geop__;!!Mih3wA!Dv1Y8-TZvzgpG7BNRn6wWJ8dFMa3iq6ddyBsbMm0sJHwPuDeRevA3RvzUOzNc1fSryw05XnVXTDw0AA3Fg$ ...</td>\n",
       "      <td>2023-09-05</td>\n",
       "      <td>{Patrick Tucker,Science,Technology Editor,Defe...</td>\n",
       "      <td>{tension,study,geopolitical,sale,selection,sho...</td>\n",
       "      <td>https://urldefense.com/v3/__https://www.defenseone.com/__;!!Mih3wA!Dv1Y8-TZvzgpG7BNRn6wWJ8dFMa3iq6ddyBsbMm0sJHwPuDeRevA3RvzUOzNc1fSryw05XnVXTDoyX1Trw$ </td>\n",
       "      <td>NaN</td>\n",
       "      <td>NaN</td>\n",
       "    </tr>\n",
       "    <tr>\n",
       "      <th>2</th>\n",
       "      <td>In this image made from video, Chinese Foreign...</td>\n",
       "      <td>18118957</td>\n",
       "      <td>2023-02-13</td>\n",
       "      <td>China says more than 10 US balloons flew in it...</td>\n",
       "      <td>https://urldefense.com/v3/__https://www.journalgazette.net/news/world/chin__;!!Mih3wA!Dv1Y8-TZvzgpG7BNRn6wWJ8dFMa3iq6ddyBsbMm0sJHwPuDeRevA3RvzUOzNc1fSryw05XnVXTA1jYCwxA$ ...</td>\n",
       "      <td>2023-02-13</td>\n",
       "      <td>{Associated Press}</td>\n",
       "      <td>{airspace,wang,ministry,office,china,image,spe...</td>\n",
       "      <td>https://urldefense.com/v3/__https://www.journalgazette.net/__;!!Mih3wA!Dv1Y8-TZvzgpG7BNRn6wWJ8dFMa3iq6ddyBsbMm0sJHwPuDeRevA3RvzUOzNc1fSryw05XnVXTAb_0cbjQ$ </td>\n",
       "      <td>NaN</td>\n",
       "      <td>NaN</td>\n",
       "    </tr>\n",
       "    <tr>\n",
       "      <th>3</th>\n",
       "      <td>Associated Press\\n\\nBEIJING — Heavy flooding h...</td>\n",
       "      <td>20894060</td>\n",
       "      <td>2023-07-04</td>\n",
       "      <td>Flooding displaces 10,000 across China</td>\n",
       "      <td>https://urldefense.com/v3/__https://www.mercurynews.com/2023/07/03/floodin__;!!Mih3wA!Dv1Y8-TZvzgpG7BNRn6wWJ8dFMa3iq6ddyBsbMm0sJHwPuDeRevA3RvzUOzNc1fSryw05XnVXTBbr26XHA$ ...</td>\n",
       "      <td>2023-07-04</td>\n",
       "      <td>{The Associated Press}</td>\n",
       "      <td>{temperature,china,heavy,rainfall,capital,floo...</td>\n",
       "      <td>https://urldefense.com/v3/__http://www.mercurynews.com/__;!!Mih3wA!Dv1Y8-TZvzgpG7BNRn6wWJ8dFMa3iq6ddyBsbMm0sJHwPuDeRevA3RvzUOzNc1fSryw05XnVXTDAEVCsQQ$ </td>\n",
       "      <td>NaN</td>\n",
       "      <td>NaN</td>\n",
       "    </tr>\n",
       "    <tr>\n",
       "      <th>4</th>\n",
       "      <td>El presidente estadounidense, Joe Biden, afirm...</td>\n",
       "      <td>21023107</td>\n",
       "      <td>2023-07-10</td>\n",
       "      <td>Joe Biden cree que se pueden establecer relac...</td>\n",
       "      <td>https://urldefense.com/v3/__https://laopinion.com/2023/07/09/joe-biden-cre__;!!Mih3wA!Dv1Y8-TZvzgpG7BNRn6wWJ8dFMa3iq6ddyBsbMm0sJHwPuDeRevA3RvzUOzNc1fSryw05XnVXTCi7e8lkg$ ...</td>\n",
       "      <td>2023-07-10</td>\n",
       "      <td>{La Opinión}</td>\n",
       "      <td>{y,joe,relaciones,los,que,china,en,cree,pueden...</td>\n",
       "      <td>https://urldefense.com/v3/__https://laopinion.com/__;!!Mih3wA!Dv1Y8-TZvzgpG7BNRn6wWJ8dFMa3iq6ddyBsbMm0sJHwPuDeRevA3RvzUOzNc1fSryw05XnVXTAZ7CdonQ$ </td>\n",
       "      <td>NaN</td>\n",
       "      <td>NaN</td>\n",
       "    </tr>\n",
       "  </tbody>\n",
       "</table>\n",
       "</div>"
      ],
      "text/plain": [
       "                                                News     count        date  \\\n",
       "0  In the new Sino-Russian defense relationship, ...  19169618  2023-04-04   \n",
       "1  Cookie Preferences Cookie List\\n\\nCookie List\\...  22151305  2023-09-05   \n",
       "2  In this image made from video, Chinese Foreign...  18118957  2023-02-13   \n",
       "3  Associated Press\\n\\nBEIJING — Heavy flooding h...  20894060  2023-07-04   \n",
       "4  El presidente estadounidense, Joe Biden, afirm...  21023107  2023-07-10   \n",
       "\n",
       "                                               title  \\\n",
       "0   China Is Eating Russia’s Lunch in the Defense...   \n",
       "1   Geopolitical tension with China would hit U.S...   \n",
       "2  China says more than 10 US balloons flew in it...   \n",
       "3             Flooding displaces 10,000 across China   \n",
       "4   Joe Biden cree que se pueden establecer relac...   \n",
       "\n",
       "                                                 url       date2  \\\n",
       "0  https://urldefense.com/v3/__https://www.defenseone.com/ideas/2023/04/china__;!!Mih3wA!Dv1Y8-TZvzgpG7BNRn6wWJ8dFMa3iq6ddyBsbMm0sJHwPuDeRevA3RvzUOzNc1fSryw05XnVXTDCUQcSGQ$ ...  2023-04-04   \n",
       "1  https://urldefense.com/v3/__https://www.defenseone.com/policy/2023/08/geop__;!!Mih3wA!Dv1Y8-TZvzgpG7BNRn6wWJ8dFMa3iq6ddyBsbMm0sJHwPuDeRevA3RvzUOzNc1fSryw05XnVXTDw0AA3Fg$ ...  2023-09-05   \n",
       "2  https://urldefense.com/v3/__https://www.journalgazette.net/news/world/chin__;!!Mih3wA!Dv1Y8-TZvzgpG7BNRn6wWJ8dFMa3iq6ddyBsbMm0sJHwPuDeRevA3RvzUOzNc1fSryw05XnVXTA1jYCwxA$ ...  2023-02-13   \n",
       "3  https://urldefense.com/v3/__https://www.mercurynews.com/2023/07/03/floodin__;!!Mih3wA!Dv1Y8-TZvzgpG7BNRn6wWJ8dFMa3iq6ddyBsbMm0sJHwPuDeRevA3RvzUOzNc1fSryw05XnVXTBbr26XHA$ ...  2023-07-04   \n",
       "4  https://urldefense.com/v3/__https://laopinion.com/2023/07/09/joe-biden-cre__;!!Mih3wA!Dv1Y8-TZvzgpG7BNRn6wWJ8dFMa3iq6ddyBsbMm0sJHwPuDeRevA3RvzUOzNc1fSryw05XnVXTCi7e8lkg$ ...  2023-07-10   \n",
       "\n",
       "                                              author  \\\n",
       "0    {Thomas Corbett,Research Analyst,Bluepath Labs}   \n",
       "1  {Patrick Tucker,Science,Technology Editor,Defe...   \n",
       "2                                 {Associated Press}   \n",
       "3                             {The Associated Press}   \n",
       "4                                       {La Opinión}   \n",
       "\n",
       "                                             eywords  \\\n",
       "0  {china,war,russias,chinas,lunch,market,industr...   \n",
       "1  {tension,study,geopolitical,sale,selection,sho...   \n",
       "2  {airspace,wang,ministry,office,china,image,spe...   \n",
       "3  {temperature,china,heavy,rainfall,capital,floo...   \n",
       "4  {y,joe,relaciones,los,que,china,en,cree,pueden...   \n",
       "\n",
       "                               url2  comment  comment2  \n",
       "0       https://urldefense.com/v3/__https://www.defenseone.com/__;!!Mih3wA!Dv1Y8-TZvzgpG7BNRn6wWJ8dFMa3iq6ddyBsbMm0sJHwPuDeRevA3RvzUOzNc1fSryw05XnVXTDoyX1Trw$       NaN       NaN  \n",
       "1       https://urldefense.com/v3/__https://www.defenseone.com/__;!!Mih3wA!Dv1Y8-TZvzgpG7BNRn6wWJ8dFMa3iq6ddyBsbMm0sJHwPuDeRevA3RvzUOzNc1fSryw05XnVXTDoyX1Trw$       NaN       NaN  \n",
       "2   https://urldefense.com/v3/__https://www.journalgazette.net/__;!!Mih3wA!Dv1Y8-TZvzgpG7BNRn6wWJ8dFMa3iq6ddyBsbMm0sJHwPuDeRevA3RvzUOzNc1fSryw05XnVXTAb_0cbjQ$       NaN       NaN  \n",
       "3       https://urldefense.com/v3/__http://www.mercurynews.com/__;!!Mih3wA!Dv1Y8-TZvzgpG7BNRn6wWJ8dFMa3iq6ddyBsbMm0sJHwPuDeRevA3RvzUOzNc1fSryw05XnVXTDAEVCsQQ$       NaN       NaN  \n",
       "4            https://urldefense.com/v3/__https://laopinion.com/__;!!Mih3wA!Dv1Y8-TZvzgpG7BNRn6wWJ8dFMa3iq6ddyBsbMm0sJHwPuDeRevA3RvzUOzNc1fSryw05XnVXTAZ7CdonQ$       NaN       NaN  "
      ]
     },
     "execution_count": 30,
     "metadata": {},
     "output_type": "execute_result"
    }
   ],
   "source": [
    "# Import Dataset\n",
    "#df = pd.read_csv('https://urldefense.com/v3/__https://www.defenseone.com/ideas/2023/04/china-eating-russias-lunch-defense-market/384736/A')*5Cn__;JQ!!Mih3wA!Dv1Y8-TZvzgpG7BNRn6wWJ8dFMa3iq6ddyBsbMm0sJHwPuDeRevA3RvzUOzNc1fSryw05XnVXTBXtYrUTA$ ",
    "#df = pd.read_json( 'https://urldefense.com/v3/__https://raw.githubusercontent.com/selva86/datasets/master/newsgroups.json')*5Cn__;JQ!!Mih3wA!Dv1Y8-TZvzgpG7BNRn6wWJ8dFMa3iq6ddyBsbMm0sJHwPuDeRevA3RvzUOzNc1fSryw05XnVXTAmO1XqbQ$ ",
    "#df =  pd.read_excel('/Users/eyaelgetahun/Downloads/yy.xlsx',index_col=0) \n",
    "df=pd.read_excel('/Users/eyaelgetahun/Downloads/yy.xlsx',header=None,names=[\"News\",\"count\",\"date\",\"title\",\"url\",\"date2\",\"author\",\"eywords\",\"url2\",\"comment\",\"comment2\"])\n",
    "\n",
    "#df=pd.read_excel('test.xlsx', index_col=0)\n",
    "\n",
    "print(df.News.unique())\n",
    "df.head()"
   ]
  },
  {
   "cell_type": "code",
   "execution_count": 35,
   "id": "20468274",
   "metadata": {},
   "outputs": [
    {
     "name": "stdout",
     "output_type": "stream",
     "text": [
      "['In the new Sino-Russian defense relationship, China does what it wants, and there isn’t a whole lot Russia can do about it. Xi Jingping’s recent visit to Moscow—his first since Vladimir Putin invaded Ukraine last year—was summed up by historian Sergey Radchenko in this way: “The summit can be summarised by the Chinese saying 雷声大雨点小 (Loud thunder but few raindrops). Scratch that, even the thunder wasn’t all that loud.” The meeting, which apparently produced no major policy shifts nor even notable statements of support, did further illustrate a tectonic shift in the supposed \"no limits\" relationship: China is taking the lead in nearly every aspect, including in the defense-industrial sphere once dominated by Russia. Russia’s modern defense ties to China go back to the 1920s. when the new Communist regime in Moscow initially supported the Kuomintang, rather than Mao’s forces, during the Chinese civil war and in the battle against imperial Japan. But Stalin eventually came to back the Chinese Communist Party, handing over Manchuria and its heavy industry in 1945, then supplying economic aid and helping to establish the nascent People’s Republic of China’s civilian and defense manufacturing sector. During this period, the USSR willingly transferred various military technologies to the PRC, including systems that China eventually recast into the J-5 and the J-6 fighter aircraft, as well as the H-6 bomber. This was not merely an expression of goodwill; by allowing an ally to copy their designs, the USSR was able to not only arm a close partner without stressing its own manufacturing, but also rely on them for a supply of materiel to other client states, such as during the Korean War. Their strategic partnership frayed as the Cold War continued, yet swathes of China’s defense industry, from missiles and radar to warships, have been heavily influenced by equivalent Soviet and then Russian models. Some of these models were licensed directly from Russian defense conglomerates; others were either stolen or legitimately purchased and then reverse-engineered. In the post-Soviet era, even as Russian firms showed more concern about corporate espionage and technological theft, cooperation between the two countries’ defense industries surged again. This is not just a reflection of their increasingly close ties, but also because defense technology is a rare area where Russian products remained globally competitive and better than their Chinese counterparts. But Moscow increasingly grew caught in a dilemma of immediate sales versus long term loss. It has consistently taken the short view, continuing its arms sales to China, even if it knows that its eastern partner is likely to copy these products and erode its advantage. This policy dilemma has been compounded by the post-Ukraine effect on Russia’s economy, which has left the Russian economy increasingly reliant on China, further decreasing any remaining leverage in the relationship. Aviation and air defense show this in action. The J-11, debuted in 1996, was the first Chinese aircraft made after the fall of the Soviet Union to feature significant Russian input. It began as an officially licensed, Chinese-made copy of the Russian Su-27 multirole fighter, a sale welcomed by the cash-strapped Kremlin. However, before long, China canceled the agreement and began producing the aircraft independently, going on to build over 400 of them—a loss to Russia of roughly $30 million or more in sales per plane. This appears to have become standard operating procedure for China. For example, when Beijing was looking to upgrade the J-11D, it decided the best method was to purchase Russia’s advanced Su-35 multirole fighter. The deal was completed in 2018 and conspicuously included numerous spare turbofan engines. China then reverse-engineered the engine, shoring up a broader area of continued weakness in its indigenous arms industry. An even more accelerated version of this process played out with Russia’s Su-33 carrier-based fighter. China obtained an early version and began producing an unlicensed indigenous version, the J-15. Similarly, China’s defense industry has bought, copied, and adapted Russian-made air and missile defense systems, apparently with Russian acquiescence. Six years after acquiring Russia’s S-300, China produced its own copy, the HQ-9, which still serves as one of the PLA’s primary surface-to-air missile systems. Likewise, the Chinese HQ-16 missile system was copied from the Russia Buk-M1-2 but appears to have been made in full collaboration with the Russian Almaz-Antey Corporation. This trend continues with even the most advanced systems, as China purchased the state-of-the-art S-400 in 2014, began testing in 2018, and appears to be currently using the system to improve its own designs. If Russian officials are unhappy with China slowly absorbing more and more of its defense market, they have remained low-key about it. Aware of its limited options, Russia has tried to make the best of the situation, promoting official licensing and tech-transfer deals. While many of these licensing and technology-sharing agreements respond to China’s earlier technology thefts, they are also reflect Russia’s increasing international isolation. As far back as 2019, a representative from Rostec implied that U.S. pressure was harming its arms business with Turkey. In October 2021, just four months before Russia’s invasion of Ukraine, Rostec announced it would pull away from conducting dollar transactions and maintain strong business ties with East Asia. Last year, Rostec announced a full decoupling from Western countries in the aerospace field. Chinese firms have been more than happy to try to step into this void. This dependency has now turned from markets to military hardware itself. The perfect storm of Western sanctions and severed business and political ties have severely curtailed Russia’s options in supplying its own forces, especially as the war consumes far more parts than expected. China’s practice of purchasing Russian modeled weapons, largely for acquiring the technology to make itself, though, means China now has a large reserve of military hardware it can supply to Russia’s flagging war effort. In February, the Chinese firm AVIC International delivered $1.2 million in parts for Russia’s Su-35 fighter, which China began operating in 2018 and has been studying for its own fighter development. The PLA Air Force has also used a subsidiary to deliver critical components for Russia’s S-400 missile defense system. The deliveries also included navigation equipment for the Russian Mi1-71 helicopters, for which China now runs a maintenance center. In new technology areas, China has provided at least $12 million in drones and drone parts since the war began. As the war goes on, Russia will likely need even more of China’s military industrial capacity to keep elements of the Russian war machine on its feet. Russia faces massive sanctions from the international community, and its defense industry is being forced to source critical components through elaborate third-party arrangements, and even electronics cannibalized from washing machines and refrigerators. Their changing ambitions were recently summed up by Russia`s Kommersant newspaper: \"Technological sovereignty for the Russian Federation and China means two different things. China has set itself the task of producing the entire range of key products and possessing all key technologies as the global leader. For Russia...it is about the possession of a minimum set of technologies that would allow it to compete with the West and not lag behind in development.\" Under these conditions, China has even more leverage in a relationship that was already tilting its way. The accelerated loss of one of Russia’s few competitive edges against China and in the global market is among the many costs of Putin’s war. As Russia’s defense industry collapses, Chinese firms are moving to the fore in supplying not just the PLA, but also foreign markets that Russia once sold arms to, and even now to the Russian military itself. The new China-Russia defense industrial relationship can best be summed as beneficial to both parties, but one in which China ultimately benefits far more. Thomas Corbett is a research analyst with BluePath Labs. His areas of focus include Chinese foreign relations, emerging technology, and Indo-Pacific security studies.']\n"
     ]
    }
   ],
   "source": [
    "# Convert to list\n",
    "data = df.News.values.tolist()\n",
    "\n",
    "# Remove Emails\n",
    "data = [re.sub('\\S*@\\S*\\s?', '', sent) for sent in data]\n",
    "\n",
    "# Remove new line characters\n",
    "data = [re.sub('\\s+', ' ', sent) for sent in data]\n",
    "\n",
    "# Remove distracting single quotes\n",
    "data = [re.sub(\"\\'\", \"\", sent) for sent in data]\n",
    "\n",
    "print(data[:1])"
   ]
  },
  {
   "cell_type": "markdown",
   "id": "8f0b9a10",
   "metadata": {},
   "source": [
    "You need to break down each sentence into a list of words through tokenization, while clearing up all the messy text in the process. Gensim’s simple_preprocess is great for this."
   ]
  },
  {
   "cell_type": "code",
   "execution_count": 36,
   "id": "42637dc5",
   "metadata": {},
   "outputs": [
    {
     "data": {
      "text/plain": [
       "'In the new Sino-Russian defense relationship, China does what it wants, and there isn’t a whole lot Russia can do about it. Xi Jingping’s recent visit to Moscow—his first since Vladimir Putin invaded Ukraine last year—was summed up by historian Sergey Radchenko in this way: “The summit can be summarised by the Chinese saying 雷声大雨点小 (Loud thunder but few raindrops). Scratch that, even the thunder wasn’t all that loud.” The meeting, which apparently produced no major policy shifts nor even notable statements of support, did further illustrate a tectonic shift in the supposed \"no limits\" relationship: China is taking the lead in nearly every aspect, including in the defense-industrial sphere once dominated by Russia. Russia’s modern defense ties to China go back to the 1920s. when the new Communist regime in Moscow initially supported the Kuomintang, rather than Mao’s forces, during the Chinese civil war and in the battle against imperial Japan. But Stalin eventually came to back the Chinese Communist Party, handing over Manchuria and its heavy industry in 1945, then supplying economic aid and helping to establish the nascent People’s Republic of China’s civilian and defense manufacturing sector. During this period, the USSR willingly transferred various military technologies to the PRC, including systems that China eventually recast into the J-5 and the J-6 fighter aircraft, as well as the H-6 bomber. This was not merely an expression of goodwill; by allowing an ally to copy their designs, the USSR was able to not only arm a close partner without stressing its own manufacturing, but also rely on them for a supply of materiel to other client states, such as during the Korean War. Their strategic partnership frayed as the Cold War continued, yet swathes of China’s defense industry, from missiles and radar to warships, have been heavily influenced by equivalent Soviet and then Russian models. Some of these models were licensed directly from Russian defense conglomerates; others were either stolen or legitimately purchased and then reverse-engineered. In the post-Soviet era, even as Russian firms showed more concern about corporate espionage and technological theft, cooperation between the two countries’ defense industries surged again. This is not just a reflection of their increasingly close ties, but also because defense technology is a rare area where Russian products remained globally competitive and better than their Chinese counterparts. But Moscow increasingly grew caught in a dilemma of immediate sales versus long term loss. It has consistently taken the short view, continuing its arms sales to China, even if it knows that its eastern partner is likely to copy these products and erode its advantage. This policy dilemma has been compounded by the post-Ukraine effect on Russia’s economy, which has left the Russian economy increasingly reliant on China, further decreasing any remaining leverage in the relationship. Aviation and air defense show this in action. The J-11, debuted in 1996, was the first Chinese aircraft made after the fall of the Soviet Union to feature significant Russian input. It began as an officially licensed, Chinese-made copy of the Russian Su-27 multirole fighter, a sale welcomed by the cash-strapped Kremlin. However, before long, China canceled the agreement and began producing the aircraft independently, going on to build over 400 of them—a loss to Russia of roughly $30 million or more in sales per plane. This appears to have become standard operating procedure for China. For example, when Beijing was looking to upgrade the J-11D, it decided the best method was to purchase Russia’s advanced Su-35 multirole fighter. The deal was completed in 2018 and conspicuously included numerous spare turbofan engines. China then reverse-engineered the engine, shoring up a broader area of continued weakness in its indigenous arms industry. An even more accelerated version of this process played out with Russia’s Su-33 carrier-based fighter. China obtained an early version and began producing an unlicensed indigenous version, the J-15. Similarly, China’s defense industry has bought, copied, and adapted Russian-made air and missile defense systems, apparently with Russian acquiescence. Six years after acquiring Russia’s S-300, China produced its own copy, the HQ-9, which still serves as one of the PLA’s primary surface-to-air missile systems. Likewise, the Chinese HQ-16 missile system was copied from the Russia Buk-M1-2 but appears to have been made in full collaboration with the Russian Almaz-Antey Corporation. This trend continues with even the most advanced systems, as China purchased the state-of-the-art S-400 in 2014, began testing in 2018, and appears to be currently using the system to improve its own designs. If Russian officials are unhappy with China slowly absorbing more and more of its defense market, they have remained low-key about it. Aware of its limited options, Russia has tried to make the best of the situation, promoting official licensing and tech-transfer deals. While many of these licensing and technology-sharing agreements respond to China’s earlier technology thefts, they are also reflect Russia’s increasing international isolation. As far back as 2019, a representative from Rostec implied that U.S. pressure was harming its arms business with Turkey. In October 2021, just four months before Russia’s invasion of Ukraine, Rostec announced it would pull away from conducting dollar transactions and maintain strong business ties with East Asia. Last year, Rostec announced a full decoupling from Western countries in the aerospace field. Chinese firms have been more than happy to try to step into this void. This dependency has now turned from markets to military hardware itself. The perfect storm of Western sanctions and severed business and political ties have severely curtailed Russia’s options in supplying its own forces, especially as the war consumes far more parts than expected. China’s practice of purchasing Russian modeled weapons, largely for acquiring the technology to make itself, though, means China now has a large reserve of military hardware it can supply to Russia’s flagging war effort. In February, the Chinese firm AVIC International delivered $1.2 million in parts for Russia’s Su-35 fighter, which China began operating in 2018 and has been studying for its own fighter development. The PLA Air Force has also used a subsidiary to deliver critical components for Russia’s S-400 missile defense system. The deliveries also included navigation equipment for the Russian Mi1-71 helicopters, for which China now runs a maintenance center. In new technology areas, China has provided at least $12 million in drones and drone parts since the war began. As the war goes on, Russia will likely need even more of China’s military industrial capacity to keep elements of the Russian war machine on its feet. Russia faces massive sanctions from the international community, and its defense industry is being forced to source critical components through elaborate third-party arrangements, and even electronics cannibalized from washing machines and refrigerators. Their changing ambitions were recently summed up by Russia`s Kommersant newspaper: \"Technological sovereignty for the Russian Federation and China means two different things. China has set itself the task of producing the entire range of key products and possessing all key technologies as the global leader. For Russia...it is about the possession of a minimum set of technologies that would allow it to compete with the West and not lag behind in development.\" Under these conditions, China has even more leverage in a relationship that was already tilting its way. The accelerated loss of one of Russia’s few competitive edges against China and in the global market is among the many costs of Putin’s war. As Russia’s defense industry collapses, Chinese firms are moving to the fore in supplying not just the PLA, but also foreign markets that Russia once sold arms to, and even now to the Russian military itself. The new China-Russia defense industrial relationship can best be summed as beneficial to both parties, but one in which China ultimately benefits far more. Thomas Corbett is a research analyst with BluePath Labs. His areas of focus include Chinese foreign relations, emerging technology, and Indo-Pacific security studies.'"
      ]
     },
     "execution_count": 36,
     "metadata": {},
     "output_type": "execute_result"
    }
   ],
   "source": [
    "data[0]"
   ]
  },
  {
   "cell_type": "code",
   "execution_count": 37,
   "id": "b11a3113",
   "metadata": {},
   "outputs": [
    {
     "name": "stdout",
     "output_type": "stream",
     "text": [
      "['in', 'the', 'new', 'sino', 'russian', 'defense', 'relationship', 'china', 'does', 'what', 'it', 'wants', 'and', 'there', 'isn', 'whole', 'lot', 'russia', 'can', 'do', 'about', 'it', 'xi', 'jingping', 'recent', 'visit', 'to', 'moscow', 'his', 'first', 'since', 'vladimir', 'putin', 'invaded', 'ukraine', 'last', 'year', 'was', 'summed', 'up', 'by', 'historian', 'sergey', 'radchenko', 'in', 'this', 'way', 'the', 'summit', 'can', 'be', 'summarised', 'by', 'the', 'chinese', 'saying', '雷声大雨点小', 'loud', 'thunder', 'but', 'few', 'raindrops', 'scratch', 'that', 'even', 'the', 'thunder', 'wasn', 'all', 'that', 'loud', 'the', 'meeting', 'which', 'apparently', 'produced', 'no', 'major', 'policy', 'shifts', 'nor', 'even', 'notable', 'statements', 'of', 'support', 'did', 'further', 'illustrate', 'tectonic', 'shift', 'in', 'the', 'supposed', 'no', 'limits', 'relationship', 'china', 'is', 'taking', 'the', 'lead', 'in', 'nearly', 'every', 'aspect', 'including', 'in', 'the', 'defense', 'industrial', 'sphere', 'once', 'dominated', 'by', 'russia', 'russia', 'modern', 'defense', 'ties', 'to', 'china', 'go', 'back', 'to', 'the', 'when', 'the', 'new', 'communist', 'regime', 'in', 'moscow', 'initially', 'supported', 'the', 'kuomintang', 'rather', 'than', 'mao', 'forces', 'during', 'the', 'chinese', 'civil', 'war', 'and', 'in', 'the', 'battle', 'against', 'imperial', 'japan', 'but', 'stalin', 'eventually', 'came', 'to', 'back', 'the', 'chinese', 'communist', 'party', 'handing', 'over', 'manchuria', 'and', 'its', 'heavy', 'industry', 'in', 'then', 'supplying', 'economic', 'aid', 'and', 'helping', 'to', 'establish', 'the', 'nascent', 'people', 'republic', 'of', 'china', 'civilian', 'and', 'defense', 'manufacturing', 'sector', 'during', 'this', 'period', 'the', 'ussr', 'willingly', 'transferred', 'various', 'military', 'technologies', 'to', 'the', 'prc', 'including', 'systems', 'that', 'china', 'eventually', 'recast', 'into', 'the', 'and', 'the', 'fighter', 'aircraft', 'as', 'well', 'as', 'the', 'bomber', 'this', 'was', 'not', 'merely', 'an', 'expression', 'of', 'goodwill', 'by', 'allowing', 'an', 'ally', 'to', 'copy', 'their', 'designs', 'the', 'ussr', 'was', 'able', 'to', 'not', 'only', 'arm', 'close', 'partner', 'without', 'stressing', 'its', 'own', 'manufacturing', 'but', 'also', 'rely', 'on', 'them', 'for', 'supply', 'of', 'materiel', 'to', 'other', 'client', 'states', 'such', 'as', 'during', 'the', 'korean', 'war', 'their', 'strategic', 'partnership', 'frayed', 'as', 'the', 'cold', 'war', 'continued', 'yet', 'swathes', 'of', 'china', 'defense', 'industry', 'from', 'missiles', 'and', 'radar', 'to', 'warships', 'have', 'been', 'heavily', 'influenced', 'by', 'equivalent', 'soviet', 'and', 'then', 'russian', 'models', 'some', 'of', 'these', 'models', 'were', 'licensed', 'directly', 'from', 'russian', 'defense', 'conglomerates', 'others', 'were', 'either', 'stolen', 'or', 'legitimately', 'purchased', 'and', 'then', 'reverse', 'engineered', 'in', 'the', 'post', 'soviet', 'era', 'even', 'as', 'russian', 'firms', 'showed', 'more', 'concern', 'about', 'corporate', 'espionage', 'and', 'technological', 'theft', 'cooperation', 'between', 'the', 'two', 'countries', 'defense', 'industries', 'surged', 'again', 'this', 'is', 'not', 'just', 'reflection', 'of', 'their', 'increasingly', 'close', 'ties', 'but', 'also', 'because', 'defense', 'technology', 'is', 'rare', 'area', 'where', 'russian', 'products', 'remained', 'globally', 'competitive', 'and', 'better', 'than', 'their', 'chinese', 'counterparts', 'but', 'moscow', 'increasingly', 'grew', 'caught', 'in', 'dilemma', 'of', 'immediate', 'sales', 'versus', 'long', 'term', 'loss', 'it', 'has', 'consistently', 'taken', 'the', 'short', 'view', 'continuing', 'its', 'arms', 'sales', 'to', 'china', 'even', 'if', 'it', 'knows', 'that', 'its', 'eastern', 'partner', 'is', 'likely', 'to', 'copy', 'these', 'products', 'and', 'erode', 'its', 'advantage', 'this', 'policy', 'dilemma', 'has', 'been', 'compounded', 'by', 'the', 'post', 'ukraine', 'effect', 'on', 'russia', 'economy', 'which', 'has', 'left', 'the', 'russian', 'economy', 'increasingly', 'reliant', 'on', 'china', 'further', 'decreasing', 'any', 'remaining', 'leverage', 'in', 'the', 'relationship', 'aviation', 'and', 'air', 'defense', 'show', 'this', 'in', 'action', 'the', 'debuted', 'in', 'was', 'the', 'first', 'chinese', 'aircraft', 'made', 'after', 'the', 'fall', 'of', 'the', 'soviet', 'union', 'to', 'feature', 'significant', 'russian', 'input', 'it', 'began', 'as', 'an', 'officially', 'licensed', 'chinese', 'made', 'copy', 'of', 'the', 'russian', 'su', 'multirole', 'fighter', 'sale', 'welcomed', 'by', 'the', 'cash', 'strapped', 'kremlin', 'however', 'before', 'long', 'china', 'canceled', 'the', 'agreement', 'and', 'began', 'producing', 'the', 'aircraft', 'independently', 'going', 'on', 'to', 'build', 'over', 'of', 'them', 'loss', 'to', 'russia', 'of', 'roughly', 'million', 'or', 'more', 'in', 'sales', 'per', 'plane', 'this', 'appears', 'to', 'have', 'become', 'standard', 'operating', 'procedure', 'for', 'china', 'for', 'example', 'when', 'beijing', 'was', 'looking', 'to', 'upgrade', 'the', 'it', 'decided', 'the', 'best', 'method', 'was', 'to', 'purchase', 'russia', 'advanced', 'su', 'multirole', 'fighter', 'the', 'deal', 'was', 'completed', 'in', 'and', 'conspicuously', 'included', 'numerous', 'spare', 'turbofan', 'engines', 'china', 'then', 'reverse', 'engineered', 'the', 'engine', 'shoring', 'up', 'broader', 'area', 'of', 'continued', 'weakness', 'in', 'its', 'indigenous', 'arms', 'industry', 'an', 'even', 'more', 'accelerated', 'version', 'of', 'this', 'process', 'played', 'out', 'with', 'russia', 'su', 'carrier', 'based', 'fighter', 'china', 'obtained', 'an', 'early', 'version', 'and', 'began', 'producing', 'an', 'unlicensed', 'indigenous', 'version', 'the', 'similarly', 'china', 'defense', 'industry', 'has', 'bought', 'copied', 'and', 'adapted', 'russian', 'made', 'air', 'and', 'missile', 'defense', 'systems', 'apparently', 'with', 'russian', 'acquiescence', 'six', 'years', 'after', 'acquiring', 'russia', 'china', 'produced', 'its', 'own', 'copy', 'the', 'hq', 'which', 'still', 'serves', 'as', 'one', 'of', 'the', 'pla', 'primary', 'surface', 'to', 'air', 'missile', 'systems', 'likewise', 'the', 'chinese', 'hq', 'missile', 'system', 'was', 'copied', 'from', 'the', 'russia', 'buk', 'but', 'appears', 'to', 'have', 'been', 'made', 'in', 'full', 'collaboration', 'with', 'the', 'russian', 'almaz', 'antey', 'corporation', 'this', 'trend', 'continues', 'with', 'even', 'the', 'most', 'advanced', 'systems', 'as', 'china', 'purchased', 'the', 'state', 'of', 'the', 'art', 'in', 'began', 'testing', 'in', 'and', 'appears', 'to', 'be', 'currently', 'using', 'the', 'system', 'to', 'improve', 'its', 'own', 'designs', 'if', 'russian', 'officials', 'are', 'unhappy', 'with', 'china', 'slowly', 'absorbing', 'more', 'and', 'more', 'of', 'its', 'defense', 'market', 'they', 'have', 'remained', 'low', 'key', 'about', 'it', 'aware', 'of', 'its', 'limited', 'options', 'russia', 'has', 'tried', 'to', 'make', 'the', 'best', 'of', 'the', 'situation', 'promoting', 'official', 'licensing', 'and', 'tech', 'transfer', 'deals', 'while', 'many', 'of', 'these', 'licensing', 'and', 'technology', 'sharing', 'agreements', 'respond', 'to', 'china', 'earlier', 'technology', 'thefts', 'they', 'are', 'also', 'reflect', 'russia', 'increasing', 'international', 'isolation', 'as', 'far', 'back', 'as', 'representative', 'from', 'rostec', 'implied', 'that', 'pressure', 'was', 'harming', 'its', 'arms', 'business', 'with', 'turkey', 'in', 'october', 'just', 'four', 'months', 'before', 'russia', 'invasion', 'of', 'ukraine', 'rostec', 'announced', 'it', 'would', 'pull', 'away', 'from', 'conducting', 'dollar', 'transactions', 'and', 'maintain', 'strong', 'business', 'ties', 'with', 'east', 'asia', 'last', 'year', 'rostec', 'announced', 'full', 'decoupling', 'from', 'western', 'countries', 'in', 'the', 'aerospace', 'field', 'chinese', 'firms', 'have', 'been', 'more', 'than', 'happy', 'to', 'try', 'to', 'step', 'into', 'this', 'void', 'this', 'dependency', 'has', 'now', 'turned', 'from', 'markets', 'to', 'military', 'hardware', 'itself', 'the', 'perfect', 'storm', 'of', 'western', 'sanctions', 'and', 'severed', 'business', 'and', 'political', 'ties', 'have', 'severely', 'curtailed', 'russia', 'options', 'in', 'supplying', 'its', 'own', 'forces', 'especially', 'as', 'the', 'war', 'consumes', 'far', 'more', 'parts', 'than', 'expected', 'china', 'practice', 'of', 'purchasing', 'russian', 'modeled', 'weapons', 'largely', 'for', 'acquiring', 'the', 'technology', 'to', 'make', 'itself', 'though', 'means', 'china', 'now', 'has', 'large', 'reserve', 'of', 'military', 'hardware', 'it', 'can', 'supply', 'to', 'russia', 'flagging', 'war', 'effort', 'in', 'february', 'the', 'chinese', 'firm', 'avic', 'international', 'delivered', 'million', 'in', 'parts', 'for', 'russia', 'su', 'fighter', 'which', 'china', 'began', 'operating', 'in', 'and', 'has', 'been', 'studying', 'for', 'its', 'own', 'fighter', 'development', 'the', 'pla', 'air', 'force', 'has', 'also', 'used', 'subsidiary', 'to', 'deliver', 'critical', 'components', 'for', 'russia', 'missile', 'defense', 'system', 'the', 'deliveries', 'also', 'included', 'navigation', 'equipment', 'for', 'the', 'russian', 'mi', 'helicopters', 'for', 'which', 'china', 'now', 'runs', 'maintenance', 'center', 'in', 'new', 'technology', 'areas', 'china', 'has', 'provided', 'at', 'least', 'million', 'in', 'drones', 'and', 'drone', 'parts', 'since', 'the', 'war', 'began', 'as', 'the', 'war', 'goes', 'on', 'russia', 'will', 'likely', 'need', 'even', 'more', 'of', 'china', 'military', 'industrial', 'capacity', 'to', 'keep', 'elements', 'of', 'the', 'russian', 'war', 'machine', 'on', 'its', 'feet', 'russia', 'faces', 'massive', 'sanctions', 'from', 'the', 'international', 'community', 'and', 'its', 'defense', 'industry', 'is', 'being', 'forced', 'to', 'source', 'critical', 'components', 'through', 'elaborate', 'third', 'party', 'arrangements', 'and', 'even', 'electronics', 'cannibalized', 'from', 'washing', 'machines', 'and', 'refrigerators', 'their', 'changing', 'ambitions', 'were', 'recently', 'summed', 'up', 'by', 'russia', 'kommersant', 'newspaper', 'technological', 'sovereignty', 'for', 'the', 'russian', 'federation', 'and', 'china', 'means', 'two', 'different', 'things', 'china', 'has', 'set', 'itself', 'the', 'task', 'of', 'producing', 'the', 'entire', 'range', 'of', 'key', 'products', 'and', 'possessing', 'all', 'key', 'technologies', 'as', 'the', 'global', 'leader', 'for', 'russia', 'it', 'is', 'about', 'the', 'possession', 'of', 'minimum', 'set', 'of', 'technologies', 'that', 'would', 'allow', 'it', 'to', 'compete', 'with', 'the', 'west', 'and', 'not', 'lag', 'behind', 'in', 'development', 'under', 'these', 'conditions', 'china', 'has', 'even', 'more', 'leverage', 'in', 'relationship', 'that', 'was', 'already', 'tilting', 'its', 'way', 'the', 'accelerated', 'loss', 'of', 'one', 'of', 'russia', 'few', 'competitive', 'edges', 'against', 'china', 'and', 'in', 'the', 'global', 'market', 'is', 'among', 'the', 'many', 'costs', 'of', 'putin', 'war', 'as', 'russia', 'defense', 'industry', 'collapses', 'chinese', 'firms', 'are', 'moving', 'to', 'the', 'fore', 'in', 'supplying', 'not', 'just', 'the', 'pla', 'but', 'also', 'foreign', 'markets', 'that', 'russia', 'once', 'sold', 'arms', 'to', 'and', 'even', 'now', 'to', 'the', 'russian', 'military', 'itself', 'the', 'new', 'china', 'russia', 'defense', 'industrial', 'relationship', 'can', 'best', 'be', 'summed', 'as', 'beneficial', 'to', 'both', 'parties', 'but', 'one', 'in', 'which', 'china', 'ultimately', 'benefits', 'far', 'more', 'thomas', 'corbett', 'is', 'research', 'analyst', 'with', 'bluepath', 'labs', 'his', 'areas', 'of', 'focus', 'include', 'chinese', 'foreign', 'relations', 'emerging', 'technology', 'and', 'indo', 'pacific', 'security', 'studies']\n"
     ]
    }
   ],
   "source": [
    "def sent_to_words(sentences):\n",
    "    for sentence in sentences:\n",
    "        yield(gensim.utils.simple_preprocess(str(sentence), deacc=True))  # deacc=True removes punctuations\n",
    "\n",
    "data_words = list(sent_to_words(data))\n",
    "\n",
    "print(data_words[0])"
   ]
  },
  {
   "cell_type": "markdown",
   "id": "f9a46696",
   "metadata": {},
   "source": [
    "## Remove Stopwords and Lemmatize"
   ]
  },
  {
   "cell_type": "code",
   "execution_count": 38,
   "id": "28a49572",
   "metadata": {},
   "outputs": [],
   "source": [
    "# Define functions for stopwords and lemmatization\n",
    "def remove_stopwords(texts):\n",
    "    return [[word for word in doc if word not in stop_words] for doc in texts]\n",
    "\n",
    "\n",
    "def lemmatization(texts, allowed_postags=['NOUN', 'ADJ', 'VERB', 'ADV']):\n",
    "    \"\"\"https://urldefense.com/v3/__https://spacy.io/api/annotation*5C*22*5C*22*5C*22*5Cn*22__;JSUlJSUlJSU!!Mih3wA!Dv1Y8-TZvzgpG7BNRn6wWJ8dFMa3iq6ddyBsbMm0sJHwPuDeRevA3RvzUOzNc1fSryw05XnVXTC3PyZOww$ ,
    "    texts_out = []\n",
    "    for sent in texts:\n",
    "        doc = nlp(\" \".join(sent)) \n",
    "        texts_out.append([token.lemma_ for token in doc if token.pos_ in allowed_postags])\n",
    "    return texts_out"
   ]
  },
  {
   "cell_type": "code",
   "execution_count": 39,
   "id": "d688f0b6",
   "metadata": {},
   "outputs": [
    {
     "name": "stdout",
     "output_type": "stream",
     "text": [
      "['in', 'the', 'new', 'sino', 'russian', 'defense', 'relationship', 'china', 'does', 'what', 'it', 'wants', 'and', 'there', 'isn', 'whole', 'lot', 'russia', 'can', 'do', 'about', 'it', 'xi', 'jingping', 'recent', 'visit', 'to', 'moscow', 'his', 'first', 'since', 'vladimir', 'putin', 'invaded', 'ukraine', 'last', 'year', 'was', 'summed', 'up', 'by', 'historian', 'sergey', 'radchenko', 'in', 'this', 'way', 'the', 'summit', 'can', 'be', 'summarised', 'by', 'the', 'chinese', 'saying', '雷声大雨点小', 'loud', 'thunder', 'but', 'few', 'raindrops', 'scratch', 'that', 'even', 'the', 'thunder', 'wasn', 'all', 'that', 'loud', 'the', 'meeting', 'which', 'apparently', 'produced', 'no', 'major', 'policy', 'shifts', 'nor', 'even', 'notable', 'statements', 'of', 'support', 'did', 'further', 'illustrate', 'tectonic', 'shift', 'in', 'the', 'supposed', 'no', 'limits', 'relationship', 'china', 'is', 'taking', 'the', 'lead', 'in', 'nearly', 'every', 'aspect', 'including', 'in', 'the', 'defense', 'industrial', 'sphere', 'once', 'dominated', 'by', 'russia', 'russia', 'modern', 'defense', 'ties', 'to', 'china', 'go', 'back', 'to', 'the', 'when', 'the', 'new', 'communist', 'regime', 'in', 'moscow', 'initially', 'supported', 'the', 'kuomintang', 'rather', 'than', 'mao', 'forces', 'during', 'the', 'chinese', 'civil', 'war', 'and', 'in', 'the', 'battle', 'against', 'imperial', 'japan', 'but', 'stalin', 'eventually', 'came', 'to', 'back', 'the', 'chinese', 'communist', 'party', 'handing', 'over', 'manchuria', 'and', 'its', 'heavy', 'industry', 'in', 'then', 'supplying', 'economic', 'aid', 'and', 'helping', 'to', 'establish', 'the', 'nascent', 'people', 'republic', 'of', 'china', 'civilian', 'and', 'defense', 'manufacturing', 'sector', 'during', 'this', 'period', 'the', 'ussr', 'willingly', 'transferred', 'various', 'military', 'technologies', 'to', 'the', 'prc', 'including', 'systems', 'that', 'china', 'eventually', 'recast', 'into', 'the', 'and', 'the', 'fighter', 'aircraft', 'as', 'well', 'as', 'the', 'bomber', 'this', 'was', 'not', 'merely', 'an', 'expression', 'of', 'goodwill', 'by', 'allowing', 'an', 'ally', 'to', 'copy', 'their', 'designs', 'the', 'ussr', 'was', 'able', 'to', 'not', 'only', 'arm', 'close', 'partner', 'without', 'stressing', 'its', 'own', 'manufacturing', 'but', 'also', 'rely', 'on', 'them', 'for', 'supply', 'of', 'materiel', 'to', 'other', 'client', 'states', 'such', 'as', 'during', 'the', 'korean', 'war', 'their', 'strategic', 'partnership', 'frayed', 'as', 'the', 'cold', 'war', 'continued', 'yet', 'swathes', 'of', 'china', 'defense', 'industry', 'from', 'missiles', 'and', 'radar', 'to', 'warships', 'have', 'been', 'heavily', 'influenced', 'by', 'equivalent', 'soviet', 'and', 'then', 'russian', 'models', 'some', 'of', 'these', 'models', 'were', 'licensed', 'directly', 'from', 'russian', 'defense', 'conglomerates', 'others', 'were', 'either', 'stolen', 'or', 'legitimately', 'purchased', 'and', 'then', 'reverse', 'engineered', 'in', 'the', 'post', 'soviet', 'era', 'even', 'as', 'russian', 'firms', 'showed', 'more', 'concern', 'about', 'corporate', 'espionage', 'and', 'technological', 'theft', 'cooperation', 'between', 'the', 'two', 'countries', 'defense', 'industries', 'surged', 'again', 'this', 'is', 'not', 'just', 'reflection', 'of', 'their', 'increasingly', 'close', 'ties', 'but', 'also', 'because', 'defense', 'technology', 'is', 'rare', 'area', 'where', 'russian', 'products', 'remained', 'globally', 'competitive', 'and', 'better', 'than', 'their', 'chinese', 'counterparts', 'but', 'moscow', 'increasingly', 'grew', 'caught', 'in', 'dilemma', 'of', 'immediate', 'sales', 'versus', 'long', 'term', 'loss', 'it', 'has', 'consistently', 'taken', 'the', 'short', 'view', 'continuing', 'its', 'arms', 'sales', 'to', 'china', 'even', 'if', 'it', 'knows', 'that', 'its', 'eastern', 'partner', 'is', 'likely', 'to', 'copy', 'these', 'products', 'and', 'erode', 'its', 'advantage', 'this', 'policy', 'dilemma', 'has', 'been', 'compounded', 'by', 'the', 'post', 'ukraine', 'effect', 'on', 'russia', 'economy', 'which', 'has', 'left', 'the', 'russian', 'economy', 'increasingly', 'reliant', 'on', 'china', 'further', 'decreasing', 'any', 'remaining', 'leverage', 'in', 'the', 'relationship', 'aviation', 'and', 'air', 'defense', 'show', 'this', 'in', 'action', 'the', 'debuted', 'in', 'was', 'the', 'first', 'chinese', 'aircraft', 'made', 'after', 'the', 'fall', 'of', 'the', 'soviet', 'union', 'to', 'feature', 'significant', 'russian', 'input', 'it', 'began', 'as', 'an', 'officially', 'licensed', 'chinese', 'made', 'copy', 'of', 'the', 'russian', 'su', 'multirole', 'fighter', 'sale', 'welcomed', 'by', 'the', 'cash', 'strapped', 'kremlin', 'however', 'before', 'long', 'china', 'canceled', 'the', 'agreement', 'and', 'began', 'producing', 'the', 'aircraft', 'independently', 'going', 'on', 'to', 'build', 'over', 'of', 'them', 'loss', 'to', 'russia', 'of', 'roughly', 'million', 'or', 'more', 'in', 'sales', 'per', 'plane', 'this', 'appears', 'to', 'have', 'become', 'standard', 'operating', 'procedure', 'for', 'china', 'for', 'example', 'when', 'beijing', 'was', 'looking', 'to', 'upgrade', 'the', 'it', 'decided', 'the', 'best', 'method', 'was', 'to', 'purchase', 'russia', 'advanced', 'su', 'multirole', 'fighter', 'the', 'deal', 'was', 'completed', 'in', 'and', 'conspicuously', 'included', 'numerous', 'spare', 'turbofan', 'engines', 'china', 'then', 'reverse', 'engineered', 'the', 'engine', 'shoring', 'up', 'broader', 'area', 'of', 'continued', 'weakness', 'in', 'its', 'indigenous', 'arms', 'industry', 'an', 'even', 'more', 'accelerated', 'version', 'of', 'this', 'process', 'played', 'out', 'with', 'russia', 'su', 'carrier', 'based', 'fighter', 'china', 'obtained', 'an', 'early', 'version', 'and', 'began', 'producing', 'an', 'unlicensed', 'indigenous', 'version', 'the', 'similarly', 'china', 'defense', 'industry', 'has', 'bought', 'copied', 'and', 'adapted', 'russian', 'made', 'air', 'and', 'missile', 'defense', 'systems', 'apparently', 'with', 'russian', 'acquiescence', 'six', 'years', 'after', 'acquiring', 'russia', 'china', 'produced', 'its', 'own', 'copy', 'the', 'hq', 'which', 'still', 'serves', 'as', 'one', 'of', 'the', 'pla', 'primary', 'surface', 'to', 'air', 'missile', 'systems', 'likewise', 'the', 'chinese', 'hq', 'missile', 'system', 'was', 'copied', 'from', 'the', 'russia', 'buk', 'but', 'appears', 'to', 'have', 'been', 'made', 'in', 'full', 'collaboration', 'with', 'the', 'russian', 'almaz', 'antey', 'corporation', 'this', 'trend', 'continues', 'with', 'even', 'the', 'most', 'advanced', 'systems', 'as', 'china', 'purchased', 'the', 'state', 'of', 'the', 'art', 'in', 'began', 'testing', 'in', 'and', 'appears', 'to', 'be', 'currently', 'using', 'the', 'system', 'to', 'improve', 'its', 'own', 'designs', 'if', 'russian', 'officials', 'are', 'unhappy', 'with', 'china', 'slowly', 'absorbing', 'more', 'and', 'more', 'of', 'its', 'defense', 'market', 'they', 'have', 'remained', 'low', 'key', 'about', 'it', 'aware', 'of', 'its', 'limited', 'options', 'russia', 'has', 'tried', 'to', 'make', 'the', 'best', 'of', 'the', 'situation', 'promoting', 'official', 'licensing', 'and', 'tech', 'transfer', 'deals', 'while', 'many', 'of', 'these', 'licensing', 'and', 'technology', 'sharing', 'agreements', 'respond', 'to', 'china', 'earlier', 'technology', 'thefts', 'they', 'are', 'also', 'reflect', 'russia', 'increasing', 'international', 'isolation', 'as', 'far', 'back', 'as', 'representative', 'from', 'rostec', 'implied', 'that', 'pressure', 'was', 'harming', 'its', 'arms', 'business', 'with', 'turkey', 'in', 'october', 'just', 'four', 'months', 'before', 'russia', 'invasion', 'of', 'ukraine', 'rostec', 'announced', 'it', 'would', 'pull', 'away', 'from', 'conducting', 'dollar', 'transactions', 'and', 'maintain', 'strong', 'business', 'ties', 'with', 'east', 'asia', 'last', 'year', 'rostec', 'announced', 'full', 'decoupling', 'from', 'western', 'countries', 'in', 'the', 'aerospace', 'field', 'chinese', 'firms', 'have', 'been', 'more', 'than', 'happy', 'to', 'try', 'to', 'step', 'into', 'this', 'void', 'this', 'dependency', 'has', 'now', 'turned', 'from', 'markets', 'to', 'military', 'hardware', 'itself', 'the', 'perfect', 'storm', 'of', 'western', 'sanctions', 'and', 'severed', 'business', 'and', 'political', 'ties', 'have', 'severely', 'curtailed', 'russia', 'options', 'in', 'supplying', 'its', 'own', 'forces', 'especially', 'as', 'the', 'war', 'consumes', 'far', 'more', 'parts', 'than', 'expected', 'china', 'practice', 'of', 'purchasing', 'russian', 'modeled', 'weapons', 'largely', 'for', 'acquiring', 'the', 'technology', 'to', 'make', 'itself', 'though', 'means', 'china', 'now', 'has', 'large', 'reserve', 'of', 'military', 'hardware', 'it', 'can', 'supply', 'to', 'russia', 'flagging', 'war', 'effort', 'in', 'february', 'the', 'chinese', 'firm', 'avic', 'international', 'delivered', 'million', 'in', 'parts', 'for', 'russia', 'su', 'fighter', 'which', 'china', 'began', 'operating', 'in', 'and', 'has', 'been', 'studying', 'for', 'its', 'own', 'fighter', 'development', 'the', 'pla', 'air', 'force', 'has', 'also', 'used', 'subsidiary', 'to', 'deliver', 'critical', 'components', 'for', 'russia', 'missile', 'defense', 'system', 'the', 'deliveries', 'also', 'included', 'navigation', 'equipment', 'for', 'the', 'russian', 'mi', 'helicopters', 'for', 'which', 'china', 'now', 'runs', 'maintenance', 'center', 'in', 'new', 'technology', 'areas', 'china', 'has', 'provided', 'at', 'least', 'million', 'in', 'drones', 'and', 'drone', 'parts', 'since', 'the', 'war', 'began', 'as', 'the', 'war', 'goes', 'on', 'russia', 'will', 'likely', 'need', 'even', 'more', 'of', 'china', 'military', 'industrial', 'capacity', 'to', 'keep', 'elements', 'of', 'the', 'russian', 'war', 'machine', 'on', 'its', 'feet', 'russia', 'faces', 'massive', 'sanctions', 'from', 'the', 'international', 'community', 'and', 'its', 'defense', 'industry', 'is', 'being', 'forced', 'to', 'source', 'critical', 'components', 'through', 'elaborate', 'third', 'party', 'arrangements', 'and', 'even', 'electronics', 'cannibalized', 'from', 'washing', 'machines', 'and', 'refrigerators', 'their', 'changing', 'ambitions', 'were', 'recently', 'summed', 'up', 'by', 'russia', 'kommersant', 'newspaper', 'technological', 'sovereignty', 'for', 'the', 'russian', 'federation', 'and', 'china', 'means', 'two', 'different', 'things', 'china', 'has', 'set', 'itself', 'the', 'task', 'of', 'producing', 'the', 'entire', 'range', 'of', 'key', 'products', 'and', 'possessing', 'all', 'key', 'technologies', 'as', 'the', 'global', 'leader', 'for', 'russia', 'it', 'is', 'about', 'the', 'possession', 'of', 'minimum', 'set', 'of', 'technologies', 'that', 'would', 'allow', 'it', 'to', 'compete', 'with', 'the', 'west', 'and', 'not', 'lag', 'behind', 'in', 'development', 'under', 'these', 'conditions', 'china', 'has', 'even', 'more', 'leverage', 'in', 'relationship', 'that', 'was', 'already', 'tilting', 'its', 'way', 'the', 'accelerated', 'loss', 'of', 'one', 'of', 'russia', 'few', 'competitive', 'edges', 'against', 'china', 'and', 'in', 'the', 'global', 'market', 'is', 'among', 'the', 'many', 'costs', 'of', 'putin', 'war', 'as', 'russia', 'defense', 'industry', 'collapses', 'chinese', 'firms', 'are', 'moving', 'to', 'the', 'fore', 'in', 'supplying', 'not', 'just', 'the', 'pla', 'but', 'also', 'foreign', 'markets', 'that', 'russia', 'once', 'sold', 'arms', 'to', 'and', 'even', 'now', 'to', 'the', 'russian', 'military', 'itself', 'the', 'new', 'china', 'russia', 'defense', 'industrial', 'relationship', 'can', 'best', 'be', 'summed', 'as', 'beneficial', 'to', 'both', 'parties', 'but', 'one', 'in', 'which', 'china', 'ultimately', 'benefits', 'far', 'more', 'thomas', 'corbett', 'is', 'research', 'analyst', 'with', 'bluepath', 'labs', 'his', 'areas', 'of', 'focus', 'include', 'chinese', 'foreign', 'relations', 'emerging', 'technology', 'and', 'indo', 'pacific', 'security', 'studies']\n"
     ]
    }
   ],
   "source": [
    "print(data_words[0])"
   ]
  },
  {
   "cell_type": "code",
   "execution_count": 43,
   "id": "fb6d1a6c",
   "metadata": {},
   "outputs": [
    {
     "name": "stdout",
     "output_type": "stream",
     "text": [
      "['new', 'sino', 'russian', 'defense', 'want', 'whole', 'lot', 'jingpe', 'recent', 'visit', 'first', 'invade', 'last', 'year', 'sum', 'radchenko', 'way', 'summit', 'summarise', 'say', '雷声大雨点小', 'loud', 'thunder', 'raindrop', 'even', 'thunder', 'loud', 'meeting', 'apparently', 'produce', 'major', 'policy', 'shift', 'even', 'notable', 'statement', 'support', 'illustrate', 'tectonic', 'shift', 'suppose', 'limit', 'relationship', 'take', 'lead', 'nearly', 'aspect', 'include', 'defense', 'industrial', 'sphere', 'dominate', 'modern', 'defense', 'tie', 'go', 'back', 'new', 'communist', 'regime', 'initially', 'support', 'rather', 'force', 'chinese', 'civil', 'war', 'battle', 'imperial', 'eventually', 'come', 'back', 'chinese', 'handing', 'heavy', 'industry', 'supply', 'economic', 'aid', 'help', 'establish', 'nascent', 'defense', 'manufacturing', 'sector', 'period', 'willingly', 'transfer', 'various', 'military', 'technology', 'include', 'system', 'eventually', 'recast', 'fighter', 'aircraft', 'well', 'bomber', 'merely', 'expression', 'goodwill', 'allow', 'ally', 'copy', 'design', 'ussr', 'able', 'arm', 'close', 'partner', 'stress', 'manufacturing', 'also', 'rely', 'supply', 'state', 'korean', 'war', 'strategic', 'partnership', 'fray', 'cold', 'war', 'continue', 'yet', 'swathe', 'defense', 'industry', 'missile', 'radar', 'warship', 'heavily', 'influence', 'equivalent', 'soviet', 'russian', 'model', 'model', 'license', 'directly', 'russian', 'defense', 'conglomerate', 'other', 'steal', 'legitimately', 'purchase', 'reverse', 'engineer', 'post', 'soviet', 'era', 'even', 'russian', 'firm', 'show', 'concern', 'corporate', 'espionage', 'technological', 'theft', 'cooperation', 'country', 'defense', 'industry', 'surge', 'reflection', 'increasingly', 'close', 'tie', 'also', 'defense', 'technology', 'rare', 'area', 'russian', 'product', 'remain', 'globally', 'competitive', 'well', 'chinese', 'counterpart', 'increasingly', 'grow', 'catch', 'dilemma', 'immediate', 'sale', 'long', 'term', 'loss', 'consistently', 'take', 'short', 'view', 'continue', 'arm', 'sale', 'even', 'know', 'eastern', 'partner', 'likely', 'copy', 'product', 'erode', 'advantage', 'policy', 'dilemma', 'compound', 'effect', 'economy', 'leave', 'russian', 'economy', 'increasingly', 'reliant', 'decrease', 'remain', 'leverage', 'relationship', 'aviation', 'air', 'defense', 'show', 'action', 'debut', 'first', 'chinese', 'aircraft', 'make', 'fall', 'feature', 'significant', 'russian', 'input', 'begin', 'officially', 'license', 'make', 'copy', 'fighter', 'sale', 'welcome', 'cash', 'strapped', 'however', 'long', 'cancel', 'agreement', 'begin', 'produce', 'aircraft', 'independently', 'go', 'build', 'loss', 'roughly', 'sale', 'plane', 'appear', 'become', 'standard', 'operate', 'procedure', 'example', 'look', 'upgrade', 'decide', 'good', 'method', 'purchase', 'advance', 'fighter', 'deal', 'complete', 'conspicuously', 'include', 'numerous', 'spare', 'turbofan', 'engine', 'reverse', 'engineer', 'engine', 'shore', 'broad', 'area', 'continue', 'weakness', 'indigenous', 'arm', 'industry', 'even', 'accelerate', 'version', 'process', 'play', 'base', 'fighter', 'obtain', 'early', 'version', 'begin', 'produce', 'unlicensed', 'indigenous', 'version', 'similarly', 'industry', 'buy', 'copy', 'adapt', 'make', 'air', 'missile', 'defense', 'system', 'apparently', 'russian', 'acquiescence', 'year', 'acquire', 'produce', 'copy', 'still', 'serve', 'pla', 'primary', 'surface', 'air', 'missile', 'system', 'likewise', 'missile', 'system', 'copy', 'appear', 'make', 'full', 'collaboration', 'russian', 'almaz', 'trend', 'continue', 'even', 'advanced', 'system', 'purchase', 'state', 'art', 'begin', 'testing', 'appear', 'currently', 'use', 'system', 'improve', 'design', 'russian', 'official', 'unhappy', 'slowly', 'absorb', 'defense', 'market', 'remain', 'low', 'key', 'aware', 'limited', 'option', 'try', 'make', 'good', 'situation', 'promote', 'official', 'licensing', 'tech', 'transfer', 'deal', 'many', 'license', 'technology', 'share', 'agreement', 'respond', 'early', 'technology', 'theft', 'also', 'reflect', 'increase', 'international', 'isolation', 'far', 'back', 'representative', 'rostec', 'imply', 'pressure', 'harm', 'arm', 'business', 'month', 'invasion', 'rostec', 'announce', 'pull', 'away', 'conduct', 'dollar', 'transaction', 'maintain', 'strong', 'business', 'tie', 'last', 'year', 'rostec', 'announce', 'full', 'decouple', 'western', 'country', 'aerospace', 'field', 'chinese', 'firm', 'happy', 'try', 'step', 'void', 'dependency', 'turn', 'market', 'military', 'hardware', 'perfect', 'storm', 'western', 'sanction', 'sever', 'business', 'political', 'tie', 'severely', 'curtail', 'option', 'supply', 'force', 'especially', 'war', 'consume', 'far', 'part', 'expect', 'practice', 'purchase', 'russian', 'model', 'weapon', 'largely', 'acquire', 'technology', 'make', 'mean', 'military', 'hardware', 'supply', 'flag', 'war', 'effort', 'deliver', 'part', 'begin', 'operate', 'study', 'fighter', 'development', 'air', 'force', 'also', 'use', 'subsidiary', 'deliver', 'critical', 'component', 'missile', 'defense', 'system', 'delivery', 'also', 'include', 'navigation', 'equipment', 'russian', 'helicopter', 'run', 'maintenance', 'center', 'new', 'technology', 'area', 'provide', 'least', 'drone', 'drone', 'part', 'war', 'begin', 'war', 'go', 'likely', 'need', 'even', 'military', 'industrial', 'capacity', 'keep', 'element', 'russian', 'war', 'machine', 'foot', 'face', 'massive', 'sanction', 'international', 'community', 'defense', 'industry', 'force', 'source', 'critical', 'component', 'elaborate', 'third', 'party', 'arrangement', 'even', 'electronic', 'cannibalize', 'washing', 'machine', 'refrigerator', 'change', 'ambition', 'recently', 'sum', 'technological', 'sovereignty', 'mean', 'different', 'thing', 'set', 'task', 'produce', 'entire', 'range', 'key', 'product', 'possess', 'key', 'technology', 'global', 'leader', 'possession', 'minimum', 'set', 'technology', 'allow', 'compete', 'development', 'condition', 'even', 'relationship', 'already', 'tilt', 'way', 'accelerate', 'loss', 'competitive', 'edge', 'global', 'market', 'many', 'cost', 'defense', 'industry', 'collapse', 'chinese', 'firm', 'move', 'fore', 'supply', 'pla', 'also', 'foreign', 'market', 'sell', 'arm', 'even', 'russian', 'military', 'industrial', 'relationship', 'well', 'sum', 'beneficial', 'party', 'ultimately', 'benefit', 'far', 'analyst', 'area', 'focus', 'include', 'chinese', 'foreign', 'relation', 'emerge', 'technology', 'indo', 'security', 'study']\n"
     ]
    }
   ],
   "source": [
    "# Remove Stop Words\n",
    "data_words_nostops = remove_stopwords(data_words)\n",
    "\n",
    "# Initialize spacy 'en' model, keeping only tagger component (for efficiency)\n",
    "# python3 -m spacy download en\n",
    "nlp = spacy.load('en_core_web_sm', disable=['parser', 'ner'])\n",
    "\n",
    "# Do lemmatization keeping only noun, adj, vb, adv\n",
    "data_lemmatized = lemmatization(data_words_nostops, allowed_postags=['NOUN', 'ADJ', 'VERB', 'ADV'])\n",
    "\n",
    "print(data_lemmatized[0])"
   ]
  },
  {
   "cell_type": "code",
   "execution_count": 59,
   "id": "7b01b7bf-6a05-41e3-9ea6-843e071b3ec4",
   "metadata": {},
   "outputs": [
    {
     "name": "stdout",
     "output_type": "stream",
     "text": [
      "['in', 'the', 'new', 'sino', 'russian', 'defense', 'relationship', 'china', 'does', 'what', 'it', 'wants', 'and', 'there', 'isn', 'whole', 'lot', 'russia', 'can', 'do', 'about', 'it', 'xi', 'jingping', 'recent', 'visit', 'to', 'moscow', 'his', 'first', 'since', 'vladimir_putin', 'invaded_ukraine', 'last', 'year', 'was', 'summed', 'up', 'by', 'historian', 'sergey_radchenko', 'in', 'this', 'way', 'the', 'summit', 'can', 'be', 'summarised', 'by', 'the', 'chinese', 'saying', '雷声大雨点小', 'loud', 'thunder', 'but', 'few', 'raindrops', 'scratch', 'that', 'even', 'the', 'thunder', 'wasn', 'all', 'that', 'loud', 'the', 'meeting', 'which', 'apparently', 'produced', 'no', 'major', 'policy', 'shifts', 'nor', 'even', 'notable', 'statements', 'of', 'support', 'did', 'further', 'illustrate', 'tectonic', 'shift', 'in', 'the', 'supposed', 'no', 'limits', 'relationship', 'china', 'is', 'taking', 'the', 'lead', 'in', 'nearly', 'every_aspect', 'including', 'in', 'the', 'defense', 'industrial', 'sphere', 'once', 'dominated', 'by', 'russia', 'russia', 'modern', 'defense', 'ties', 'to', 'china', 'go', 'back', 'to', 'the', 'when', 'the', 'new', 'communist_regime', 'in', 'moscow', 'initially', 'supported', 'the', 'kuomintang', 'rather_than', 'mao', 'forces', 'during', 'the', 'chinese', 'civil_war', 'and', 'in', 'the', 'battle', 'against', 'imperial', 'japan', 'but', 'stalin', 'eventually', 'came', 'to', 'back', 'the', 'chinese', 'communist_party', 'handing', 'over', 'manchuria', 'and', 'its', 'heavy', 'industry', 'in', 'then', 'supplying', 'economic', 'aid', 'and', 'helping', 'to', 'establish', 'the', 'nascent', 'people', 'republic', 'of', 'china', 'civilian', 'and', 'defense', 'manufacturing', 'sector', 'during', 'this', 'period', 'the', 'ussr', 'willingly', 'transferred', 'various', 'military', 'technologies', 'to', 'the', 'prc', 'including', 'systems', 'that', 'china', 'eventually', 'recast', 'into', 'the', 'and', 'the', 'fighter', 'aircraft', 'as', 'well', 'as', 'the', 'bomber', 'this', 'was', 'not', 'merely', 'an', 'expression', 'of', 'goodwill', 'by', 'allowing', 'an', 'ally', 'to', 'copy', 'their', 'designs', 'the', 'ussr', 'was', 'able', 'to', 'not', 'only', 'arm', 'close', 'partner', 'without', 'stressing', 'its', 'own', 'manufacturing', 'but', 'also', 'rely', 'on', 'them', 'for', 'supply', 'of', 'materiel', 'to', 'other', 'client', 'states', 'such', 'as', 'during', 'the', 'korean', 'war', 'their', 'strategic_partnership', 'frayed', 'as', 'the', 'cold_war', 'continued', 'yet', 'swathes', 'of', 'china', 'defense', 'industry', 'from', 'missiles', 'and', 'radar', 'to', 'warships', 'have', 'been', 'heavily', 'influenced', 'by', 'equivalent', 'soviet', 'and', 'then', 'russian', 'models', 'some', 'of', 'these', 'models', 'were', 'licensed', 'directly', 'from', 'russian', 'defense', 'conglomerates', 'others', 'were', 'either', 'stolen', 'or', 'legitimately', 'purchased', 'and', 'then', 'reverse_engineered', 'in', 'the', 'post', 'soviet', 'era', 'even', 'as', 'russian', 'firms', 'showed', 'more', 'concern', 'about', 'corporate', 'espionage', 'and', 'technological', 'theft', 'cooperation', 'between', 'the', 'two', 'countries', 'defense', 'industries', 'surged', 'again', 'this', 'is', 'not', 'just', 'reflection', 'of', 'their', 'increasingly', 'close', 'ties', 'but', 'also', 'because', 'defense', 'technology', 'is', 'rare', 'area', 'where', 'russian', 'products', 'remained', 'globally', 'competitive', 'and', 'better', 'than', 'their', 'chinese', 'counterparts', 'but', 'moscow', 'increasingly', 'grew', 'caught', 'in', 'dilemma', 'of', 'immediate', 'sales', 'versus', 'long_term', 'loss', 'it', 'has', 'consistently', 'taken', 'the', 'short', 'view', 'continuing', 'its', 'arms', 'sales', 'to', 'china', 'even', 'if', 'it', 'knows', 'that', 'its', 'eastern', 'partner', 'is', 'likely', 'to', 'copy', 'these', 'products', 'and', 'erode', 'its', 'advantage', 'this', 'policy', 'dilemma', 'has', 'been', 'compounded', 'by', 'the', 'post', 'ukraine', 'effect', 'on', 'russia', 'economy', 'which', 'has', 'left', 'the', 'russian', 'economy', 'increasingly', 'reliant', 'on', 'china', 'further', 'decreasing', 'any', 'remaining', 'leverage', 'in', 'the', 'relationship', 'aviation', 'and', 'air', 'defense', 'show', 'this', 'in', 'action', 'the', 'debuted', 'in', 'was', 'the', 'first', 'chinese', 'aircraft', 'made', 'after', 'the', 'fall', 'of', 'the', 'soviet_union', 'to', 'feature', 'significant', 'russian', 'input', 'it', 'began', 'as', 'an', 'officially', 'licensed', 'chinese', 'made', 'copy', 'of', 'the', 'russian', 'su', 'multirole_fighter', 'sale', 'welcomed', 'by', 'the', 'cash_strapped', 'kremlin', 'however', 'before', 'long', 'china', 'canceled', 'the', 'agreement', 'and', 'began', 'producing', 'the', 'aircraft', 'independently', 'going', 'on', 'to', 'build', 'over', 'of', 'them', 'loss', 'to', 'russia', 'of', 'roughly', 'million', 'or', 'more', 'in', 'sales', 'per', 'plane', 'this', 'appears', 'to', 'have', 'become', 'standard', 'operating', 'procedure', 'for', 'china', 'for', 'example', 'when', 'beijing', 'was', 'looking', 'to', 'upgrade', 'the', 'it', 'decided', 'the', 'best', 'method', 'was', 'to', 'purchase', 'russia', 'advanced', 'su', 'multirole_fighter', 'the', 'deal', 'was', 'completed', 'in', 'and', 'conspicuously', 'included', 'numerous', 'spare', 'turbofan', 'engines', 'china', 'then', 'reverse_engineered', 'the', 'engine', 'shoring', 'up', 'broader', 'area', 'of', 'continued', 'weakness', 'in', 'its', 'indigenous', 'arms', 'industry', 'an', 'even', 'more', 'accelerated', 'version', 'of', 'this', 'process', 'played', 'out', 'with', 'russia', 'su', 'carrier', 'based', 'fighter', 'china', 'obtained', 'an', 'early', 'version', 'and', 'began', 'producing', 'an', 'unlicensed', 'indigenous', 'version', 'the', 'similarly', 'china', 'defense', 'industry', 'has', 'bought', 'copied', 'and', 'adapted', 'russian', 'made', 'air', 'and', 'missile', 'defense', 'systems', 'apparently', 'with', 'russian', 'acquiescence', 'six', 'years', 'after', 'acquiring', 'russia', 'china', 'produced', 'its', 'own', 'copy', 'the', 'hq', 'which', 'still', 'serves', 'as', 'one', 'of', 'the', 'pla', 'primary', 'surface', 'to', 'air', 'missile', 'systems', 'likewise', 'the', 'chinese', 'hq', 'missile', 'system', 'was', 'copied', 'from', 'the', 'russia', 'buk', 'but', 'appears', 'to', 'have', 'been', 'made', 'in', 'full', 'collaboration', 'with', 'the', 'russian', 'almaz', 'antey', 'corporation', 'this', 'trend', 'continues', 'with', 'even', 'the', 'most', 'advanced', 'systems', 'as', 'china', 'purchased', 'the', 'state', 'of', 'the', 'art', 'in', 'began', 'testing', 'in', 'and', 'appears', 'to', 'be', 'currently', 'using', 'the', 'system', 'to', 'improve', 'its', 'own', 'designs', 'if', 'russian', 'officials', 'are', 'unhappy', 'with', 'china', 'slowly', 'absorbing', 'more', 'and', 'more', 'of', 'its', 'defense', 'market', 'they', 'have', 'remained', 'low', 'key', 'about', 'it', 'aware', 'of', 'its', 'limited', 'options', 'russia', 'has', 'tried', 'to', 'make', 'the', 'best', 'of', 'the', 'situation', 'promoting', 'official', 'licensing', 'and', 'tech', 'transfer', 'deals', 'while', 'many', 'of', 'these', 'licensing', 'and', 'technology', 'sharing', 'agreements', 'respond', 'to', 'china', 'earlier', 'technology', 'thefts', 'they', 'are', 'also', 'reflect', 'russia', 'increasing', 'international', 'isolation', 'as', 'far', 'back', 'as', 'representative', 'from', 'rostec', 'implied', 'that', 'pressure', 'was', 'harming', 'its', 'arms', 'business', 'with', 'turkey', 'in', 'october', 'just', 'four', 'months', 'before', 'russia', 'invasion', 'of', 'ukraine', 'rostec', 'announced', 'it', 'would', 'pull', 'away', 'from', 'conducting', 'dollar', 'transactions', 'and', 'maintain', 'strong', 'business', 'ties', 'with', 'east_asia', 'last', 'year', 'rostec', 'announced', 'full', 'decoupling', 'from', 'western', 'countries', 'in', 'the', 'aerospace', 'field', 'chinese', 'firms', 'have', 'been', 'more', 'than', 'happy', 'to', 'try', 'to', 'step', 'into', 'this', 'void', 'this', 'dependency', 'has', 'now', 'turned', 'from', 'markets', 'to', 'military', 'hardware', 'itself', 'the', 'perfect', 'storm', 'of', 'western', 'sanctions', 'and', 'severed', 'business', 'and', 'political', 'ties', 'have', 'severely', 'curtailed', 'russia', 'options', 'in', 'supplying', 'its', 'own', 'forces', 'especially', 'as', 'the', 'war', 'consumes', 'far', 'more', 'parts', 'than', 'expected', 'china', 'practice', 'of', 'purchasing', 'russian', 'modeled', 'weapons', 'largely', 'for', 'acquiring', 'the', 'technology', 'to', 'make', 'itself', 'though', 'means', 'china', 'now', 'has', 'large', 'reserve', 'of', 'military', 'hardware', 'it', 'can', 'supply', 'to', 'russia', 'flagging', 'war', 'effort', 'in', 'february', 'the', 'chinese', 'firm', 'avic', 'international', 'delivered', 'million', 'in', 'parts', 'for', 'russia', 'su', 'fighter', 'which', 'china', 'began', 'operating', 'in', 'and', 'has', 'been', 'studying', 'for', 'its', 'own', 'fighter', 'development', 'the', 'pla', 'air_force', 'has', 'also', 'used', 'subsidiary', 'to', 'deliver', 'critical', 'components', 'for', 'russia', 'missile', 'defense', 'system', 'the', 'deliveries', 'also', 'included', 'navigation', 'equipment', 'for', 'the', 'russian', 'mi', 'helicopters', 'for', 'which', 'china', 'now', 'runs', 'maintenance', 'center', 'in', 'new', 'technology', 'areas', 'china', 'has', 'provided', 'at', 'least', 'million', 'in', 'drones', 'and', 'drone', 'parts', 'since', 'the', 'war', 'began', 'as', 'the', 'war', 'goes', 'on', 'russia', 'will', 'likely', 'need', 'even', 'more', 'of', 'china', 'military', 'industrial', 'capacity', 'to', 'keep', 'elements', 'of', 'the', 'russian', 'war', 'machine', 'on', 'its', 'feet', 'russia', 'faces', 'massive', 'sanctions', 'from', 'the', 'international', 'community', 'and', 'its', 'defense', 'industry', 'is', 'being', 'forced', 'to', 'source', 'critical', 'components', 'through', 'elaborate', 'third', 'party', 'arrangements', 'and', 'even', 'electronics', 'cannibalized', 'from', 'washing_machines', 'and', 'refrigerators', 'their', 'changing', 'ambitions', 'were', 'recently', 'summed', 'up', 'by', 'russia', 'kommersant', 'newspaper', 'technological', 'sovereignty', 'for', 'the', 'russian_federation', 'and', 'china', 'means', 'two', 'different', 'things', 'china', 'has', 'set', 'itself', 'the', 'task', 'of', 'producing', 'the', 'entire', 'range', 'of', 'key', 'products', 'and', 'possessing', 'all', 'key', 'technologies', 'as', 'the', 'global', 'leader', 'for', 'russia', 'it', 'is', 'about', 'the', 'possession', 'of', 'minimum', 'set', 'of', 'technologies', 'that', 'would', 'allow', 'it', 'to', 'compete', 'with', 'the', 'west', 'and', 'not', 'lag', 'behind', 'in', 'development', 'under', 'these', 'conditions', 'china', 'has', 'even', 'more', 'leverage', 'in', 'relationship', 'that', 'was', 'already', 'tilting', 'its', 'way', 'the', 'accelerated', 'loss', 'of', 'one', 'of', 'russia', 'few', 'competitive', 'edges', 'against', 'china', 'and', 'in', 'the', 'global', 'market', 'is', 'among', 'the', 'many', 'costs', 'of', 'putin', 'war', 'as', 'russia', 'defense', 'industry', 'collapses', 'chinese', 'firms', 'are', 'moving', 'to', 'the', 'fore', 'in', 'supplying', 'not', 'just', 'the', 'pla', 'but', 'also', 'foreign', 'markets', 'that', 'russia', 'once', 'sold', 'arms', 'to', 'and', 'even', 'now', 'to', 'the', 'russian', 'military', 'itself', 'the', 'new', 'china', 'russia', 'defense', 'industrial', 'relationship', 'can', 'best', 'be', 'summed', 'as', 'beneficial', 'to', 'both', 'parties', 'but', 'one', 'in', 'which', 'china', 'ultimately', 'benefits', 'far', 'more', 'thomas', 'corbett', 'is', 'research', 'analyst', 'with', 'bluepath_labs', 'his', 'areas', 'of', 'focus', 'include', 'chinese', 'foreign', 'relations', 'emerging', 'technology', 'and', 'indo_pacific_security', 'studies']\n"
     ]
    }
   ],
   "source": [
    "#bigram = gensim.models.Phrases(data_words, min_count=20, threshold=100) # higher threshold fewer phrases.\n",
    "#trigram = gensim.models.Phrases(bigram[data_words], threshold=100)\n",
    "#print (bigram)\n",
    "# Faster way to get a sentence clubbed as a trigram/bigram\n",
    "bigram_mod = gensim.models.phrases.Phraser(bigram)\n",
    "trigram_mod = gensim.models.phrases.Phraser(trigram)\n",
    "# See trigram example\n",
    "print(trigram_mod[bigram_mod[data_words[0]]])"
   ]
  },
  {
   "cell_type": "markdown",
   "id": "78e3028c",
   "metadata": {},
   "source": [
    "## Create the Dictionary and Corpus needed for Topic Modeling"
   ]
  },
  {
   "cell_type": "markdown",
   "id": "ab625831",
   "metadata": {},
   "source": [
    "doc2bow Convert document into the bag-of-words (BoW) format = list of (token_id, token_count) tuples."
   ]
  },
  {
   "cell_type": "code",
   "execution_count": 44,
   "id": "b4ce26ed",
   "metadata": {},
   "outputs": [
    {
     "name": "stdout",
     "output_type": "stream",
     "text": [
      "[(0, 1), (1, 1), (2, 2), (3, 1), (4, 2), (5, 1), (6, 1), (7, 1), (8, 1), (9, 1), (10, 1), (11, 2), (12, 1), (13, 4), (14, 3), (15, 2), (16, 1), (17, 1), (18, 1), (19, 6), (20, 1), (21, 1), (22, 2), (23, 2), (24, 3), (25, 4), (26, 5), (27, 1), (28, 1), (29, 1), (30, 1), (31, 1), (32, 1), (33, 3), (34, 1), (35, 1), (36, 1), (37, 6), (38, 1), (39, 1), (40, 1), (41, 1), (42, 1), (43, 3), (44, 1), (45, 1), (46, 1), (47, 1), (48, 1), (49, 1), (50, 1), (51, 1), (52, 7), (53, 1), (54, 2), (55, 1), (56, 1), (57, 1), (58, 1), (59, 1), (60, 1), (61, 1), (62, 2), (63, 1), (64, 2), (65, 1), (66, 1), (67, 1), (68, 1), (69, 1), (70, 1), (71, 1), (72, 1), (73, 4), (74, 1), (75, 6), (76, 1), (77, 1), (78, 1), (79, 2), (80, 2), (81, 1), (82, 1), (83, 2), (84, 1), (85, 1), (86, 1), (87, 1), (88, 14), (89, 2), (90, 1), (91, 1), (92, 2), (93, 2), (94, 1), (95, 2), (96, 1), (97, 1), (98, 1), (99, 2), (100, 2), (101, 1), (102, 1), (103, 2), (104, 1), (105, 1), (106, 1), (107, 1), (108, 1), (109, 1), (110, 1), (111, 2), (112, 2), (113, 1), (114, 1), (115, 1), (116, 1), (117, 1), (118, 1), (119, 1), (120, 1), (121, 10), (122, 2), (123, 1), (124, 1), (125, 1), (126, 1), (127, 1), (128, 3), (129, 1), (130, 1), (131, 5), (132, 3), (133, 2), (134, 1), (135, 1), (136, 1), (137, 4), (138, 1), (139, 2), (140, 1), (141, 2), (142, 2), (143, 1), (144, 3), (145, 2), (146, 1), (147, 1), (148, 1), (149, 1), (150, 2), (151, 1), (152, 1), (153, 1), (154, 1), (155, 1), (156, 1), (157, 1), (158, 1), (159, 1), (160, 1), (161, 1), (162, 5), (163, 1), (164, 3), (165, 1), (166, 2), (167, 1), (168, 3), (169, 7), (170, 1), (171, 1), (172, 1), (173, 2), (174, 1), (175, 1), (176, 1), (177, 1), (178, 1), (179, 3), (180, 1), (181, 1), (182, 1), (183, 2), (184, 1), (185, 1), (186, 1), (187, 1), (188, 1), (189, 1), (190, 3), (191, 1), (192, 2), (193, 1), (194, 1), (195, 1), (196, 2), (197, 1), (198, 3), (199, 1), (200, 2), (201, 1), (202, 2), (203, 1), (204, 1), (205, 1), (206, 6), (207, 2), (208, 2), (209, 4), (210, 1), (211, 2), (212, 1), (213, 1), (214, 1), (215, 5), (216, 1), (217, 5), (218, 3), (219, 1), (220, 1), (221, 1), (222, 1), (223, 1), (224, 1), (225, 1), (226, 3), (227, 1), (228, 1), (229, 1), (230, 2), (231, 1), (232, 2), (233, 2), (234, 1), (235, 3), (236, 2), (237, 1), (238, 2), (239, 1), (240, 1), (241, 2), (242, 1), (243, 1), (244, 2), (245, 1), (246, 1), (247, 1), (248, 1), (249, 1), (250, 1), (251, 1), (252, 1), (253, 1), (254, 5), (255, 3), (256, 1), (257, 1), (258, 1), (259, 4), (260, 1), (261, 1), (262, 1), (263, 1), (264, 1), (265, 1), (266, 1), (267, 1), (268, 1), (269, 1), (270, 1), (271, 1), (272, 1), (273, 1), (274, 4), (275, 1), (276, 1), (277, 3), (278, 1), (279, 1), (280, 2), (281, 3), (282, 1), (283, 1), (284, 14), (285, 4), (286, 2), (287, 1), (288, 1), (289, 1), (290, 1), (291, 1), (292, 2), (293, 1), (294, 1), (295, 1), (296, 2), (297, 1), (298, 1), (299, 2), (300, 1), (301, 1), (302, 1), (303, 1), (304, 1), (305, 1), (306, 1), (307, 2), (308, 1), (309, 1), (310, 1), (311, 2), (312, 1), (313, 1), (314, 1), (315, 1), (316, 1), (317, 1), (318, 1), (319, 1), (320, 1), (321, 2), (322, 1), (323, 3), (324, 1), (325, 1), (326, 5), (327, 2), (328, 1), (329, 1), (330, 1), (331, 1), (332, 7), (333, 2), (334, 1), (335, 1), (336, 2), (337, 9), (338, 1), (339, 1), (340, 1), (341, 2), (342, 1), (343, 1), (344, 2), (345, 4), (346, 1), (347, 1), (348, 2), (349, 1), (350, 2), (351, 1), (352, 1), (353, 1), (354, 1), (355, 1), (356, 1), (357, 2), (358, 1), (359, 1), (360, 3), (361, 1), (362, 1), (363, 1), (364, 1), (365, 8), (366, 1), (367, 1), (368, 2), (369, 1), (370, 1), (371, 1), (372, 3), (373, 2), (374, 1), (375, 1), (376, 3), (377, 1), (378, 1)]\n"
     ]
    }
   ],
   "source": [
    "# Create Dictionary\n",
    "id2word = corpora.Dictionary(data_lemmatized)\n",
    "\n",
    "# Create Corpus\n",
    "texts = data_lemmatized\n",
    "\n",
    "# Term Frequency list   \n",
    "corpus = [id2word.doc2bow(text) for text in texts]\n",
    "\n",
    "# View\n",
    "print(corpus[0])"
   ]
  },
  {
   "cell_type": "code",
   "execution_count": 61,
   "id": "d4428806-2283-4859-ab04-66f536810e6f",
   "metadata": {},
   "outputs": [
    {
     "data": {
      "text/plain": [
       "'acquiescence'"
      ]
     },
     "execution_count": 61,
     "metadata": {},
     "output_type": "execute_result"
    }
   ],
   "source": [
    "#sample id for word \n",
    "id2word[3]"
   ]
  },
  {
   "cell_type": "code",
   "execution_count": 67,
   "id": "10677f73-3a54-451d-876e-2ec5363d05d5",
   "metadata": {},
   "outputs": [
    {
     "data": {
      "text/plain": [
       "[[('able', 1),\n",
       "  ('absorb', 1),\n",
       "  ('accelerate', 2),\n",
       "  ('acquiescence', 1),\n",
       "  ('acquire', 2),\n",
       "  ('action', 1),\n",
       "  ('adapt', 1),\n",
       "  ('advance', 1),\n",
       "  ('advanced', 1),\n",
       "  ('advantage', 1),\n",
       "  ('aerospace', 1),\n",
       "  ('agreement', 2),\n",
       "  ('aid', 1),\n",
       "  ('air', 4),\n",
       "  ('aircraft', 3),\n",
       "  ('allow', 2),\n",
       "  ('ally', 1),\n",
       "  ('almaz', 1),\n",
       "  ('already', 1),\n",
       "  ('also', 6),\n",
       "  ('ambition', 1),\n",
       "  ('analyst', 1),\n",
       "  ('announce', 2),\n",
       "  ('apparently', 2),\n",
       "  ('appear', 3),\n",
       "  ('area', 4),\n",
       "  ('arm', 5),\n",
       "  ('arrangement', 1),\n",
       "  ('art', 1),\n",
       "  ('aspect', 1),\n",
       "  ('aviation', 1),\n",
       "  ('aware', 1),\n",
       "  ('away', 1),\n",
       "  ('back', 3),\n",
       "  ('base', 1),\n",
       "  ('battle', 1),\n",
       "  ('become', 1),\n",
       "  ('begin', 6),\n",
       "  ('beneficial', 1),\n",
       "  ('benefit', 1),\n",
       "  ('bomber', 1),\n",
       "  ('broad', 1),\n",
       "  ('build', 1),\n",
       "  ('business', 3),\n",
       "  ('buy', 1),\n",
       "  ('cancel', 1),\n",
       "  ('cannibalize', 1),\n",
       "  ('capacity', 1),\n",
       "  ('cash', 1),\n",
       "  ('catch', 1),\n",
       "  ('center', 1),\n",
       "  ('change', 1),\n",
       "  ('chinese', 7),\n",
       "  ('civil', 1),\n",
       "  ('close', 2),\n",
       "  ('cold', 1),\n",
       "  ('collaboration', 1),\n",
       "  ('collapse', 1),\n",
       "  ('come', 1),\n",
       "  ('communist', 1),\n",
       "  ('community', 1),\n",
       "  ('compete', 1),\n",
       "  ('competitive', 2),\n",
       "  ('complete', 1),\n",
       "  ('component', 2),\n",
       "  ('compound', 1),\n",
       "  ('concern', 1),\n",
       "  ('condition', 1),\n",
       "  ('conduct', 1),\n",
       "  ('conglomerate', 1),\n",
       "  ('consistently', 1),\n",
       "  ('conspicuously', 1),\n",
       "  ('consume', 1),\n",
       "  ('continue', 4),\n",
       "  ('cooperation', 1),\n",
       "  ('copy', 6),\n",
       "  ('corporate', 1),\n",
       "  ('cost', 1),\n",
       "  ('counterpart', 1),\n",
       "  ('country', 2),\n",
       "  ('critical', 2),\n",
       "  ('currently', 1),\n",
       "  ('curtail', 1),\n",
       "  ('deal', 2),\n",
       "  ('debut', 1),\n",
       "  ('decide', 1),\n",
       "  ('decouple', 1),\n",
       "  ('decrease', 1),\n",
       "  ('defense', 14),\n",
       "  ('deliver', 2),\n",
       "  ('delivery', 1),\n",
       "  ('dependency', 1),\n",
       "  ('design', 2),\n",
       "  ('development', 2),\n",
       "  ('different', 1),\n",
       "  ('dilemma', 2),\n",
       "  ('directly', 1),\n",
       "  ('dollar', 1),\n",
       "  ('dominate', 1),\n",
       "  ('drone', 2),\n",
       "  ('early', 2),\n",
       "  ('eastern', 1),\n",
       "  ('economic', 1),\n",
       "  ('economy', 2),\n",
       "  ('edge', 1),\n",
       "  ('effect', 1),\n",
       "  ('effort', 1),\n",
       "  ('elaborate', 1),\n",
       "  ('electronic', 1),\n",
       "  ('element', 1),\n",
       "  ('emerge', 1),\n",
       "  ('engine', 2),\n",
       "  ('engineer', 2),\n",
       "  ('entire', 1),\n",
       "  ('equipment', 1),\n",
       "  ('equivalent', 1),\n",
       "  ('era', 1),\n",
       "  ('erode', 1),\n",
       "  ('especially', 1),\n",
       "  ('espionage', 1),\n",
       "  ('establish', 1),\n",
       "  ('even', 10),\n",
       "  ('eventually', 2),\n",
       "  ('example', 1),\n",
       "  ('expect', 1),\n",
       "  ('expression', 1),\n",
       "  ('face', 1),\n",
       "  ('fall', 1),\n",
       "  ('far', 3),\n",
       "  ('feature', 1),\n",
       "  ('field', 1),\n",
       "  ('fighter', 5),\n",
       "  ('firm', 3),\n",
       "  ('first', 2),\n",
       "  ('flag', 1),\n",
       "  ('focus', 1),\n",
       "  ('foot', 1),\n",
       "  ('force', 4),\n",
       "  ('fore', 1),\n",
       "  ('foreign', 2),\n",
       "  ('fray', 1),\n",
       "  ('full', 2),\n",
       "  ('global', 2),\n",
       "  ('globally', 1),\n",
       "  ('go', 3),\n",
       "  ('good', 2),\n",
       "  ('goodwill', 1),\n",
       "  ('grow', 1),\n",
       "  ('handing', 1),\n",
       "  ('happy', 1),\n",
       "  ('hardware', 2),\n",
       "  ('harm', 1),\n",
       "  ('heavily', 1),\n",
       "  ('heavy', 1),\n",
       "  ('helicopter', 1),\n",
       "  ('help', 1),\n",
       "  ('however', 1),\n",
       "  ('illustrate', 1),\n",
       "  ('immediate', 1),\n",
       "  ('imperial', 1),\n",
       "  ('imply', 1),\n",
       "  ('improve', 1),\n",
       "  ('include', 5),\n",
       "  ('increase', 1),\n",
       "  ('increasingly', 3),\n",
       "  ('independently', 1),\n",
       "  ('indigenous', 2),\n",
       "  ('indo', 1),\n",
       "  ('industrial', 3),\n",
       "  ('industry', 7),\n",
       "  ('influence', 1),\n",
       "  ('initially', 1),\n",
       "  ('input', 1),\n",
       "  ('international', 2),\n",
       "  ('invade', 1),\n",
       "  ('invasion', 1),\n",
       "  ('isolation', 1),\n",
       "  ('jingpe', 1),\n",
       "  ('keep', 1),\n",
       "  ('key', 3),\n",
       "  ('know', 1),\n",
       "  ('korean', 1),\n",
       "  ('largely', 1),\n",
       "  ('last', 2),\n",
       "  ('lead', 1),\n",
       "  ('leader', 1),\n",
       "  ('least', 1),\n",
       "  ('leave', 1),\n",
       "  ('legitimately', 1),\n",
       "  ('leverage', 1),\n",
       "  ('license', 3),\n",
       "  ('licensing', 1),\n",
       "  ('likely', 2),\n",
       "  ('likewise', 1),\n",
       "  ('limit', 1),\n",
       "  ('limited', 1),\n",
       "  ('long', 2),\n",
       "  ('look', 1),\n",
       "  ('loss', 3),\n",
       "  ('lot', 1),\n",
       "  ('loud', 2),\n",
       "  ('low', 1),\n",
       "  ('machine', 2),\n",
       "  ('maintain', 1),\n",
       "  ('maintenance', 1),\n",
       "  ('major', 1),\n",
       "  ('make', 6),\n",
       "  ('manufacturing', 2),\n",
       "  ('many', 2),\n",
       "  ('market', 4),\n",
       "  ('massive', 1),\n",
       "  ('mean', 2),\n",
       "  ('meeting', 1),\n",
       "  ('merely', 1),\n",
       "  ('method', 1),\n",
       "  ('military', 5),\n",
       "  ('minimum', 1),\n",
       "  ('missile', 5),\n",
       "  ('model', 3),\n",
       "  ('modern', 1),\n",
       "  ('month', 1),\n",
       "  ('move', 1),\n",
       "  ('nascent', 1),\n",
       "  ('navigation', 1),\n",
       "  ('nearly', 1),\n",
       "  ('need', 1),\n",
       "  ('new', 3),\n",
       "  ('notable', 1),\n",
       "  ('numerous', 1),\n",
       "  ('obtain', 1),\n",
       "  ('official', 2),\n",
       "  ('officially', 1),\n",
       "  ('operate', 2),\n",
       "  ('option', 2),\n",
       "  ('other', 1),\n",
       "  ('part', 3),\n",
       "  ('partner', 2),\n",
       "  ('partnership', 1),\n",
       "  ('party', 2),\n",
       "  ('perfect', 1),\n",
       "  ('period', 1),\n",
       "  ('pla', 2),\n",
       "  ('plane', 1),\n",
       "  ('play', 1),\n",
       "  ('policy', 2),\n",
       "  ('political', 1),\n",
       "  ('possess', 1),\n",
       "  ('possession', 1),\n",
       "  ('post', 1),\n",
       "  ('practice', 1),\n",
       "  ('pressure', 1),\n",
       "  ('primary', 1),\n",
       "  ('procedure', 1),\n",
       "  ('process', 1),\n",
       "  ('produce', 5),\n",
       "  ('product', 3),\n",
       "  ('promote', 1),\n",
       "  ('provide', 1),\n",
       "  ('pull', 1),\n",
       "  ('purchase', 4),\n",
       "  ('radar', 1),\n",
       "  ('radchenko', 1),\n",
       "  ('raindrop', 1),\n",
       "  ('range', 1),\n",
       "  ('rare', 1),\n",
       "  ('rather', 1),\n",
       "  ('recast', 1),\n",
       "  ('recent', 1),\n",
       "  ('recently', 1),\n",
       "  ('reflect', 1),\n",
       "  ('reflection', 1),\n",
       "  ('refrigerator', 1),\n",
       "  ('regime', 1),\n",
       "  ('relation', 1),\n",
       "  ('relationship', 4),\n",
       "  ('reliant', 1),\n",
       "  ('rely', 1),\n",
       "  ('remain', 3),\n",
       "  ('representative', 1),\n",
       "  ('respond', 1),\n",
       "  ('reverse', 2),\n",
       "  ('rostec', 3),\n",
       "  ('roughly', 1),\n",
       "  ('run', 1),\n",
       "  ('russian', 14),\n",
       "  ('sale', 4),\n",
       "  ('sanction', 2),\n",
       "  ('say', 1),\n",
       "  ('sector', 1),\n",
       "  ('security', 1),\n",
       "  ('sell', 1),\n",
       "  ('serve', 1),\n",
       "  ('set', 2),\n",
       "  ('sever', 1),\n",
       "  ('severely', 1),\n",
       "  ('share', 1),\n",
       "  ('shift', 2),\n",
       "  ('shore', 1),\n",
       "  ('short', 1),\n",
       "  ('show', 2),\n",
       "  ('significant', 1),\n",
       "  ('similarly', 1),\n",
       "  ('sino', 1),\n",
       "  ('situation', 1),\n",
       "  ('slowly', 1),\n",
       "  ('source', 1),\n",
       "  ('sovereignty', 1),\n",
       "  ('soviet', 2),\n",
       "  ('spare', 1),\n",
       "  ('sphere', 1),\n",
       "  ('standard', 1),\n",
       "  ('state', 2),\n",
       "  ('statement', 1),\n",
       "  ('steal', 1),\n",
       "  ('step', 1),\n",
       "  ('still', 1),\n",
       "  ('storm', 1),\n",
       "  ('strapped', 1),\n",
       "  ('strategic', 1),\n",
       "  ('stress', 1),\n",
       "  ('strong', 1),\n",
       "  ('study', 2),\n",
       "  ('subsidiary', 1),\n",
       "  ('sum', 3),\n",
       "  ('summarise', 1),\n",
       "  ('summit', 1),\n",
       "  ('supply', 5),\n",
       "  ('support', 2),\n",
       "  ('suppose', 1),\n",
       "  ('surface', 1),\n",
       "  ('surge', 1),\n",
       "  ('swathe', 1),\n",
       "  ('system', 7),\n",
       "  ('take', 2),\n",
       "  ('task', 1),\n",
       "  ('tech', 1),\n",
       "  ('technological', 2),\n",
       "  ('technology', 9),\n",
       "  ('tectonic', 1),\n",
       "  ('term', 1),\n",
       "  ('testing', 1),\n",
       "  ('theft', 2),\n",
       "  ('thing', 1),\n",
       "  ('third', 1),\n",
       "  ('thunder', 2),\n",
       "  ('tie', 4),\n",
       "  ('tilt', 1),\n",
       "  ('transaction', 1),\n",
       "  ('transfer', 2),\n",
       "  ('trend', 1),\n",
       "  ('try', 2),\n",
       "  ('turbofan', 1),\n",
       "  ('turn', 1),\n",
       "  ('ultimately', 1),\n",
       "  ('unhappy', 1),\n",
       "  ('unlicensed', 1),\n",
       "  ('upgrade', 1),\n",
       "  ('use', 2),\n",
       "  ('ussr', 1),\n",
       "  ('various', 1),\n",
       "  ('version', 3),\n",
       "  ('view', 1),\n",
       "  ('visit', 1),\n",
       "  ('void', 1),\n",
       "  ('want', 1),\n",
       "  ('war', 8),\n",
       "  ('warship', 1),\n",
       "  ('washing', 1),\n",
       "  ('way', 2),\n",
       "  ('weakness', 1),\n",
       "  ('weapon', 1),\n",
       "  ('welcome', 1),\n",
       "  ('well', 3),\n",
       "  ('western', 2),\n",
       "  ('whole', 1),\n",
       "  ('willingly', 1),\n",
       "  ('year', 3),\n",
       "  ('yet', 1),\n",
       "  ('雷声大雨点小', 1)]]"
      ]
     },
     "execution_count": 67,
     "metadata": {},
     "output_type": "execute_result"
    }
   ],
   "source": [
    "[[(id2word[id], freq) for id, freq in cp] for cp in corpus[:1]]"
   ]
  },
  {
   "cell_type": "code",
   "execution_count": 45,
   "id": "b3c227a2",
   "metadata": {},
   "outputs": [
    {
     "data": {
      "text/plain": [
       "'absorb'"
      ]
     },
     "execution_count": 45,
     "metadata": {},
     "output_type": "execute_result"
    }
   ],
   "source": [
    "id2word[1]"
   ]
  },
  {
   "cell_type": "code",
   "execution_count": 68,
   "id": "07a07445",
   "metadata": {
    "tags": []
   },
   "outputs": [],
   "source": [
    "#data_lemmatized[0]"
   ]
  },
  {
   "cell_type": "code",
   "execution_count": 83,
   "id": "94fb28cd",
   "metadata": {
    "tags": []
   },
   "outputs": [],
   "source": [
    "#[[(id2word[word[0]], word[1])] for word in corpus[0]]"
   ]
  },
  {
   "cell_type": "markdown",
   "id": "e7c89602",
   "metadata": {},
   "source": [
    "## Building the Topic Model"
   ]
  },
  {
   "cell_type": "code",
   "execution_count": 69,
   "id": "37e4f82c",
   "metadata": {},
   "outputs": [],
   "source": [
    "# Build LDA model\n",
    "lda_model = gensim.models.ldamodel.LdaModel(corpus=corpus,\n",
    "                                           id2word=id2word,\n",
    "                                           num_topics=20, \n",
    "                                           random_state=100,\n",
    "                                           update_every=1,\n",
    "                                           chunksize=100,\n",
    "                                           passes=10,\n",
    "                                           alpha='auto',\n",
    "                                           per_word_topics=True)"
   ]
  },
  {
   "cell_type": "code",
   "execution_count": 49,
   "id": "19fe2184",
   "metadata": {},
   "outputs": [
    {
     "name": "stdout",
     "output_type": "stream",
     "text": [
      "[(0, '0.048*\"energy\" + 0.037*\"gas\" + 0.032*\"earth\" + 0.032*\"production\" + 0.031*\"plant\" + 0.028*\"rare\" + 0.022*\"new\" + 0.022*\"study\" + 0.019*\"power\" + 0.019*\"metal\"'), (1, '0.090*\"chinatown\" + 0.081*\"event\" + 0.054*\"start\" + 0.048*\"community\" + 0.046*\"walk\" + 0.044*\"fentanyl\" + 0.042*\"owner\" + 0.041*\"photo\" + 0.034*\"day\" + 0.032*\"contribute\"'), (2, '0.020*\"say\" + 0.012*\"chinese\" + 0.012*\"case\" + 0.009*\"government\" + 0.008*\"information\" + 0.008*\"report\" + 0.008*\"right\" + 0.007*\"state\" + 0.007*\"also\" + 0.007*\"company\"'), (3, '0.151*\"apple\" + 0.087*\"iphone\" + 0.058*\"store\" + 0.046*\"app\" + 0.028*\"phone\" + 0.025*\"smartphone\" + 0.023*\"millone\" + 0.020*\"device\" + 0.017*\"tech\" + 0.016*\"ban\"'), (4, '0.025*\"economy\" + 0.022*\"economic\" + 0.021*\"country\" + 0.019*\"year\" + 0.018*\"growth\" + 0.013*\"government\" + 0.012*\"say\" + 0.011*\"policy\" + 0.010*\"chinese\" + 0.010*\"rate\"'), (5, '0.152*\"die\" + 0.036*\"und\" + 0.029*\"m\" + 0.020*\"fur\" + 0.020*\"fundamental\" + 0.018*\"bit\" + 0.017*\"auch\" + 0.015*\"follow\" + 0.014*\"com\" + 0.014*\"twitter\"'), (6, '0.032*\"say\" + 0.019*\"year\" + 0.019*\"people\" + 0.019*\"covid\" + 0.012*\"new\" + 0.010*\"report\" + 0.009*\"day\" + 0.008*\"city\" + 0.008*\"first\" + 0.008*\"country\"'), (7, '0.032*\"lawmaker\" + 0.027*\"threat\" + 0.027*\"trump\" + 0.024*\"election\" + 0.023*\"bill\" + 0.021*\"american\" + 0.020*\"national\" + 0.020*\"president\" + 0.020*\"committee\" + 0.019*\"biden\"'), (8, '0.050*\"advertisement\" + 0.043*\"sign\" + 0.041*\"email\" + 0.030*\"insider\" + 0.025*\"load\" + 0.024*\"privacy\" + 0.021*\"address\" + 0.020*\"receive\" + 0.019*\"access\" + 0.018*\"service\"'), (9, '0.039*\"say\" + 0.025*\"find\" + 0.019*\"mile\" + 0.015*\"child\" + 0.015*\"site\" + 0.014*\"release\" + 0.014*\"accord\" + 0.013*\"photo\" + 0.012*\"use\" + 0.011*\"city\"'), (10, '0.031*\"company\" + 0.026*\"technology\" + 0.017*\"say\" + 0.016*\"chip\" + 0.015*\"industry\" + 0.014*\"export\" + 0.014*\"chinese\" + 0.013*\"product\" + 0.012*\"use\" + 0.012*\"trade\"'), (11, '0.055*\"cookie\" + 0.037*\"carrier\" + 0.036*\"use\" + 0.033*\"website\" + 0.033*\"device\" + 0.025*\"browser\" + 0.021*\"site\" + 0.020*\"sale\" + 0.017*\"datum\" + 0.017*\"judgment\"'), (12, '0.059*\"balloon\" + 0.042*\"say\" + 0.022*\"official\" + 0.022*\"spy\" + 0.019*\"chinese\" + 0.013*\"shoot\" + 0.012*\"military\" + 0.012*\"surveillance\" + 0.012*\"space\" + 0.011*\"intelligence\"'), (13, '0.136*\"property\" + 0.084*\"debt\" + 0.077*\"developer\" + 0.043*\"real\" + 0.040*\"estate\" + 0.031*\"home\" + 0.023*\"sector\" + 0.021*\"seed\" + 0.020*\"evergrande\" + 0.019*\"restructure\"'), (14, '0.019*\"chinese\" + 0.013*\"make\" + 0.013*\"go\" + 0.011*\"get\" + 0.009*\"even\" + 0.009*\"time\" + 0.008*\"think\" + 0.008*\"world\" + 0.008*\"many\" + 0.008*\"see\"'), (15, '0.027*\"market\" + 0.025*\"year\" + 0.018*\"price\" + 0.016*\"share\" + 0.014*\"sale\" + 0.013*\"stock\" + 0.013*\"company\" + 0.013*\"report\" + 0.013*\"last\" + 0.012*\"quarter\"'), (16, '0.033*\"military\" + 0.021*\"russian\" + 0.020*\"war\" + 0.020*\"defense\" + 0.016*\"nuclear\" + 0.016*\"weapon\" + 0.013*\"force\" + 0.011*\"missile\" + 0.009*\"system\" + 0.008*\"attack\"'), (17, '0.102*\"que\" + 0.068*\"tiktok\" + 0.047*\"por\" + 0.046*\"unido\" + 0.033*\"estado\" + 0.031*\"este\" + 0.029*\"briefing\" + 0.026*\"paise\" + 0.025*\"segun\" + 0.024*\"estadounidense\"'), (18, '0.047*\"say\" + 0.016*\"country\" + 0.015*\"chinese\" + 0.014*\"official\" + 0.013*\"visit\" + 0.010*\"relation\" + 0.010*\"leader\" + 0.009*\"meet\" + 0.008*\"also\" + 0.008*\"meeting\"'), (19, '0.033*\"say\" + 0.032*\"island\" + 0.029*\"ship\" + 0.022*\"military\" + 0.020*\"philippine\" + 0.018*\"force\" + 0.018*\"water\" + 0.017*\"exercise\" + 0.017*\"claim\" + 0.014*\"aircraft\"')]\n"
     ]
    }
   ],
   "source": [
    "# Print the Keyword in the 10 topics\n",
    "print(lda_model.print_topics())\n",
    "doc_lda = lda_model[corpus]"
   ]
  },
  {
   "cell_type": "markdown",
   "id": "6a48c0a3",
   "metadata": {},
   "source": [
    "## Visualize the topic model \n",
    "The larger the bubble, the more prevalent is that topic.\n",
    "\n",
    "A good topic model will have fairly big, non-overlapping bubbles scattered throughout the chart instead of being clustered in one quadrant."
   ]
  },
  {
   "cell_type": "code",
   "execution_count": 82,
   "id": "e933f3ee",
   "metadata": {},
   "outputs": [
    {
     "ename": "BrokenProcessPool",
     "evalue": "A task has failed to un-serialize. Please ensure that the arguments of the function are all picklable.",
     "output_type": "error",
     "traceback": [
      "\u001b[0;31m---------------------------------------------------------------------------\u001b[0m",
      "\u001b[0;31m_RemoteTraceback\u001b[0m                          Traceback (most recent call last)",
      "\u001b[0;31m_RemoteTraceback\u001b[0m: \n\"\"\"\nTraceback (most recent call last):\n  File \"/Users/eyaelgetahun/anaconda3/lib/python3.9/site-packages/joblib/externals/loky/process_executor.py\", line 391, in _process_worker\n    call_item = call_queue.get(block=True, timeout=timeout)\n  File \"/Users/eyaelgetahun/anaconda3/lib/python3.9/multiprocessing/queues.py\", line 122, in get\n    return _ForkingPickler.loads(res)\nModuleNotFoundError: No module named 'pandas.core.indexes.numeric'\n\"\"\"",
      "\nThe above exception was the direct cause of the following exception:\n",
      "\u001b[0;31mBrokenProcessPool\u001b[0m                         Traceback (most recent call last)",
      "Cell \u001b[0;32mIn[82], line 5\u001b[0m\n\u001b[1;32m      3\u001b[0m \u001b[38;5;28;01mimport\u001b[39;00m \u001b[38;5;21;01mpyLDAvis\u001b[39;00m\u001b[38;5;21;01m.\u001b[39;00m\u001b[38;5;21;01mgensim\u001b[39;00m\n\u001b[1;32m      4\u001b[0m pyLDAvis\u001b[38;5;241m.\u001b[39menable_notebook()\n\u001b[0;32m----> 5\u001b[0m vis \u001b[38;5;241m=\u001b[39m \u001b[43mpyLDAvis\u001b[49m\u001b[38;5;241;43m.\u001b[39;49m\u001b[43mgensim\u001b[49m\u001b[38;5;241;43m.\u001b[39;49m\u001b[43mprepare\u001b[49m\u001b[43m(\u001b[49m\u001b[43mlda_model\u001b[49m\u001b[43m,\u001b[49m\u001b[43m \u001b[49m\u001b[43mcorpus\u001b[49m\u001b[43m,\u001b[49m\u001b[43m \u001b[49m\u001b[43mid2word\u001b[49m\u001b[43m)\u001b[49m\n",
      "File \u001b[0;32m~/anaconda3/lib/python3.9/site-packages/pyLDAvis/gensim.py:123\u001b[0m, in \u001b[0;36mprepare\u001b[0;34m(topic_model, corpus, dictionary, doc_topic_dist, **kwargs)\u001b[0m\n\u001b[1;32m     78\u001b[0m \u001b[38;5;250m\u001b[39m\u001b[38;5;124;03m\"\"\"Transforms the Gensim TopicModel and related corpus and dictionary into\u001b[39;00m\n\u001b[1;32m     79\u001b[0m \u001b[38;5;124;03mthe data structures needed for the visualization.\u001b[39;00m\n\u001b[1;32m     80\u001b[0m \n\u001b[0;32m   (...)\u001b[0m\n\u001b[1;32m    120\u001b[0m \u001b[38;5;124;03mSee `pyLDAvis.prepare` for **kwargs.\u001b[39;00m\n\u001b[1;32m    121\u001b[0m \u001b[38;5;124;03m\"\"\"\u001b[39;00m\n\u001b[1;32m    122\u001b[0m opts \u001b[38;5;241m=\u001b[39m fp\u001b[38;5;241m.\u001b[39mmerge(_extract_data(topic_model, corpus, dictionary, doc_topic_dist), kwargs)\n\u001b[0;32m--> 123\u001b[0m \u001b[38;5;28;01mreturn\u001b[39;00m \u001b[43mvis_prepare\u001b[49m\u001b[43m(\u001b[49m\u001b[38;5;241;43m*\u001b[39;49m\u001b[38;5;241;43m*\u001b[39;49m\u001b[43mopts\u001b[49m\u001b[43m)\u001b[49m\n",
      "File \u001b[0;32m~/anaconda3/lib/python3.9/site-packages/pyLDAvis/_prepare.py:432\u001b[0m, in \u001b[0;36mprepare\u001b[0;34m(topic_term_dists, doc_topic_dists, doc_lengths, vocab, term_frequency, R, lambda_step, mds, n_jobs, plot_opts, sort_topics, start_index)\u001b[0m\n\u001b[1;32m    426\u001b[0m \u001b[38;5;66;03m# Quick fix for red bar width bug.  We calculate the\u001b[39;00m\n\u001b[1;32m    427\u001b[0m \u001b[38;5;66;03m# term frequencies internally, using the topic term distributions and the\u001b[39;00m\n\u001b[1;32m    428\u001b[0m \u001b[38;5;66;03m# topic frequencies, rather than using the user-supplied term frequencies.\u001b[39;00m\n\u001b[1;32m    429\u001b[0m \u001b[38;5;66;03m# For a detailed discussion, see: https://urldefense.com/v3/__https://github.com/cpsievert/LDAvis/pull/41*5Cu001b*39;00m*5Cn*5Cu001b*1;32m__;JVslJVs!!Mih3wA!Dv1Y8-TZvzgpG7BNRn6wWJ8dFMa3iq6ddyBsbMm0sJHwPuDeRevA3RvzUOzNc1fSryw05XnVXTAZLh1zsg$     430\u001b[0m term_frequency \u001b[38;5;241m=\u001b[39m np\u001b[38;5;241m.\u001b[39msum(term_topic_freq, axis\u001b[38;5;241m=\u001b[39m\u001b[38;5;241m0\u001b[39m)\n\u001b[0;32m--> 432\u001b[0m topic_info \u001b[38;5;241m=\u001b[39m \u001b[43m_topic_info\u001b[49m\u001b[43m(\u001b[49m\u001b[43mtopic_term_dists\u001b[49m\u001b[43m,\u001b[49m\u001b[43m \u001b[49m\u001b[43mtopic_proportion\u001b[49m\u001b[43m,\u001b[49m\n\u001b[1;32m    433\u001b[0m \u001b[43m                         \u001b[49m\u001b[43mterm_frequency\u001b[49m\u001b[43m,\u001b[49m\u001b[43m \u001b[49m\u001b[43mterm_topic_freq\u001b[49m\u001b[43m,\u001b[49m\u001b[43m \u001b[49m\u001b[43mvocab\u001b[49m\u001b[43m,\u001b[49m\u001b[43m \u001b[49m\u001b[43mlambda_step\u001b[49m\u001b[43m,\u001b[49m\u001b[43m \u001b[49m\u001b[43mR\u001b[49m\u001b[43m,\u001b[49m\n\u001b[1;32m    434\u001b[0m \u001b[43m                         \u001b[49m\u001b[43mn_jobs\u001b[49m\u001b[43m,\u001b[49m\u001b[43m \u001b[49m\u001b[43mstart_index\u001b[49m\u001b[43m)\u001b[49m\n\u001b[1;32m    435\u001b[0m token_table \u001b[38;5;241m=\u001b[39m _token_table(topic_info, term_topic_freq, vocab, term_frequency, start_index)\n\u001b[1;32m    436\u001b[0m topic_coordinates \u001b[38;5;241m=\u001b[39m _topic_coordinates(mds, topic_term_dists, topic_proportion, start_index)\n",
      "File \u001b[0;32m~/anaconda3/lib/python3.9/site-packages/pyLDAvis/_prepare.py:273\u001b[0m, in \u001b[0;36m_topic_info\u001b[0;34m(topic_term_dists, topic_proportion, term_frequency, term_topic_freq, vocab, lambda_step, R, n_jobs, start_index)\u001b[0m\n\u001b[1;32m    262\u001b[0m     df \u001b[38;5;241m=\u001b[39m pd\u001b[38;5;241m.\u001b[39mDataFrame({\u001b[38;5;124m'\u001b[39m\u001b[38;5;124mTerm\u001b[39m\u001b[38;5;124m'\u001b[39m: vocab[term_ix],\n\u001b[1;32m    263\u001b[0m                        \u001b[38;5;124m'\u001b[39m\u001b[38;5;124mFreq\u001b[39m\u001b[38;5;124m'\u001b[39m: term_topic_freq\u001b[38;5;241m.\u001b[39mloc[original_topic_id, term_ix],\n\u001b[1;32m    264\u001b[0m                        \u001b[38;5;124m'\u001b[39m\u001b[38;5;124mTotal\u001b[39m\u001b[38;5;124m'\u001b[39m: term_frequency[term_ix],\n\u001b[0;32m   (...)\u001b[0m\n\u001b[1;32m    267\u001b[0m                        \u001b[38;5;124m'\u001b[39m\u001b[38;5;124mloglift\u001b[39m\u001b[38;5;124m'\u001b[39m: log_lift\u001b[38;5;241m.\u001b[39mloc[original_topic_id, term_ix]\u001b[38;5;241m.\u001b[39mround(\u001b[38;5;241m4\u001b[39m),\n\u001b[1;32m    268\u001b[0m                        })\n\u001b[1;32m    269\u001b[0m     \u001b[38;5;28;01mreturn\u001b[39;00m df\u001b[38;5;241m.\u001b[39mreindex(columns\u001b[38;5;241m=\u001b[39m[\n\u001b[1;32m    270\u001b[0m         \u001b[38;5;124m\"\u001b[39m\u001b[38;5;124mTerm\u001b[39m\u001b[38;5;124m\"\u001b[39m, \u001b[38;5;124m\"\u001b[39m\u001b[38;5;124mFreq\u001b[39m\u001b[38;5;124m\"\u001b[39m, \u001b[38;5;124m\"\u001b[39m\u001b[38;5;124mTotal\u001b[39m\u001b[38;5;124m\"\u001b[39m, \u001b[38;5;124m\"\u001b[39m\u001b[38;5;124mCategory\u001b[39m\u001b[38;5;124m\"\u001b[39m, \u001b[38;5;124m\"\u001b[39m\u001b[38;5;124mlogprob\u001b[39m\u001b[38;5;124m\"\u001b[39m, \u001b[38;5;124m\"\u001b[39m\u001b[38;5;124mloglift\u001b[39m\u001b[38;5;124m\"\u001b[39m\n\u001b[1;32m    271\u001b[0m     ])\n\u001b[0;32m--> 273\u001b[0m top_terms \u001b[38;5;241m=\u001b[39m pd\u001b[38;5;241m.\u001b[39mconcat(\u001b[43mParallel\u001b[49m\u001b[43m(\u001b[49m\u001b[43mn_jobs\u001b[49m\u001b[38;5;241;43m=\u001b[39;49m\u001b[43mn_jobs\u001b[49m\u001b[43m)\u001b[49m\n\u001b[1;32m    274\u001b[0m \u001b[43m                      \u001b[49m\u001b[43m(\u001b[49m\u001b[43mdelayed\u001b[49m\u001b[43m(\u001b[49m\u001b[43m_find_relevance_chunks\u001b[49m\u001b[43m)\u001b[49m\u001b[43m(\u001b[49m\u001b[43mlog_ttd\u001b[49m\u001b[43m,\u001b[49m\u001b[43m \u001b[49m\u001b[43mlog_lift\u001b[49m\u001b[43m,\u001b[49m\u001b[43m \u001b[49m\u001b[43mR\u001b[49m\u001b[43m,\u001b[49m\u001b[43m \u001b[49m\u001b[43mls\u001b[49m\u001b[43m)\u001b[49m\n\u001b[1;32m    275\u001b[0m \u001b[43m                      \u001b[49m\u001b[38;5;28;43;01mfor\u001b[39;49;00m\u001b[43m \u001b[49m\u001b[43mls\u001b[49m\u001b[43m \u001b[49m\u001b[38;5;129;43;01min\u001b[39;49;00m\u001b[43m \u001b[49m\u001b[43m_job_chunks\u001b[49m\u001b[43m(\u001b[49m\u001b[43mlambda_seq\u001b[49m\u001b[43m,\u001b[49m\u001b[43m \u001b[49m\u001b[43mn_jobs\u001b[49m\u001b[43m)\u001b[49m\u001b[43m)\u001b[49m)\n\u001b[1;32m    276\u001b[0m topic_dfs \u001b[38;5;241m=\u001b[39m \u001b[38;5;28mmap\u001b[39m(topic_top_term_df, \u001b[38;5;28menumerate\u001b[39m(top_terms\u001b[38;5;241m.\u001b[39mT\u001b[38;5;241m.\u001b[39miterrows(), start_index))\n\u001b[1;32m    277\u001b[0m \u001b[38;5;28;01mreturn\u001b[39;00m pd\u001b[38;5;241m.\u001b[39mconcat([default_term_info] \u001b[38;5;241m+\u001b[39m \u001b[38;5;28mlist\u001b[39m(topic_dfs))\n",
      "File \u001b[0;32m~/anaconda3/lib/python3.9/site-packages/joblib/parallel.py:1098\u001b[0m, in \u001b[0;36mParallel.__call__\u001b[0;34m(self, iterable)\u001b[0m\n\u001b[1;32m   1095\u001b[0m     \u001b[38;5;28mself\u001b[39m\u001b[38;5;241m.\u001b[39m_iterating \u001b[38;5;241m=\u001b[39m \u001b[38;5;28;01mFalse\u001b[39;00m\n\u001b[1;32m   1097\u001b[0m \u001b[38;5;28;01mwith\u001b[39;00m \u001b[38;5;28mself\u001b[39m\u001b[38;5;241m.\u001b[39m_backend\u001b[38;5;241m.\u001b[39mretrieval_context():\n\u001b[0;32m-> 1098\u001b[0m     \u001b[38;5;28;43mself\u001b[39;49m\u001b[38;5;241;43m.\u001b[39;49m\u001b[43mretrieve\u001b[49m\u001b[43m(\u001b[49m\u001b[43m)\u001b[49m\n\u001b[1;32m   1099\u001b[0m \u001b[38;5;66;03m# Make sure that we get a last message telling us we are done\u001b[39;00m\n\u001b[1;32m   1100\u001b[0m elapsed_time \u001b[38;5;241m=\u001b[39m time\u001b[38;5;241m.\u001b[39mtime() \u001b[38;5;241m-\u001b[39m \u001b[38;5;28mself\u001b[39m\u001b[38;5;241m.\u001b[39m_start_time\n",
      "File \u001b[0;32m~/anaconda3/lib/python3.9/site-packages/joblib/parallel.py:975\u001b[0m, in \u001b[0;36mParallel.retrieve\u001b[0;34m(self)\u001b[0m\n\u001b[1;32m    973\u001b[0m \u001b[38;5;28;01mtry\u001b[39;00m:\n\u001b[1;32m    974\u001b[0m     \u001b[38;5;28;01mif\u001b[39;00m \u001b[38;5;28mgetattr\u001b[39m(\u001b[38;5;28mself\u001b[39m\u001b[38;5;241m.\u001b[39m_backend, \u001b[38;5;124m'\u001b[39m\u001b[38;5;124msupports_timeout\u001b[39m\u001b[38;5;124m'\u001b[39m, \u001b[38;5;28;01mFalse\u001b[39;00m):\n\u001b[0;32m--> 975\u001b[0m         \u001b[38;5;28mself\u001b[39m\u001b[38;5;241m.\u001b[39m_output\u001b[38;5;241m.\u001b[39mextend(\u001b[43mjob\u001b[49m\u001b[38;5;241;43m.\u001b[39;49m\u001b[43mget\u001b[49m\u001b[43m(\u001b[49m\u001b[43mtimeout\u001b[49m\u001b[38;5;241;43m=\u001b[39;49m\u001b[38;5;28;43mself\u001b[39;49m\u001b[38;5;241;43m.\u001b[39;49m\u001b[43mtimeout\u001b[49m\u001b[43m)\u001b[49m)\n\u001b[1;32m    976\u001b[0m     \u001b[38;5;28;01melse\u001b[39;00m:\n\u001b[1;32m    977\u001b[0m         \u001b[38;5;28mself\u001b[39m\u001b[38;5;241m.\u001b[39m_output\u001b[38;5;241m.\u001b[39mextend(job\u001b[38;5;241m.\u001b[39mget())\n",
      "File \u001b[0;32m~/anaconda3/lib/python3.9/site-packages/joblib/_parallel_backends.py:567\u001b[0m, in \u001b[0;36mLokyBackend.wrap_future_result\u001b[0;34m(future, timeout)\u001b[0m\n\u001b[1;32m    564\u001b[0m \u001b[38;5;250m\u001b[39m\u001b[38;5;124;03m\"\"\"Wrapper for Future.result to implement the same behaviour as\u001b[39;00m\n\u001b[1;32m    565\u001b[0m \u001b[38;5;124;03mAsyncResults.get from multiprocessing.\"\"\"\u001b[39;00m\n\u001b[1;32m    566\u001b[0m \u001b[38;5;28;01mtry\u001b[39;00m:\n\u001b[0;32m--> 567\u001b[0m     \u001b[38;5;28;01mreturn\u001b[39;00m \u001b[43mfuture\u001b[49m\u001b[38;5;241;43m.\u001b[39;49m\u001b[43mresult\u001b[49m\u001b[43m(\u001b[49m\u001b[43mtimeout\u001b[49m\u001b[38;5;241;43m=\u001b[39;49m\u001b[43mtimeout\u001b[49m\u001b[43m)\u001b[49m\n\u001b[1;32m    568\u001b[0m \u001b[38;5;28;01mexcept\u001b[39;00m CfTimeoutError \u001b[38;5;28;01mas\u001b[39;00m e:\n\u001b[1;32m    569\u001b[0m     \u001b[38;5;28;01mraise\u001b[39;00m \u001b[38;5;167;01mTimeoutError\u001b[39;00m \u001b[38;5;28;01mfrom\u001b[39;00m \u001b[38;5;21;01me\u001b[39;00m\n",
      "File \u001b[0;32m~/anaconda3/lib/python3.9/concurrent/futures/_base.py:446\u001b[0m, in \u001b[0;36mFuture.result\u001b[0;34m(self, timeout)\u001b[0m\n\u001b[1;32m    444\u001b[0m     \u001b[38;5;28;01mraise\u001b[39;00m CancelledError()\n\u001b[1;32m    445\u001b[0m \u001b[38;5;28;01melif\u001b[39;00m \u001b[38;5;28mself\u001b[39m\u001b[38;5;241m.\u001b[39m_state \u001b[38;5;241m==\u001b[39m FINISHED:\n\u001b[0;32m--> 446\u001b[0m     \u001b[38;5;28;01mreturn\u001b[39;00m \u001b[38;5;28;43mself\u001b[39;49m\u001b[38;5;241;43m.\u001b[39;49m\u001b[43m__get_result\u001b[49m\u001b[43m(\u001b[49m\u001b[43m)\u001b[49m\n\u001b[1;32m    447\u001b[0m \u001b[38;5;28;01melse\u001b[39;00m:\n\u001b[1;32m    448\u001b[0m     \u001b[38;5;28;01mraise\u001b[39;00m \u001b[38;5;167;01mTimeoutError\u001b[39;00m()\n",
      "File \u001b[0;32m~/anaconda3/lib/python3.9/concurrent/futures/_base.py:391\u001b[0m, in \u001b[0;36mFuture.__get_result\u001b[0;34m(self)\u001b[0m\n\u001b[1;32m    389\u001b[0m \u001b[38;5;28;01mif\u001b[39;00m \u001b[38;5;28mself\u001b[39m\u001b[38;5;241m.\u001b[39m_exception:\n\u001b[1;32m    390\u001b[0m     \u001b[38;5;28;01mtry\u001b[39;00m:\n\u001b[0;32m--> 391\u001b[0m         \u001b[38;5;28;01mraise\u001b[39;00m \u001b[38;5;28mself\u001b[39m\u001b[38;5;241m.\u001b[39m_exception\n\u001b[1;32m    392\u001b[0m     \u001b[38;5;28;01mfinally\u001b[39;00m:\n\u001b[1;32m    393\u001b[0m         \u001b[38;5;66;03m# Break a reference cycle with the exception in self._exception\u001b[39;00m\n\u001b[1;32m    394\u001b[0m         \u001b[38;5;28mself\u001b[39m \u001b[38;5;241m=\u001b[39m \u001b[38;5;28;01mNone\u001b[39;00m\n",
      "\u001b[0;31mBrokenProcessPool\u001b[0m: A task has failed to un-serialize. Please ensure that the arguments of the function are all picklable."
     ]
    }
   ],
   "source": [
    "#pyLDAvis.enable_notebook()\n",
    "#vis = gensimvis.prepare(lda_model, corpus, id2word)\n",
    "import pyLDAvis.gensim\n",
    "pyLDAvis.enable_notebook()\n",
    "vis = pyLDAvis.gensim.prepare(lda_model, corpus, id2word)\n"
   ]
  },
  {
   "cell_type": "code",
   "execution_count": null,
   "id": "d51c461d-5f84-4a06-a24b-6759deaa8de3",
   "metadata": {},
   "outputs": [],
   "source": [
    "pyLDAvis.enable_notebook()\n",
    "p = pyLDAvis.gensim.prepare(optimal_model, corpus, id2word)\n",
    "p"
   ]
  },
  {
   "cell_type": "markdown",
   "id": "3295372d",
   "metadata": {},
   "source": []
  },
  {
   "cell_type": "code",
   "execution_count": 81,
   "id": "08ba2e14",
   "metadata": {},
   "outputs": [
    {
     "name": "stdout",
     "output_type": "stream",
     "text": [
      "\n",
      "Perplexity:  -10.646273382173444\n",
      "\n",
      "Coherence Score:  0.52129718399613\n"
     ]
    }
   ],
   "source": [
    "# Compute Perplexity\n",
    "print('\\nPerplexity: ', lda_model.log_perplexity(corpus))  \n",
    "# a measure of how good the model is. lower the better.\n",
    "\n",
    "# Compute Coherence Score\n",
    "coherence_model_lda = CoherenceModel(model=lda_model, texts=data_lemmatized, dictionary=id2word, coherence='c_v')\n",
    "coherence_lda = coherence_model_lda.get_coherence()\n",
    "print('\\nCoherence Score: ', coherence_lda)"
   ]
  },
  {
   "cell_type": "code",
   "execution_count": null,
   "id": "0496b0ab",
   "metadata": {},
   "outputs": [],
   "source": []
  },
  {
   "cell_type": "code",
   "execution_count": null,
   "id": "4e54e4ca",
   "metadata": {},
   "outputs": [],
   "source": []
  }
 ],
 "metadata": {
  "kernelspec": {
   "display_name": "Python 3 (ipykernel)",
   "language": "python",
   "name": "python3"
  },
  "language_info": {
   "codemirror_mode": {
    "name": "ipython",
    "version": 3
   },
   "file_extension": ".py",
   "mimetype": "text/x-python",
   "name": "python",
   "nbconvert_exporter": "python",
   "pygments_lexer": "ipython3",
   "version": "3.9.18"
  }
 },
 "nbformat": 4,
 "nbformat_minor": 5
}
