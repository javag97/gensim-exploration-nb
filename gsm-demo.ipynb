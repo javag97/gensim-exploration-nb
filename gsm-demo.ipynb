{
 "cells": [
  {
   "cell_type": "code",
   "execution_count": 29,
   "id": "2f1436b1-e15f-456e-87f7-22a5389d5357",
   "metadata": {},
   "outputs": [],
   "source": [
    "# nltk.download('stopwords')"
   ]
  },
  {
   "cell_type": "code",
   "execution_count": 30,
   "id": "4183d74c-2f28-4629-a152-56c4bcd04d67",
   "metadata": {},
   "outputs": [],
   "source": [
    "import re\n",
    "import numpy as np\n",
    "import pandas as pd\n",
    "from pprint import pprint"
   ]
  },
  {
   "cell_type": "code",
   "execution_count": 31,
   "id": "3767d7ec-57c3-448e-b416-2d01c8faec0c",
   "metadata": {},
   "outputs": [],
   "source": [
    "# Gensim\n",
    "from gensim.utils import simple_preprocess\n",
    "from gensim.models import LdaModel, Phrases\n",
    "from gensim.models.phrases import Phraser\n",
    "import gensim.corpora as corpora\n",
    "from gensim.utils import simple_preprocess\n",
    "from gensim.models import CoherenceModel"
   ]
  },
  {
   "cell_type": "code",
   "execution_count": 32,
   "id": "9d500a49-8ce2-482c-a10f-769b6622a13b",
   "metadata": {},
   "outputs": [],
   "source": [
    "# spacy for lemmatization\n",
    "import spacy\n",
    "\n",
    "# Plotting tools\n",
    "import pyLDAvis\n",
    "import pyLDAvis.gensim_models as gensimvis\n",
    "import matplotlib.pyplot as plt\n",
    "%matplotlib inline"
   ]
  },
  {
   "cell_type": "code",
   "execution_count": 33,
   "id": "e86db7c8-c686-4585-8205-7331f9f6bf9e",
   "metadata": {},
   "outputs": [],
   "source": [
    "from nltk.corpus import stopwords\n",
    "from nltk import Tree\n",
    "\n",
    "stop_words = stopwords.words('english')"
   ]
  },
  {
   "cell_type": "code",
   "execution_count": 34,
   "id": "02f52ae4-c4b5-4e5f-bf7c-549b8e8055f1",
   "metadata": {},
   "outputs": [],
   "source": [
    "df = pd.read_csv(\"usnewspaper_china.csv\", header=None,)"
   ]
  },
  {
   "cell_type": "code",
   "execution_count": 35,
   "id": "bfb08103-9e67-480f-ac36-25b0b50f9816",
   "metadata": {},
   "outputs": [],
   "source": [
    "data = df[0].dropna().tolist()"
   ]
  },
  {
   "cell_type": "code",
   "execution_count": 36,
   "id": "338ebb7e-425c-48a5-8fce-6525c00de2bb",
   "metadata": {},
   "outputs": [
    {
     "name": "stderr",
     "output_type": "stream",
     "text": [
      "<>:2: DeprecationWarning: invalid escape sequence \\S\n",
      "<>:5: DeprecationWarning: invalid escape sequence \\s\n",
      "<>:2: DeprecationWarning: invalid escape sequence \\S\n",
      "<>:5: DeprecationWarning: invalid escape sequence \\s\n",
      "/var/folders/fd/qmhdtpdj7kj77ftrqfj87hmc0000gn/T/ipykernel_70879/1419459543.py:2: DeprecationWarning: invalid escape sequence \\S\n",
      "  data = [re.sub('\\S*@\\S*\\s?', '', sent) for sent in data]\n",
      "/var/folders/fd/qmhdtpdj7kj77ftrqfj87hmc0000gn/T/ipykernel_70879/1419459543.py:5: DeprecationWarning: invalid escape sequence \\s\n",
      "  data = [re.sub('\\s+', ' ', sent) for sent in data]\n"
     ]
    }
   ],
   "source": [
    "# Remove Emails\n",
    "data = [re.sub('\\S*@\\S*\\s?', '', sent) for sent in data]\n",
    "\n",
    "# Remove new line characters\n",
    "data = [re.sub('\\s+', ' ', sent) for sent in data]\n",
    "\n",
    "# Remove distracting single quotes\n",
    "data = [re.sub(\"\\'\", \"\", sent) for sent in data]"
   ]
  },
  {
   "cell_type": "code",
   "execution_count": 37,
   "id": "e749b9b4-1b36-4873-9de1-6a89c5efb51c",
   "metadata": {},
   "outputs": [
    {
     "name": "stdout",
     "output_type": "stream",
     "text": [
      "['in', 'the', 'new', 'sino', 'russian', 'defense', 'relationship', 'china', 'does', 'what', 'it', 'wants', 'and', 'there', 'isn', 'whole', 'lot', 'russia', 'can', 'do', 'about', 'it', 'xi', 'jingping', 'recent', 'visit', 'to', 'moscow', 'his', 'first', 'since', 'vladimir', 'putin', 'invaded', 'ukraine', 'last', 'year', 'was', 'summed', 'up', 'by', 'historian', 'sergey', 'radchenko', 'in', 'this', 'way', 'the', 'summit', 'can', 'be', 'summarised', 'by', 'the', 'chinese', 'saying', '雷声大雨点小', 'loud', 'thunder', 'but', 'few', 'raindrops', 'scratch', 'that', 'even', 'the', 'thunder', 'wasn', 'all', 'that', 'loud', 'the', 'meeting', 'which', 'apparently', 'produced', 'no', 'major', 'policy', 'shifts', 'nor', 'even', 'notable', 'statements', 'of', 'support', 'did', 'further', 'illustrate', 'tectonic', 'shift', 'in', 'the', 'supposed', 'no', 'limits', 'relationship', 'china', 'is', 'taking', 'the', 'lead', 'in', 'nearly', 'every', 'aspect', 'including', 'in', 'the', 'defense', 'industrial', 'sphere', 'once', 'dominated', 'by', 'russia', 'russia', 'modern', 'defense', 'ties', 'to', 'china', 'go', 'back', 'to', 'the', 'when', 'the', 'new', 'communist', 'regime', 'in', 'moscow', 'initially', 'supported', 'the', 'kuomintang', 'rather', 'than', 'mao', 'forces', 'during', 'the', 'chinese', 'civil', 'war', 'and', 'in', 'the', 'battle', 'against', 'imperial', 'japan', 'but', 'stalin', 'eventually', 'came', 'to', 'back', 'the', 'chinese', 'communist', 'party', 'handing', 'over', 'manchuria', 'and', 'its', 'heavy', 'industry', 'in', 'then', 'supplying', 'economic', 'aid', 'and', 'helping', 'to', 'establish', 'the', 'nascent', 'people', 'republic', 'of', 'china', 'civilian', 'and', 'defense', 'manufacturing', 'sector', 'during', 'this', 'period', 'the', 'ussr', 'willingly', 'transferred', 'various', 'military', 'technologies', 'to', 'the', 'prc', 'including', 'systems', 'that', 'china', 'eventually', 'recast', 'into', 'the', 'and', 'the', 'fighter', 'aircraft', 'as', 'well', 'as', 'the', 'bomber', 'this', 'was', 'not', 'merely', 'an', 'expression', 'of', 'goodwill', 'by', 'allowing', 'an', 'ally', 'to', 'copy', 'their', 'designs', 'the', 'ussr', 'was', 'able', 'to', 'not', 'only', 'arm', 'close', 'partner', 'without', 'stressing', 'its', 'own', 'manufacturing', 'but', 'also', 'rely', 'on', 'them', 'for', 'supply', 'of', 'materiel', 'to', 'other', 'client', 'states', 'such', 'as', 'during', 'the', 'korean', 'war', 'their', 'strategic', 'partnership', 'frayed', 'as', 'the', 'cold', 'war', 'continued', 'yet', 'swathes', 'of', 'china', 'defense', 'industry', 'from', 'missiles', 'and', 'radar', 'to', 'warships', 'have', 'been', 'heavily', 'influenced', 'by', 'equivalent', 'soviet', 'and', 'then', 'russian', 'models', 'some', 'of', 'these', 'models', 'were', 'licensed', 'directly', 'from', 'russian', 'defense', 'conglomerates', 'others', 'were', 'either', 'stolen', 'or', 'legitimately', 'purchased', 'and', 'then', 'reverse', 'engineered', 'in', 'the', 'post', 'soviet', 'era', 'even', 'as', 'russian', 'firms', 'showed', 'more', 'concern', 'about', 'corporate', 'espionage', 'and', 'technological', 'theft', 'cooperation', 'between', 'the', 'two', 'countries', 'defense', 'industries', 'surged', 'again', 'this', 'is', 'not', 'just', 'reflection', 'of', 'their', 'increasingly', 'close', 'ties', 'but', 'also', 'because', 'defense', 'technology', 'is', 'rare', 'area', 'where', 'russian', 'products', 'remained', 'globally', 'competitive', 'and', 'better', 'than', 'their', 'chinese', 'counterparts', 'but', 'moscow', 'increasingly', 'grew', 'caught', 'in', 'dilemma', 'of', 'immediate', 'sales', 'versus', 'long', 'term', 'loss', 'it', 'has', 'consistently', 'taken', 'the', 'short', 'view', 'continuing', 'its', 'arms', 'sales', 'to', 'china', 'even', 'if', 'it', 'knows', 'that', 'its', 'eastern', 'partner', 'is', 'likely', 'to', 'copy', 'these', 'products', 'and', 'erode', 'its', 'advantage', 'this', 'policy', 'dilemma', 'has', 'been', 'compounded', 'by', 'the', 'post', 'ukraine', 'effect', 'on', 'russia', 'economy', 'which', 'has', 'left', 'the', 'russian', 'economy', 'increasingly', 'reliant', 'on', 'china', 'further', 'decreasing', 'any', 'remaining', 'leverage', 'in', 'the', 'relationship', 'aviation', 'and', 'air', 'defense', 'show', 'this', 'in', 'action', 'the', 'debuted', 'in', 'was', 'the', 'first', 'chinese', 'aircraft', 'made', 'after', 'the', 'fall', 'of', 'the', 'soviet', 'union', 'to', 'feature', 'significant', 'russian', 'input', 'it', 'began', 'as', 'an', 'officially', 'licensed', 'chinese', 'made', 'copy', 'of', 'the', 'russian', 'su', 'multirole', 'fighter', 'sale', 'welcomed', 'by', 'the', 'cash', 'strapped', 'kremlin', 'however', 'before', 'long', 'china', 'canceled', 'the', 'agreement', 'and', 'began', 'producing', 'the', 'aircraft', 'independently', 'going', 'on', 'to', 'build', 'over', 'of', 'them', 'loss', 'to', 'russia', 'of', 'roughly', 'million', 'or', 'more', 'in', 'sales', 'per', 'plane', 'this', 'appears', 'to', 'have', 'become', 'standard', 'operating', 'procedure', 'for', 'china', 'for', 'example', 'when', 'beijing', 'was', 'looking', 'to', 'upgrade', 'the', 'it', 'decided', 'the', 'best', 'method', 'was', 'to', 'purchase', 'russia', 'advanced', 'su', 'multirole', 'fighter', 'the', 'deal', 'was', 'completed', 'in', 'and', 'conspicuously', 'included', 'numerous', 'spare', 'turbofan', 'engines', 'china', 'then', 'reverse', 'engineered', 'the', 'engine', 'shoring', 'up', 'broader', 'area', 'of', 'continued', 'weakness', 'in', 'its', 'indigenous', 'arms', 'industry', 'an', 'even', 'more', 'accelerated', 'version', 'of', 'this', 'process', 'played', 'out', 'with', 'russia', 'su', 'carrier', 'based', 'fighter', 'china', 'obtained', 'an', 'early', 'version', 'and', 'began', 'producing', 'an', 'unlicensed', 'indigenous', 'version', 'the', 'similarly', 'china', 'defense', 'industry', 'has', 'bought', 'copied', 'and', 'adapted', 'russian', 'made', 'air', 'and', 'missile', 'defense', 'systems', 'apparently', 'with', 'russian', 'acquiescence', 'six', 'years', 'after', 'acquiring', 'russia', 'china', 'produced', 'its', 'own', 'copy', 'the', 'hq', 'which', 'still', 'serves', 'as', 'one', 'of', 'the', 'pla', 'primary', 'surface', 'to', 'air', 'missile', 'systems', 'likewise', 'the', 'chinese', 'hq', 'missile', 'system', 'was', 'copied', 'from', 'the', 'russia', 'buk', 'but', 'appears', 'to', 'have', 'been', 'made', 'in', 'full', 'collaboration', 'with', 'the', 'russian', 'almaz', 'antey', 'corporation', 'this', 'trend', 'continues', 'with', 'even', 'the', 'most', 'advanced', 'systems', 'as', 'china', 'purchased', 'the', 'state', 'of', 'the', 'art', 'in', 'began', 'testing', 'in', 'and', 'appears', 'to', 'be', 'currently', 'using', 'the', 'system', 'to', 'improve', 'its', 'own', 'designs', 'if', 'russian', 'officials', 'are', 'unhappy', 'with', 'china', 'slowly', 'absorbing', 'more', 'and', 'more', 'of', 'its', 'defense', 'market', 'they', 'have', 'remained', 'low', 'key', 'about', 'it', 'aware', 'of', 'its', 'limited', 'options', 'russia', 'has', 'tried', 'to', 'make', 'the', 'best', 'of', 'the', 'situation', 'promoting', 'official', 'licensing', 'and', 'tech', 'transfer', 'deals', 'while', 'many', 'of', 'these', 'licensing', 'and', 'technology', 'sharing', 'agreements', 'respond', 'to', 'china', 'earlier', 'technology', 'thefts', 'they', 'are', 'also', 'reflect', 'russia', 'increasing', 'international', 'isolation', 'as', 'far', 'back', 'as', 'representative', 'from', 'rostec', 'implied', 'that', 'pressure', 'was', 'harming', 'its', 'arms', 'business', 'with', 'turkey', 'in', 'october', 'just', 'four', 'months', 'before', 'russia', 'invasion', 'of', 'ukraine', 'rostec', 'announced', 'it', 'would', 'pull', 'away', 'from', 'conducting', 'dollar', 'transactions', 'and', 'maintain', 'strong', 'business', 'ties', 'with', 'east', 'asia', 'last', 'year', 'rostec', 'announced', 'full', 'decoupling', 'from', 'western', 'countries', 'in', 'the', 'aerospace', 'field', 'chinese', 'firms', 'have', 'been', 'more', 'than', 'happy', 'to', 'try', 'to', 'step', 'into', 'this', 'void', 'this', 'dependency', 'has', 'now', 'turned', 'from', 'markets', 'to', 'military', 'hardware', 'itself', 'the', 'perfect', 'storm', 'of', 'western', 'sanctions', 'and', 'severed', 'business', 'and', 'political', 'ties', 'have', 'severely', 'curtailed', 'russia', 'options', 'in', 'supplying', 'its', 'own', 'forces', 'especially', 'as', 'the', 'war', 'consumes', 'far', 'more', 'parts', 'than', 'expected', 'china', 'practice', 'of', 'purchasing', 'russian', 'modeled', 'weapons', 'largely', 'for', 'acquiring', 'the', 'technology', 'to', 'make', 'itself', 'though', 'means', 'china', 'now', 'has', 'large', 'reserve', 'of', 'military', 'hardware', 'it', 'can', 'supply', 'to', 'russia', 'flagging', 'war', 'effort', 'in', 'february', 'the', 'chinese', 'firm', 'avic', 'international', 'delivered', 'million', 'in', 'parts', 'for', 'russia', 'su', 'fighter', 'which', 'china', 'began', 'operating', 'in', 'and', 'has', 'been', 'studying', 'for', 'its', 'own', 'fighter', 'development', 'the', 'pla', 'air', 'force', 'has', 'also', 'used', 'subsidiary', 'to', 'deliver', 'critical', 'components', 'for', 'russia', 'missile', 'defense', 'system', 'the', 'deliveries', 'also', 'included', 'navigation', 'equipment', 'for', 'the', 'russian', 'mi', 'helicopters', 'for', 'which', 'china', 'now', 'runs', 'maintenance', 'center', 'in', 'new', 'technology', 'areas', 'china', 'has', 'provided', 'at', 'least', 'million', 'in', 'drones', 'and', 'drone', 'parts', 'since', 'the', 'war', 'began', 'as', 'the', 'war', 'goes', 'on', 'russia', 'will', 'likely', 'need', 'even', 'more', 'of', 'china', 'military', 'industrial', 'capacity', 'to', 'keep', 'elements', 'of', 'the', 'russian', 'war', 'machine', 'on', 'its', 'feet', 'russia', 'faces', 'massive', 'sanctions', 'from', 'the', 'international', 'community', 'and', 'its', 'defense', 'industry', 'is', 'being', 'forced', 'to', 'source', 'critical', 'components', 'through', 'elaborate', 'third', 'party', 'arrangements', 'and', 'even', 'electronics', 'cannibalized', 'from', 'washing', 'machines', 'and', 'refrigerators', 'their', 'changing', 'ambitions', 'were', 'recently', 'summed', 'up', 'by', 'russia', 'kommersant', 'newspaper', 'technological', 'sovereignty', 'for', 'the', 'russian', 'federation', 'and', 'china', 'means', 'two', 'different', 'things', 'china', 'has', 'set', 'itself', 'the', 'task', 'of', 'producing', 'the', 'entire', 'range', 'of', 'key', 'products', 'and', 'possessing', 'all', 'key', 'technologies', 'as', 'the', 'global', 'leader', 'for', 'russia', 'it', 'is', 'about', 'the', 'possession', 'of', 'minimum', 'set', 'of', 'technologies', 'that', 'would', 'allow', 'it', 'to', 'compete', 'with', 'the', 'west', 'and', 'not', 'lag', 'behind', 'in', 'development', 'under', 'these', 'conditions', 'china', 'has', 'even', 'more', 'leverage', 'in', 'relationship', 'that', 'was', 'already', 'tilting', 'its', 'way', 'the', 'accelerated', 'loss', 'of', 'one', 'of', 'russia', 'few', 'competitive', 'edges', 'against', 'china', 'and', 'in', 'the', 'global', 'market', 'is', 'among', 'the', 'many', 'costs', 'of', 'putin', 'war', 'as', 'russia', 'defense', 'industry', 'collapses', 'chinese', 'firms', 'are', 'moving', 'to', 'the', 'fore', 'in', 'supplying', 'not', 'just', 'the', 'pla', 'but', 'also', 'foreign', 'markets', 'that', 'russia', 'once', 'sold', 'arms', 'to', 'and', 'even', 'now', 'to', 'the', 'russian', 'military', 'itself', 'the', 'new', 'china', 'russia', 'defense', 'industrial', 'relationship', 'can', 'best', 'be', 'summed', 'as', 'beneficial', 'to', 'both', 'parties', 'but', 'one', 'in', 'which', 'china', 'ultimately', 'benefits', 'far', 'more', 'thomas', 'corbett', 'is', 'research', 'analyst', 'with', 'bluepath', 'labs', 'his', 'areas', 'of', 'focus', 'include', 'chinese', 'foreign', 'relations', 'emerging', 'technology', 'and', 'indo', 'pacific', 'security', 'studies']\n"
     ]
    }
   ],
   "source": [
    "def sent_to_words(sentences):\n",
    "    for sentence in sentences:\n",
    "        yield(simple_preprocess(str(sentence), deacc=True))  # deacc=True removes punctuations\n",
    "\n",
    "data_words = list(sent_to_words(data))\n",
    "\n",
    "print(data_words[0])"
   ]
  },
  {
   "cell_type": "code",
   "execution_count": 38,
   "id": "582a25b5-8900-492e-b795-6f6d2c83ed71",
   "metadata": {},
   "outputs": [],
   "source": [
    "# Define functions for stopwords and lemmatization\n",
    "def remove_stopwords(texts):\n",
    "    return [[word for word in doc if word not in stop_words] for doc in texts]\n",
    "\n",
    "def lemmatization(texts, allowed_postags=['NOUN', 'ADJ', 'VERB', 'ADV']):\n",
    "    texts_out = []\n",
    "    for sent in texts:\n",
    "        doc = nlp(\" \".join(sent)) \n",
    "        texts_out.append([token.lemma_ for token in doc if token.pos_ in allowed_postags])\n",
    "    return texts_out"
   ]
  },
  {
   "cell_type": "code",
   "execution_count": 39,
   "id": "2df3b76f-d371-4aba-a1de-d50f7446b4b4",
   "metadata": {},
   "outputs": [],
   "source": [
    "# Remove Stop Words\n",
    "data_words_nostops = remove_stopwords(data_words)\n",
    "\n",
    "# Initialize spacy 'en' model, keeping only tagger component (for efficiency)\n",
    "# python3 -m spacy download en\n",
    "nlp = spacy.load('en_core_web_sm')\n",
    "\n",
    "# Do lemmatization keeping only noun, adj, vb, adv\n",
    "data_lemmatized = lemmatization(data_words_nostops)"
   ]
  },
  {
   "cell_type": "code",
   "execution_count": 40,
   "id": "54bf9cf3-3ceb-4899-af2e-f8e1d83673f6",
   "metadata": {},
   "outputs": [],
   "source": [
    "# [[(id2word[id], freq) for id, freq in cp] for cp in corpus[:1]]"
   ]
  },
  {
   "cell_type": "markdown",
   "id": "cb7a06cb-e0bc-4891-b193-ba111abe8c86",
   "metadata": {},
   "source": [
    "## Bigrams and Trigrams"
   ]
  },
  {
   "cell_type": "code",
   "execution_count": 41,
   "id": "6d2e6cf4-afa0-4488-8329-97a021601fab",
   "metadata": {},
   "outputs": [],
   "source": [
    "bigram = Phrases(data_words, min_count=20, threshold=100) # higher threshold fewer phrases.\n",
    "trigram = Phrases(bigram[data_words], threshold=100)\n",
    "\n",
    "bigram_mod = Phraser(bigram)\n",
    "trigram_mod = Phraser(trigram)"
   ]
  },
  {
   "cell_type": "code",
   "execution_count": 42,
   "id": "5318cec0-15fa-415d-874d-96cdce6d417e",
   "metadata": {},
   "outputs": [
    {
     "name": "stdout",
     "output_type": "stream",
     "text": [
      "Specific Bigram Example: cookie_preferences cookie_list cookie_list cookie is small_piece of data text_file that website when visited by user_asks your_browser to store on your device in order to remember information about you such as your language_preference or login information those cookies are set by us and called first party cookies we also use third party cookies which are cookies from domain_different than the domain of the website you are visiting for our advertising and marketing efforts more specifically we use cookies and other tracking technologies for the following purposes_strictly necessary cookies we do not allow you to opt_out of our certain_cookies as they are necessary to ensure the proper_functioning of our website such as prompting our cookie_banner and remembering_your privacy_choices and or to monitor_site performance these cookies are not used in way that constitutes_sale of your data under the ccpa_you can set your_browser to block or alert you about these cookies but some parts of the site will not work as intended if you do so you can usually_find these_settings in the options or preferences_menu of your_browser visit_www allaboutcookies_org to learn more functional_cookies we do not allow you to opt_out of our certain_cookies as they are necessary to ensure the proper_functioning of our website such as prompting our cookie_banner and remembering_your privacy_choices and or to monitor_site performance these cookies are not used in way that constitutes_sale of your data under the ccpa_you can set your_browser to block or alert you about these cookies but some parts of the site will not work as intended if you do so you can usually_find these_settings in the options or preferences_menu of your_browser visit_www allaboutcookies_org to learn more performance cookies we do not allow you to opt_out of our certain_cookies as they are necessary to ensure the proper_functioning of our website such as prompting our cookie_banner and remembering_your privacy_choices and or to monitor_site performance these cookies are not used in way that constitutes_sale of your data under the ccpa_you can set your_browser to block or alert you about these cookies but some parts of the site will not work as intended if you do so you can usually_find these_settings in the options or preferences_menu of your_browser visit_www allaboutcookies_org to learn more sale of personal data we also use cookies to personalize_your experience on our websites including by determining the most relevant_content and advertisements to show you and to monitor_site traffic and performance so that we may improve our websites and your experience you may opt_out of our use of such cookies and the associated_sale of your personal_information by using this toggle_switch you will still see some advertising_regardless of your_selection because we do not track you across different_devices browsers and gemg_properties your_selection will take effect only on this browser this device and this website social_media cookies we also use cookies to personalize_your experience on our websites including by determining the most relevant_content and advertisements to show you and to monitor_site traffic and performance so that we may improve our websites and your experience you may opt_out of our use of such cookies and the associated_sale of your personal_information by using this toggle_switch you will still see some advertising_regardless of your_selection because we do not track you across different_devices browsers and gemg_properties your_selection will take effect only on this browser this device and this website targeting cookies we also use cookies to personalize_your experience on our websites including by determining the most relevant_content and advertisements to show you and to monitor_site traffic and performance so that we may improve our websites and your experience you may opt_out of our use of such cookies and the associated_sale of your personal_information by using this toggle_switch you will still see some advertising_regardless of your_selection because we do not track you across different_devices browsers and gemg_properties your_selection will take effect only on this browser this device and this website\n",
      "Specific Trigram Example: in the new sino russian defense relationship china does what it wants and there isn whole lot russia can do about it xi jingping recent visit to moscow his first since vladimir_putin invaded_ukraine last year was summed up by historian sergey_radchenko in this way the summit can be summarised by the chinese saying 雷声大雨点小 loud thunder but few raindrops scratch that even the thunder wasn all that loud the meeting which apparently produced no major policy shifts nor even notable statements of support did further illustrate tectonic shift in the supposed no limits relationship china is taking the lead in nearly every_aspect including in the defense industrial sphere once dominated by russia russia modern defense ties to china go back to the when the new communist_regime in moscow initially supported the kuomintang rather than mao forces during the chinese civil war and in the battle against imperial japan but stalin eventually came to back the chinese communist_party handing over manchuria and its heavy industry in then supplying economic aid and helping to establish the nascent people republic of china civilian and defense manufacturing sector during this period the ussr willingly transferred various military technologies to the prc including systems that china eventually recast into the and the fighter aircraft as well as the bomber this was not merely an expression of goodwill by allowing an ally to copy their designs the ussr was able to not only arm close partner without stressing its own manufacturing but also rely on them for supply of materiel to other client states such as during the korean war their strategic_partnership frayed as the cold_war continued yet swathes of china defense industry from missiles and radar to warships have been heavily influenced by equivalent soviet and then russian models some of these models were licensed directly from russian defense conglomerates others were either stolen or legitimately purchased and then reverse_engineered in the post soviet era even as russian firms showed more concern about corporate espionage and technological theft cooperation between the two countries defense industries surged again this is not just reflection of their increasingly close ties but also because defense technology is rare area where russian products remained globally competitive and better than their chinese counterparts but moscow increasingly grew caught in dilemma of immediate sales versus long_term loss it has consistently taken the short view continuing its arms sales to china even if it knows that its eastern partner is likely to copy these products and erode its advantage this policy dilemma has been compounded by the post ukraine effect on russia economy which has left the russian economy increasingly reliant on china further decreasing any remaining leverage in the relationship aviation and air defense show this in action the debuted in was the first chinese aircraft made after the fall of the soviet_union to feature significant russian input it began as an officially licensed chinese made copy of the russian su multirole_fighter sale welcomed by the cash_strapped kremlin however before long china canceled the agreement and began producing the aircraft independently going on to build over of them loss to russia of roughly million or more in sales per plane this appears to have become standard operating procedure for china for example when beijing was looking to upgrade the it decided the best method was to purchase russia advanced su multirole_fighter the deal was completed in and conspicuously included numerous spare turbofan engines china then reverse_engineered the engine shoring up broader area of continued weakness in its indigenous arms industry an even more accelerated version of this process played out with russia su carrier based fighter china obtained an early version and began producing an unlicensed indigenous version the similarly china defense industry has bought copied and adapted russian made air and missile defense systems apparently with russian acquiescence six years after acquiring russia china produced its own copy the hq which still serves as one of the pla primary surface to air missile_systems likewise the chinese hq missile system was copied from the russia buk but appears to have been made in full collaboration with the russian almaz antey corporation this trend continues with even the most advanced systems as china purchased the state of the art in began testing in and appears to be currently using the system to improve its own designs if russian officials are unhappy with china slowly absorbing more and more of its defense market they have remained low key about it aware of its limited options russia has tried to make the best of the situation promoting official licensing and tech transfer deals while many of these licensing and technology sharing agreements respond to china earlier technology thefts they are also reflect russia increasing international isolation as far back as representative from rostec implied that pressure was harming its arms business with turkey in october just four months before russia invasion of ukraine rostec announced it would pull away from conducting dollar transactions and maintain strong business ties with east asia last year rostec announced full decoupling from western countries in the aerospace field chinese firms have been more than happy to try to step into this void this dependency has now turned from markets to military hardware itself the perfect storm of western sanctions and severed business and political ties have severely curtailed russia options in supplying its own forces especially as the war consumes far more parts than expected china practice of purchasing russian modeled weapons largely for acquiring the technology to make itself though means china now has large reserve of military hardware it can supply to russia flagging war effort in february the chinese firm avic international delivered million in parts for russia su fighter which china began operating in and has been studying for its own fighter development the pla air_force has also used subsidiary to deliver critical components for russia missile defense system the deliveries also included navigation equipment for the russian mi helicopters for which china now runs maintenance center in new technology areas china has provided at least million in drones and drone parts since the war began as the war goes on russia will likely need even more of china military industrial capacity to keep elements of the russian war machine on its feet russia faces massive sanctions from the international community and its defense industry is being forced to source critical components through elaborate third party arrangements and even electronics cannibalized from washing_machines and refrigerators their changing ambitions were recently summed up by russia kommersant newspaper technological sovereignty for the russian_federation and china means two different things china has set itself the task of producing the entire range of key products and possessing all key technologies as the global leader for russia it is about the possession of minimum set of technologies that would allow it to compete with the west and not lag behind in development under these conditions china has even more leverage in relationship that was already tilting its way the accelerated loss of one of russia few competitive edges against china and in the global market is among the many costs of putin war as russia defense industry collapses chinese firms are moving to the fore in supplying not just the pla but also foreign markets that russia once sold arms to and even now to the russian military itself the new china russia defense industrial relationship can best be summed as beneficial to both parties but one in which china ultimately benefits far more thomas_corbett is research analyst with bluepath_labs his areas of focus include chinese foreign relations emerging technology and indo_pacific_security studies\n"
     ]
    }
   ],
   "source": [
    "print(\"Specific Bigram Example:\", ' '.join(bigram_mod[data_words[1]]))\n",
    "                                                      \n",
    "print(\"Specific Trigram Example:\", ' '.join(trigram_mod[bigram_mod[data_words[0]]]))"
   ]
  },
  {
   "cell_type": "code",
   "execution_count": 43,
   "id": "75405673-737c-4544-a1d8-8eb1ca94c394",
   "metadata": {},
   "outputs": [],
   "source": [
    "data_with_phrases = [trigram_mod[bigram_mod[doc]] for doc in data_words]"
   ]
  },
  {
   "cell_type": "code",
   "execution_count": 44,
   "id": "6689047d-2fb4-4899-8c64-7eef64b04946",
   "metadata": {},
   "outputs": [],
   "source": [
    "# Create Dictionary\n",
    "id2word = corpora.Dictionary(data_with_phrases)\n",
    "\n",
    "# Create Corpus\n",
    "texts = data_with_phrases\n",
    "\n",
    "# Term Frequency list   \n",
    "corpus = [id2word.doc2bow(text) for text in texts] "
   ]
  },
  {
   "cell_type": "code",
   "execution_count": 45,
   "id": "4e14c441-a77c-4732-9e03-1f8e39c9f955",
   "metadata": {},
   "outputs": [],
   "source": [
    "# Build LDA model\n",
    "lda_model = LdaModel(corpus=corpus,\n",
    "                id2word=id2word,\n",
    "                num_topics=20, \n",
    "                random_state=100,\n",
    "                update_every=1,\n",
    "                chunksize=100,\n",
    "                passes=10,\n",
    "                alpha='auto',\n",
    "                per_word_topics=True)"
   ]
  },
  {
   "cell_type": "code",
   "execution_count": 59,
   "id": "904af110-88fc-486f-bb1b-ff76d95cb44d",
   "metadata": {},
   "outputs": [],
   "source": [
    "# Check the type of the numbers in the LDA topics\n",
    "for topic in lda_model.print_topics():\n",
    "    for word, prob in lda_model.show_topic(topic[0]):\n",
    "        if isinstance(prob, complex):\n",
    "            print(f\"Complex number found in topic {topic[0]} for word '{word}'\")"
   ]
  },
  {
   "cell_type": "code",
   "execution_count": 60,
   "id": "a2472f37-6dc2-4cbd-a66d-da9ab0216c31",
   "metadata": {},
   "outputs": [
    {
     "name": "stdout",
     "output_type": "stream",
     "text": [
      "[(0, '0.080*\"die\" + 0.052*\"in\" + 0.047*\"der\" + 0.043*\"und\" + 0.030*\"china\" + 0.026*\"das\" + 0.023*\"von\" + 0.019*\"zu\" + 0.016*\"ist\" + 0.016*\"fur\"'), (1, '0.060*\"the\" + 0.039*\"in\" + 0.030*\"to\" + 0.026*\"of\" + 0.021*\"china\" + 0.020*\"and\" + 0.016*\"on\" + 0.014*\"year\" + 0.014*\"for\" + 0.013*\"by\"'), (2, '0.024*\"ad\" + 0.005*\"video\" + 0.004*\"content\" + 0.002*\"too_loud\" + 0.002*\"ad_froze\" + 0.002*\"ad_audio\" + 0.002*\"finish_loading\" + 0.002*\"never_loaded\" + 0.002*\"load_content\" + 0.000*\"petitions\"'), (3, '0.176*\"mexico\" + 0.049*\"new\" + 0.035*\"canada\" + 0.027*\"washington\" + 0.014*\"new_york\" + 0.012*\"south_carolina\" + 0.012*\"state\" + 0.012*\"pacific\" + 0.011*\"islands\" + 0.010*\"of\"'), (4, '0.125*\"the\" + 0.057*\"of\" + 0.047*\"and\" + 0.037*\"in\" + 0.032*\"to\" + 0.013*\"for\" + 0.013*\"on\" + 0.012*\"from\" + 0.009*\"by\" + 0.009*\"as\"'), (5, '0.032*\"with\" + 0.027*\"and\" + 0.026*\"to\" + 0.015*\"you\" + 0.015*\"subscribe\" + 0.015*\"your\" + 0.015*\"https_yhoo\" + 0.014*\"news\" + 0.013*\"it\" + 0.011*\"get\"'), (6, '0.092*\"the\" + 0.038*\"and\" + 0.033*\"in\" + 0.029*\"taiwan\" + 0.024*\"military\" + 0.022*\"of\" + 0.021*\"to\" + 0.015*\"defense\" + 0.014*\"sea\" + 0.014*\"china\"'), (7, '0.083*\"the\" + 0.028*\"to\" + 0.021*\"of\" + 0.021*\"it\" + 0.021*\"and\" + 0.021*\"russia\" + 0.020*\"that\" + 0.020*\"was\" + 0.019*\"said\" + 0.016*\"ukraine\"'), (8, '0.044*\"and\" + 0.041*\"you\" + 0.039*\"to\" + 0.035*\"of\" + 0.030*\"the\" + 0.029*\"cookies\" + 0.025*\"our\" + 0.020*\"this\" + 0.019*\"we\" + 0.019*\"not\"'), (9, '0.054*\"the\" + 0.044*\"to\" + 0.029*\"that\" + 0.028*\"and\" + 0.025*\"of\" + 0.025*\"is\" + 0.020*\"it\" + 0.019*\"in\" + 0.013*\"for\" + 0.012*\"are\"'), (10, '0.000*\"torturing\" + 0.000*\"surgically\" + 0.000*\"additional_freeport\" + 0.000*\"ziyawudun\" + 0.000*\"vocational_school\" + 0.000*\"vaginal\" + 0.000*\"uterus\" + 0.000*\"tursunay\" + 0.000*\"trainees\" + 0.000*\"ammunition_bunkers\"'), (11, '0.074*\"the\" + 0.040*\"and\" + 0.040*\"to\" + 0.033*\"of\" + 0.030*\"in\" + 0.026*\"china\" + 0.015*\"with\" + 0.015*\"that\" + 0.013*\"on\" + 0.012*\"for\"'), (12, '0.051*\"solar\" + 0.028*\"emissions\" + 0.000*\"supply_chain\" + 0.000*\"erfurt\" + 0.000*\"meyer\" + 0.000*\"ira\" + 0.000*\"burger\" + 0.000*\"coal\" + 0.000*\"sic\" + 0.000*\"wam\"'), (13, '0.174*\"of\" + 0.062*\"the\" + 0.050*\"republic\" + 0.026*\"and\" + 0.024*\"china\" + 0.020*\"in\" + 0.020*\"company\" + 0.018*\"shares\" + 0.014*\"people\" + 0.012*\"stock\"'), (14, '0.000*\"torturing\" + 0.000*\"surgically\" + 0.000*\"additional_freeport\" + 0.000*\"ziyawudun\" + 0.000*\"vocational_school\" + 0.000*\"vaginal\" + 0.000*\"uterus\" + 0.000*\"tursunay\" + 0.000*\"trainees\" + 0.000*\"ammunition_bunkers\"'), (15, '0.000*\"torturing\" + 0.000*\"surgically\" + 0.000*\"additional_freeport\" + 0.000*\"ziyawudun\" + 0.000*\"vocational_school\" + 0.000*\"vaginal\" + 0.000*\"uterus\" + 0.000*\"tursunay\" + 0.000*\"trainees\" + 0.000*\"ammunition_bunkers\"'), (16, '0.000*\"torturing\" + 0.000*\"surgically\" + 0.000*\"additional_freeport\" + 0.000*\"ziyawudun\" + 0.000*\"vocational_school\" + 0.000*\"vaginal\" + 0.000*\"uterus\" + 0.000*\"tursunay\" + 0.000*\"trainees\" + 0.000*\"ammunition_bunkers\"'), (17, '0.040*\"to\" + 0.030*\"companies\" + 0.024*\"technology\" + 0.021*\"china\" + 0.016*\"apple\" + 0.015*\"products\" + 0.014*\"company\" + 0.013*\"ai\" + 0.012*\"its\" + 0.011*\"industry\"'), (18, '0.029*\"to\" + 0.028*\"in\" + 0.028*\"was\" + 0.023*\"he\" + 0.020*\"said\" + 0.019*\"his\" + 0.019*\"people\" + 0.018*\"who\" + 0.015*\"she\" + 0.013*\"had\"'), (19, '0.150*\"de\" + 0.060*\"la\" + 0.054*\"en\" + 0.051*\"el\" + 0.050*\"que\" + 0.026*\"china\" + 0.019*\"los\" + 0.016*\"un\" + 0.015*\"para\" + 0.015*\"una\"')]\n"
     ]
    }
   ],
   "source": [
    "# Print the Keyword\n",
    "print(lda_model.print_topics())\n",
    "doc_lda = lda_model[corpus]"
   ]
  },
  {
   "cell_type": "code",
   "execution_count": 47,
   "id": "2354201e-d1b3-454d-8ab1-79fbd2a754e8",
   "metadata": {},
   "outputs": [],
   "source": [
    "import pyLDAvis.gensim\n",
    "pyLDAvis.enable_notebook()"
   ]
  },
  {
   "cell_type": "code",
   "execution_count": 48,
   "id": "89ff5877-f2f7-4c03-ab76-a21fac212c9b",
   "metadata": {},
   "outputs": [],
   "source": [
    "try:\n",
    "    vis = pyLDAvis.gensim.prepare(lda_model, corpus, id2word)\n",
    "except Exception as e:\n",
    "    print(f\"Error preparing LDA visualization: {e}\")"
   ]
  },
  {
   "cell_type": "code",
   "execution_count": 49,
   "id": "fc450bb1-15af-4838-befd-123e566629d4",
   "metadata": {},
   "outputs": [
    {
     "ename": "TypeError",
     "evalue": "Object of type complex is not JSON serializable",
     "output_type": "error",
     "traceback": [
      "\u001b[0;31m---------------------------------------------------------------------------\u001b[0m",
      "\u001b[0;31mTypeError\u001b[0m                                 Traceback (most recent call last)",
      "File \u001b[0;32m~/anaconda3/lib/python3.9/site-packages/IPython/core/formatters.py:339\u001b[0m, in \u001b[0;36mBaseFormatter.__call__\u001b[0;34m(self, obj)\u001b[0m\n\u001b[1;32m    337\u001b[0m     \u001b[38;5;28;01mpass\u001b[39;00m\n\u001b[1;32m    338\u001b[0m \u001b[38;5;28;01melse\u001b[39;00m:\n\u001b[0;32m--> 339\u001b[0m     \u001b[38;5;28;01mreturn\u001b[39;00m \u001b[43mprinter\u001b[49m\u001b[43m(\u001b[49m\u001b[43mobj\u001b[49m\u001b[43m)\u001b[49m\n\u001b[1;32m    340\u001b[0m \u001b[38;5;66;03m# Finally look for special method names\u001b[39;00m\n\u001b[1;32m    341\u001b[0m method \u001b[38;5;241m=\u001b[39m get_real_method(obj, \u001b[38;5;28mself\u001b[39m\u001b[38;5;241m.\u001b[39mprint_method)\n",
      "File \u001b[0;32m~/anaconda3/lib/python3.9/site-packages/pyLDAvis/_display.py:308\u001b[0m, in \u001b[0;36menable_notebook.<locals>.<lambda>\u001b[0;34m(data, kwds)\u001b[0m\n\u001b[1;32m    305\u001b[0m ip \u001b[38;5;241m=\u001b[39m get_ipython()\n\u001b[1;32m    306\u001b[0m formatter \u001b[38;5;241m=\u001b[39m ip\u001b[38;5;241m.\u001b[39mdisplay_formatter\u001b[38;5;241m.\u001b[39mformatters[\u001b[38;5;124m'\u001b[39m\u001b[38;5;124mtext/html\u001b[39m\u001b[38;5;124m'\u001b[39m]\n\u001b[1;32m    307\u001b[0m formatter\u001b[38;5;241m.\u001b[39mfor_type(PreparedData,\n\u001b[0;32m--> 308\u001b[0m                    \u001b[38;5;28;01mlambda\u001b[39;00m data, kwds\u001b[38;5;241m=\u001b[39mkwargs: \u001b[43mprepared_data_to_html\u001b[49m\u001b[43m(\u001b[49m\u001b[43mdata\u001b[49m\u001b[43m,\u001b[49m\u001b[43m \u001b[49m\u001b[38;5;241;43m*\u001b[39;49m\u001b[38;5;241;43m*\u001b[39;49m\u001b[43mkwds\u001b[49m\u001b[43m)\u001b[49m)\n",
      "File \u001b[0;32m~/anaconda3/lib/python3.9/site-packages/pyLDAvis/_display.py:177\u001b[0m, in \u001b[0;36mprepared_data_to_html\u001b[0;34m(data, d3_url, ldavis_url, ldavis_css_url, template_type, visid, use_http)\u001b[0m\n\u001b[1;32m    170\u001b[0m \u001b[38;5;28;01melif\u001b[39;00m re\u001b[38;5;241m.\u001b[39msearch(\u001b[38;5;124mr\u001b[39m\u001b[38;5;124m'\u001b[39m\u001b[38;5;124m\\\u001b[39m\u001b[38;5;124ms\u001b[39m\u001b[38;5;124m'\u001b[39m, visid):\n\u001b[1;32m    171\u001b[0m     \u001b[38;5;28;01mraise\u001b[39;00m \u001b[38;5;167;01mValueError\u001b[39;00m(\u001b[38;5;124m\"\u001b[39m\u001b[38;5;124mvisid must not contain spaces\u001b[39m\u001b[38;5;124m\"\u001b[39m)\n\u001b[1;32m    173\u001b[0m \u001b[38;5;28;01mreturn\u001b[39;00m template\u001b[38;5;241m.\u001b[39mrender(visid\u001b[38;5;241m=\u001b[39mjson\u001b[38;5;241m.\u001b[39mdumps(visid),\n\u001b[1;32m    174\u001b[0m                        visid_raw\u001b[38;5;241m=\u001b[39mvisid,\n\u001b[1;32m    175\u001b[0m                        d3_url\u001b[38;5;241m=\u001b[39md3_url,\n\u001b[1;32m    176\u001b[0m                        ldavis_url\u001b[38;5;241m=\u001b[39mldavis_url,\n\u001b[0;32m--> 177\u001b[0m                        vis_json\u001b[38;5;241m=\u001b[39m\u001b[43mdata\u001b[49m\u001b[38;5;241;43m.\u001b[39;49m\u001b[43mto_json\u001b[49m\u001b[43m(\u001b[49m\u001b[43m)\u001b[49m,\n\u001b[1;32m    178\u001b[0m                        ldavis_css_url\u001b[38;5;241m=\u001b[39mldavis_css_url)\n",
      "File \u001b[0;32m~/anaconda3/lib/python3.9/site-packages/pyLDAvis/_prepare.py:464\u001b[0m, in \u001b[0;36mPreparedData.to_json\u001b[0;34m(self)\u001b[0m\n\u001b[1;32m    463\u001b[0m \u001b[38;5;28;01mdef\u001b[39;00m \u001b[38;5;21mto_json\u001b[39m(\u001b[38;5;28mself\u001b[39m):\n\u001b[0;32m--> 464\u001b[0m     \u001b[38;5;28;01mreturn\u001b[39;00m \u001b[43mjson\u001b[49m\u001b[38;5;241;43m.\u001b[39;49m\u001b[43mdumps\u001b[49m\u001b[43m(\u001b[49m\u001b[38;5;28;43mself\u001b[39;49m\u001b[38;5;241;43m.\u001b[39;49m\u001b[43mto_dict\u001b[49m\u001b[43m(\u001b[49m\u001b[43m)\u001b[49m\u001b[43m,\u001b[49m\u001b[43m \u001b[49m\u001b[38;5;28;43mcls\u001b[39;49m\u001b[38;5;241;43m=\u001b[39;49m\u001b[43mNumPyEncoder\u001b[49m\u001b[43m)\u001b[49m\n",
      "File \u001b[0;32m~/anaconda3/lib/python3.9/json/__init__.py:234\u001b[0m, in \u001b[0;36mdumps\u001b[0;34m(obj, skipkeys, ensure_ascii, check_circular, allow_nan, cls, indent, separators, default, sort_keys, **kw)\u001b[0m\n\u001b[1;32m    232\u001b[0m \u001b[38;5;28;01mif\u001b[39;00m \u001b[38;5;28mcls\u001b[39m \u001b[38;5;129;01mis\u001b[39;00m \u001b[38;5;28;01mNone\u001b[39;00m:\n\u001b[1;32m    233\u001b[0m     \u001b[38;5;28mcls\u001b[39m \u001b[38;5;241m=\u001b[39m JSONEncoder\n\u001b[0;32m--> 234\u001b[0m \u001b[38;5;28;01mreturn\u001b[39;00m \u001b[38;5;28;43mcls\u001b[39;49m\u001b[43m(\u001b[49m\n\u001b[1;32m    235\u001b[0m \u001b[43m    \u001b[49m\u001b[43mskipkeys\u001b[49m\u001b[38;5;241;43m=\u001b[39;49m\u001b[43mskipkeys\u001b[49m\u001b[43m,\u001b[49m\u001b[43m \u001b[49m\u001b[43mensure_ascii\u001b[49m\u001b[38;5;241;43m=\u001b[39;49m\u001b[43mensure_ascii\u001b[49m\u001b[43m,\u001b[49m\n\u001b[1;32m    236\u001b[0m \u001b[43m    \u001b[49m\u001b[43mcheck_circular\u001b[49m\u001b[38;5;241;43m=\u001b[39;49m\u001b[43mcheck_circular\u001b[49m\u001b[43m,\u001b[49m\u001b[43m \u001b[49m\u001b[43mallow_nan\u001b[49m\u001b[38;5;241;43m=\u001b[39;49m\u001b[43mallow_nan\u001b[49m\u001b[43m,\u001b[49m\u001b[43m \u001b[49m\u001b[43mindent\u001b[49m\u001b[38;5;241;43m=\u001b[39;49m\u001b[43mindent\u001b[49m\u001b[43m,\u001b[49m\n\u001b[1;32m    237\u001b[0m \u001b[43m    \u001b[49m\u001b[43mseparators\u001b[49m\u001b[38;5;241;43m=\u001b[39;49m\u001b[43mseparators\u001b[49m\u001b[43m,\u001b[49m\u001b[43m \u001b[49m\u001b[43mdefault\u001b[49m\u001b[38;5;241;43m=\u001b[39;49m\u001b[43mdefault\u001b[49m\u001b[43m,\u001b[49m\u001b[43m \u001b[49m\u001b[43msort_keys\u001b[49m\u001b[38;5;241;43m=\u001b[39;49m\u001b[43msort_keys\u001b[49m\u001b[43m,\u001b[49m\n\u001b[1;32m    238\u001b[0m \u001b[43m    \u001b[49m\u001b[38;5;241;43m*\u001b[39;49m\u001b[38;5;241;43m*\u001b[39;49m\u001b[43mkw\u001b[49m\u001b[43m)\u001b[49m\u001b[38;5;241;43m.\u001b[39;49m\u001b[43mencode\u001b[49m\u001b[43m(\u001b[49m\u001b[43mobj\u001b[49m\u001b[43m)\u001b[49m\n",
      "File \u001b[0;32m~/anaconda3/lib/python3.9/json/encoder.py:199\u001b[0m, in \u001b[0;36mJSONEncoder.encode\u001b[0;34m(self, o)\u001b[0m\n\u001b[1;32m    195\u001b[0m         \u001b[38;5;28;01mreturn\u001b[39;00m encode_basestring(o)\n\u001b[1;32m    196\u001b[0m \u001b[38;5;66;03m# This doesn't pass the iterator directly to ''.join() because the\u001b[39;00m\n\u001b[1;32m    197\u001b[0m \u001b[38;5;66;03m# exceptions aren't as detailed.  The list call should be roughly\u001b[39;00m\n\u001b[1;32m    198\u001b[0m \u001b[38;5;66;03m# equivalent to the PySequence_Fast that ''.join() would do.\u001b[39;00m\n\u001b[0;32m--> 199\u001b[0m chunks \u001b[38;5;241m=\u001b[39m \u001b[38;5;28;43mself\u001b[39;49m\u001b[38;5;241;43m.\u001b[39;49m\u001b[43miterencode\u001b[49m\u001b[43m(\u001b[49m\u001b[43mo\u001b[49m\u001b[43m,\u001b[49m\u001b[43m \u001b[49m\u001b[43m_one_shot\u001b[49m\u001b[38;5;241;43m=\u001b[39;49m\u001b[38;5;28;43;01mTrue\u001b[39;49;00m\u001b[43m)\u001b[49m\n\u001b[1;32m    200\u001b[0m \u001b[38;5;28;01mif\u001b[39;00m \u001b[38;5;129;01mnot\u001b[39;00m \u001b[38;5;28misinstance\u001b[39m(chunks, (\u001b[38;5;28mlist\u001b[39m, \u001b[38;5;28mtuple\u001b[39m)):\n\u001b[1;32m    201\u001b[0m     chunks \u001b[38;5;241m=\u001b[39m \u001b[38;5;28mlist\u001b[39m(chunks)\n",
      "File \u001b[0;32m~/anaconda3/lib/python3.9/json/encoder.py:257\u001b[0m, in \u001b[0;36mJSONEncoder.iterencode\u001b[0;34m(self, o, _one_shot)\u001b[0m\n\u001b[1;32m    252\u001b[0m \u001b[38;5;28;01melse\u001b[39;00m:\n\u001b[1;32m    253\u001b[0m     _iterencode \u001b[38;5;241m=\u001b[39m _make_iterencode(\n\u001b[1;32m    254\u001b[0m         markers, \u001b[38;5;28mself\u001b[39m\u001b[38;5;241m.\u001b[39mdefault, _encoder, \u001b[38;5;28mself\u001b[39m\u001b[38;5;241m.\u001b[39mindent, floatstr,\n\u001b[1;32m    255\u001b[0m         \u001b[38;5;28mself\u001b[39m\u001b[38;5;241m.\u001b[39mkey_separator, \u001b[38;5;28mself\u001b[39m\u001b[38;5;241m.\u001b[39mitem_separator, \u001b[38;5;28mself\u001b[39m\u001b[38;5;241m.\u001b[39msort_keys,\n\u001b[1;32m    256\u001b[0m         \u001b[38;5;28mself\u001b[39m\u001b[38;5;241m.\u001b[39mskipkeys, _one_shot)\n\u001b[0;32m--> 257\u001b[0m \u001b[38;5;28;01mreturn\u001b[39;00m \u001b[43m_iterencode\u001b[49m\u001b[43m(\u001b[49m\u001b[43mo\u001b[49m\u001b[43m,\u001b[49m\u001b[43m \u001b[49m\u001b[38;5;241;43m0\u001b[39;49m\u001b[43m)\u001b[49m\n",
      "File \u001b[0;32m~/anaconda3/lib/python3.9/site-packages/pyLDAvis/utils.py:150\u001b[0m, in \u001b[0;36mNumPyEncoder.default\u001b[0;34m(self, obj)\u001b[0m\n\u001b[1;32m    148\u001b[0m \u001b[38;5;28;01mif\u001b[39;00m \u001b[38;5;28misinstance\u001b[39m(obj, np\u001b[38;5;241m.\u001b[39mfloat64) \u001b[38;5;129;01mor\u001b[39;00m \u001b[38;5;28misinstance\u001b[39m(obj, np\u001b[38;5;241m.\u001b[39mfloat32):\n\u001b[1;32m    149\u001b[0m     \u001b[38;5;28;01mreturn\u001b[39;00m \u001b[38;5;28mfloat\u001b[39m(obj)\n\u001b[0;32m--> 150\u001b[0m \u001b[38;5;28;01mreturn\u001b[39;00m \u001b[43mjson\u001b[49m\u001b[38;5;241;43m.\u001b[39;49m\u001b[43mJSONEncoder\u001b[49m\u001b[38;5;241;43m.\u001b[39;49m\u001b[43mdefault\u001b[49m\u001b[43m(\u001b[49m\u001b[38;5;28;43mself\u001b[39;49m\u001b[43m,\u001b[49m\u001b[43m \u001b[49m\u001b[43mobj\u001b[49m\u001b[43m)\u001b[49m\n",
      "File \u001b[0;32m~/anaconda3/lib/python3.9/json/encoder.py:179\u001b[0m, in \u001b[0;36mJSONEncoder.default\u001b[0;34m(self, o)\u001b[0m\n\u001b[1;32m    160\u001b[0m \u001b[38;5;28;01mdef\u001b[39;00m \u001b[38;5;21mdefault\u001b[39m(\u001b[38;5;28mself\u001b[39m, o):\n\u001b[1;32m    161\u001b[0m \u001b[38;5;250m    \u001b[39m\u001b[38;5;124;03m\"\"\"Implement this method in a subclass such that it returns\u001b[39;00m\n\u001b[1;32m    162\u001b[0m \u001b[38;5;124;03m    a serializable object for ``o``, or calls the base implementation\u001b[39;00m\n\u001b[1;32m    163\u001b[0m \u001b[38;5;124;03m    (to raise a ``TypeError``).\u001b[39;00m\n\u001b[0;32m   (...)\u001b[0m\n\u001b[1;32m    177\u001b[0m \n\u001b[1;32m    178\u001b[0m \u001b[38;5;124;03m    \"\"\"\u001b[39;00m\n\u001b[0;32m--> 179\u001b[0m     \u001b[38;5;28;01mraise\u001b[39;00m \u001b[38;5;167;01mTypeError\u001b[39;00m(\u001b[38;5;124mf\u001b[39m\u001b[38;5;124m'\u001b[39m\u001b[38;5;124mObject of type \u001b[39m\u001b[38;5;132;01m{\u001b[39;00mo\u001b[38;5;241m.\u001b[39m\u001b[38;5;18m__class__\u001b[39m\u001b[38;5;241m.\u001b[39m\u001b[38;5;18m__name__\u001b[39m\u001b[38;5;132;01m}\u001b[39;00m\u001b[38;5;124m \u001b[39m\u001b[38;5;124m'\u001b[39m\n\u001b[1;32m    180\u001b[0m                     \u001b[38;5;124mf\u001b[39m\u001b[38;5;124m'\u001b[39m\u001b[38;5;124mis not JSON serializable\u001b[39m\u001b[38;5;124m'\u001b[39m)\n",
      "\u001b[0;31mTypeError\u001b[0m: Object of type complex is not JSON serializable"
     ]
    },
    {
     "data": {
      "text/plain": [
       "PreparedData(topic_coordinates=                        x                   y  topics  cluster       Freq\n",
       "topic                                                                    \n",
       "11     0.305614+0.000000j -0.032089+0.000000j       1        1  29.773162\n",
       "4      0.300359+0.000000j -0.061839+0.000000j       2        1  19.336621\n",
       "9      0.303330+0.000000j -0.048647+0.000000j       3        1  17.136524\n",
       "1      0.297468+0.000000j -0.014963+0.000000j       4        1   9.133123\n",
       "6      0.266709+0.000000j -0.013303+0.000000j       5        1   5.213652\n",
       "7      0.275285+0.000000j -0.035780+0.000000j       6        1   4.858502\n",
       "19    -0.028492+0.000000j  0.461540+0.000000j       7        1   4.440817\n",
       "18     0.231627+0.000000j -0.008444+0.000000j       8        1   4.321904\n",
       "17     0.149146+0.000000j  0.049226+0.000000j       9        1   2.513920\n",
       "13     0.151582+0.000000j -0.030139+0.000000j      10        1   1.273949\n",
       "0     -0.083972+0.000000j  0.189698+0.000000j      11        1   1.116500\n",
       "8      0.076656+0.000000j -0.092268+0.000000j      12        1   0.621774\n",
       "5     -0.141168+0.000000j -0.079311+0.000000j      13        1   0.180666\n",
       "3     -0.280965+0.000000j -0.046984+0.000000j      14        1   0.061243\n",
       "12    -0.304947+0.000000j -0.039721+0.000000j      15        1   0.010435\n",
       "2     -0.303845+0.000000j -0.039100+0.000000j      16        1   0.005577\n",
       "15    -0.303597+0.000000j -0.039469+0.000000j      17        1   0.000410\n",
       "14    -0.303597+0.000000j -0.039469+0.000000j      18        1   0.000409\n",
       "10    -0.303597+0.000000j -0.039469+0.000000j      19        1   0.000407\n",
       "16    -0.303597+0.000000j -0.039469+0.000000j      20        1   0.000407, topic_info=          Term           Freq          Total Category  logprob  loglift\n",
       "337         of  166780.000000  166780.000000  Default  30.0000  30.0000\n",
       "488        the  365895.000000  365895.000000  Default  29.0000  29.0000\n",
       "31         and  163664.000000  163664.000000  Default  28.0000  28.0000\n",
       "506         to  173062.000000  173062.000000  Default  27.0000  27.0000\n",
       "805         de   34730.000000   34730.000000  Default  26.0000  26.0000\n",
       "..         ...            ...            ...      ...      ...      ...\n",
       "25     already       0.000245    2469.475094  Topic20 -11.3593  -3.7168\n",
       "26        also       0.000245   13785.464095  Topic20 -11.3593  -5.4364\n",
       "27   ambitions       0.000245     334.178588  Topic20 -11.3593  -1.7167\n",
       "28       among       0.000245    1973.720790  Topic20 -11.3593  -3.4927\n",
       "29          an       0.000245   22566.183032  Topic20 -11.3593  -5.9293\n",
       "\n",
       "[1264 rows x 6 columns], token_table=      Topic      Freq       Term\n",
       "term                            \n",
       "0         1  0.016647       able\n",
       "0         2  0.275076       able\n",
       "0         3  0.523200       able\n",
       "0         6  0.122080       able\n",
       "0         9  0.062625       able\n",
       "...     ...       ...        ...\n",
       "751      11  0.066652       yuan\n",
       "4075     10  0.998325        yum\n",
       "4076     10  0.990072       yumc\n",
       "1547      6  0.995171  zelenskyy\n",
       "7043     11  0.999590         zu\n",
       "\n",
       "[1887 rows x 3 columns], R=30, lambda_step=0.01, plot_opts={'xlab': 'PC1', 'ylab': 'PC2'}, topic_order=[12, 5, 10, 2, 7, 8, 20, 19, 18, 14, 1, 9, 6, 4, 13, 3, 16, 15, 11, 17])"
      ]
     },
     "execution_count": 49,
     "metadata": {},
     "output_type": "execute_result"
    }
   ],
   "source": [
    "vis"
   ]
  },
  {
   "cell_type": "code",
   "execution_count": 61,
   "id": "8d0e3848-03fd-40a6-8a2d-d3d19cf5fbd1",
   "metadata": {},
   "outputs": [
    {
     "name": "stdout",
     "output_type": "stream",
     "text": [
      "\n",
      "Perplexity:  -10.291464828236148\n"
     ]
    },
    {
     "name": "stderr",
     "output_type": "stream",
     "text": [
      "/Users/javi/anaconda3/lib/python3.9/site-packages/gensim/topic_coherence/direct_confirmation_measure.py:204: RuntimeWarning: divide by zero encountered in scalar divide\n",
      "  m_lr_i = np.log(numerator / denominator)\n",
      "/Users/javi/anaconda3/lib/python3.9/site-packages/gensim/topic_coherence/indirect_confirmation_measure.py:323: RuntimeWarning: invalid value encountered in scalar divide\n",
      "  return cv1.T.dot(cv2)[0, 0] / (_magnitude(cv1) * _magnitude(cv2))\n"
     ]
    },
    {
     "name": "stdout",
     "output_type": "stream",
     "text": [
      "\n",
      "Coherence Score:  nan\n"
     ]
    }
   ],
   "source": [
    "print('\\nPerplexity: ', lda_model.log_perplexity(corpus))  \n",
    "\n",
    "coherence_model_lda = CoherenceModel(model=lda_model, texts=data_lemmatized, dictionary=id2word, coherence='c_v')\n",
    "coherence_lda = coherence_model_lda.get_coherence()\n",
    "print('\\nCoherence Score: ', coherence_lda)"
   ]
  },
  {
   "cell_type": "code",
   "execution_count": null,
   "id": "0903d28a-3875-43e6-b99a-bf2a561ef08c",
   "metadata": {},
   "outputs": [],
   "source": [
    "# nlp.add_pipe('sentencizer')"
   ]
  },
  {
   "cell_type": "code",
   "execution_count": null,
   "id": "e265f322-cbe6-4ee7-bc51-24a7e38823aa",
   "metadata": {},
   "outputs": [],
   "source": [
    "# create sentences\n",
    "# sentences = []\n",
    "# for item in data:\n",
    "#     doc = (nlp(item))\n",
    "#     sentence = [sent.text.strip() for sent in doc.sents]\n",
    "#     sentences.append(sentence)"
   ]
  },
  {
   "cell_type": "code",
   "execution_count": null,
   "id": "70e3dd5a-e1db-410b-8aa8-02f67e91122c",
   "metadata": {},
   "outputs": [],
   "source": [
    "# sentences[0][0]"
   ]
  },
  {
   "cell_type": "code",
   "execution_count": null,
   "id": "6542d593-e608-4b24-9d49-9dbece4e5157",
   "metadata": {},
   "outputs": [],
   "source": [
    "# # simple preprocess, stopwords, lemma\n",
    "# data_words = []\n",
    "# for document in sentences:\n",
    "#     words = list(sent_to_words(document))\n",
    "#     data_words_nostops = remove_stopwords(words)\n",
    "#     data_words.append(lemmatization(data_words_nostops))\n"
   ]
  },
  {
   "cell_type": "markdown",
   "id": "5d4387a4-7320-4cd2-88b2-33fe91f8076b",
   "metadata": {},
   "source": [
    "# Create tree representation"
   ]
  },
  {
   "cell_type": "code",
   "execution_count": null,
   "id": "6877dd8b-f4a0-41de-85d3-dc95584bd227",
   "metadata": {},
   "outputs": [],
   "source": [
    "data_lemmatized[to_nltk_tree(sent.root).pretty_print() for sent in doc.sents]"
   ]
  },
  {
   "cell_type": "code",
   "execution_count": null,
   "id": "b5a6adb7-603f-474b-b08c-ccee31b2f235",
   "metadata": {},
   "outputs": [],
   "source": [
    "def to_nltk_tree(node):\n",
    "    if node.n_lefts + node.n_rights > 0:\n",
    "        return Tree(node.orth_, [to_nltk_tree(child) for child in node.children])\n",
    "    else:\n",
    "        return node.orth_"
   ]
  },
  {
   "cell_type": "code",
   "execution_count": null,
   "id": "299ffd75-8c5a-40a2-8b5c-daaa0601a097",
   "metadata": {},
   "outputs": [],
   "source": [
    "doc = nlp(data[0])\n",
    "[to_nltk_tree(sent.root).pretty_print() for sent in doc.sents]"
   ]
  },
  {
   "cell_type": "code",
   "execution_count": null,
   "id": "9645d7d2-32ce-4fa2-9e57-7f63de9422fc",
   "metadata": {},
   "outputs": [],
   "source": [
    "from IPython.display import HTML\n",
    "css_str = '<style> \\\n",
    ".jp-Button path { fill: #616161;} \\\n",
    "text.terms { fill: #616161;} \\\n",
    ".jp-icon-warn0 path {fill: var(--jp-warn-color0);} \\\n",
    ".bp3-button-text path { fill: var(--jp-inverse-layout-color3);} \\\n",
    ".jp-icon-brand0 path { fill: var(--jp-brand-color0);} \\\n",
    "text.terms { fill: #616161;} \\\n",
    "</style>'\n",
    "display(HTML(css_str ))"
   ]
  },
  {
   "cell_type": "code",
   "execution_count": null,
   "id": "33cba69c-c2e4-44ad-8c67-b5582100a067",
   "metadata": {},
   "outputs": [],
   "source": []
  }
 ],
 "metadata": {
  "kernelspec": {
   "display_name": "Python 3 (ipykernel)",
   "language": "python",
   "name": "python3"
  },
  "language_info": {
   "codemirror_mode": {
    "name": "ipython",
    "version": 3
   },
   "file_extension": ".py",
   "mimetype": "text/x-python",
   "name": "python",
   "nbconvert_exporter": "python",
   "pygments_lexer": "ipython3",
   "version": "3.9.12"
  }
 },
 "nbformat": 4,
 "nbformat_minor": 5
}
