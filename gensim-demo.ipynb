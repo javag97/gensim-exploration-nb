{
 "cells": [
  {
   "cell_type": "code",
   "execution_count": 1,
   "id": "8e167442-6861-4701-8c94-d86cb5d9da63",
   "metadata": {},
   "outputs": [
    {
     "name": "stdout",
     "output_type": "stream",
     "text": [
      "Requirement already satisfied: gensim in /Users/javi/anaconda3/lib/python3.9/site-packages (4.1.2)\n",
      "Requirement already satisfied: spacy in /Users/javi/anaconda3/lib/python3.9/site-packages (3.7.2)\n",
      "Requirement already satisfied: numpy>=1.17.0 in /Users/javi/anaconda3/lib/python3.9/site-packages (from gensim) (1.21.5)\n",
      "Requirement already satisfied: scipy>=0.18.1 in /Users/javi/anaconda3/lib/python3.9/site-packages (from gensim) (1.7.3)\n",
      "Requirement already satisfied: smart-open>=1.8.1 in /Users/javi/anaconda3/lib/python3.9/site-packages (from gensim) (5.2.1)\n",
      "Requirement already satisfied: spacy-legacy<3.1.0,>=3.0.11 in /Users/javi/anaconda3/lib/python3.9/site-packages (from spacy) (3.0.12)\n",
      "Requirement already satisfied: spacy-loggers<2.0.0,>=1.0.0 in /Users/javi/anaconda3/lib/python3.9/site-packages (from spacy) (1.0.5)\n",
      "Requirement already satisfied: murmurhash<1.1.0,>=0.28.0 in /Users/javi/anaconda3/lib/python3.9/site-packages (from spacy) (1.0.10)\n",
      "Requirement already satisfied: cymem<2.1.0,>=2.0.2 in /Users/javi/anaconda3/lib/python3.9/site-packages (from spacy) (2.0.8)\n",
      "Requirement already satisfied: preshed<3.1.0,>=3.0.2 in /Users/javi/anaconda3/lib/python3.9/site-packages (from spacy) (3.0.9)\n",
      "Requirement already satisfied: thinc<8.3.0,>=8.1.8 in /Users/javi/anaconda3/lib/python3.9/site-packages (from spacy) (8.2.1)\n",
      "Requirement already satisfied: wasabi<1.2.0,>=0.9.1 in /Users/javi/anaconda3/lib/python3.9/site-packages (from spacy) (1.1.2)\n",
      "Requirement already satisfied: srsly<3.0.0,>=2.4.3 in /Users/javi/anaconda3/lib/python3.9/site-packages (from spacy) (2.4.8)\n",
      "Requirement already satisfied: catalogue<2.1.0,>=2.0.6 in /Users/javi/anaconda3/lib/python3.9/site-packages (from spacy) (2.0.10)\n",
      "Requirement already satisfied: weasel<0.4.0,>=0.1.0 in /Users/javi/anaconda3/lib/python3.9/site-packages (from spacy) (0.3.3)\n",
      "Requirement already satisfied: typer<0.10.0,>=0.3.0 in /Users/javi/anaconda3/lib/python3.9/site-packages (from spacy) (0.9.0)\n",
      "Requirement already satisfied: tqdm<5.0.0,>=4.38.0 in /Users/javi/anaconda3/lib/python3.9/site-packages (from spacy) (4.64.0)\n",
      "Requirement already satisfied: requests<3.0.0,>=2.13.0 in /Users/javi/anaconda3/lib/python3.9/site-packages (from spacy) (2.27.1)\n",
      "Requirement already satisfied: pydantic!=1.8,!=1.8.1,<3.0.0,>=1.7.4 in /Users/javi/anaconda3/lib/python3.9/site-packages (from spacy) (2.4.2)\n",
      "Requirement already satisfied: jinja2 in /Users/javi/anaconda3/lib/python3.9/site-packages (from spacy) (2.11.3)\n",
      "Requirement already satisfied: setuptools in /Users/javi/anaconda3/lib/python3.9/site-packages (from spacy) (68.2.2)\n",
      "Requirement already satisfied: packaging>=20.0 in /Users/javi/anaconda3/lib/python3.9/site-packages (from spacy) (21.3)\n",
      "Requirement already satisfied: langcodes<4.0.0,>=3.2.0 in /Users/javi/anaconda3/lib/python3.9/site-packages (from spacy) (3.3.0)\n",
      "Requirement already satisfied: pyparsing!=3.0.5,>=2.0.2 in /Users/javi/anaconda3/lib/python3.9/site-packages (from packaging>=20.0->spacy) (3.0.4)\n",
      "Requirement already satisfied: annotated-types>=0.4.0 in /Users/javi/anaconda3/lib/python3.9/site-packages (from pydantic!=1.8,!=1.8.1,<3.0.0,>=1.7.4->spacy) (0.6.0)\n",
      "Requirement already satisfied: pydantic-core==2.10.1 in /Users/javi/anaconda3/lib/python3.9/site-packages (from pydantic!=1.8,!=1.8.1,<3.0.0,>=1.7.4->spacy) (2.10.1)\n",
      "Requirement already satisfied: typing-extensions>=4.6.1 in /Users/javi/anaconda3/lib/python3.9/site-packages (from pydantic!=1.8,!=1.8.1,<3.0.0,>=1.7.4->spacy) (4.8.0)\n",
      "Requirement already satisfied: urllib3<1.27,>=1.21.1 in /Users/javi/anaconda3/lib/python3.9/site-packages (from requests<3.0.0,>=2.13.0->spacy) (1.26.9)\n",
      "Requirement already satisfied: certifi>=2017.4.17 in /Users/javi/anaconda3/lib/python3.9/site-packages (from requests<3.0.0,>=2.13.0->spacy) (2022.5.18.1)\n",
      "Requirement already satisfied: charset-normalizer~=2.0.0 in /Users/javi/anaconda3/lib/python3.9/site-packages (from requests<3.0.0,>=2.13.0->spacy) (2.0.4)\n",
      "Requirement already satisfied: idna<4,>=2.5 in /Users/javi/anaconda3/lib/python3.9/site-packages (from requests<3.0.0,>=2.13.0->spacy) (3.3)\n",
      "Requirement already satisfied: blis<0.8.0,>=0.7.8 in /Users/javi/anaconda3/lib/python3.9/site-packages (from thinc<8.3.0,>=8.1.8->spacy) (0.7.11)\n",
      "Requirement already satisfied: confection<1.0.0,>=0.0.1 in /Users/javi/anaconda3/lib/python3.9/site-packages (from thinc<8.3.0,>=8.1.8->spacy) (0.1.3)\n",
      "Requirement already satisfied: click<9.0.0,>=7.1.1 in /Users/javi/anaconda3/lib/python3.9/site-packages (from typer<0.10.0,>=0.3.0->spacy) (8.0.4)\n",
      "Requirement already satisfied: cloudpathlib<0.17.0,>=0.7.0 in /Users/javi/anaconda3/lib/python3.9/site-packages (from weasel<0.4.0,>=0.1.0->spacy) (0.16.0)\n",
      "Requirement already satisfied: MarkupSafe>=0.23 in /Users/javi/anaconda3/lib/python3.9/site-packages (from jinja2->spacy) (2.0.1)\n"
     ]
    }
   ],
   "source": [
    "!pip install gensim spacy"
   ]
  },
  {
   "cell_type": "code",
   "execution_count": 16,
   "id": "f258227b-4ca8-41f2-9cc2-9bceadb1f63d",
   "metadata": {},
   "outputs": [],
   "source": [
    "import pandas as pd\n",
    "import numpy\n",
    "from gensim import corpora\n",
    "from gensim.models import Phrases\n",
    "from gensim.utils import simple_preprocess\n",
    "from gensim.models import LdaMulticore\n",
    "import os"
   ]
  },
  {
   "cell_type": "code",
   "execution_count": 3,
   "id": "b593c323-8cd3-47c8-a8c4-c57097ff49b6",
   "metadata": {},
   "outputs": [
    {
     "name": "stdout",
     "output_type": "stream",
     "text": [
      "Collecting en-core-web-sm==3.7.0\n",
      "  Downloading https://github.com/explosion/spacy-models/releases/download/en_core_web_sm-3.7.0/en_core_web_sm-3.7.0-py3-none-any.whl (12.8 MB)\n",
      "\u001b[2K     \u001b[90m━━━━━━━━━━━━━━━━━━━━━━━━━━━━━━━━━━━━━━━━\u001b[0m \u001b[32m12.8/12.8 MB\u001b[0m \u001b[31m37.5 MB/s\u001b[0m eta \u001b[36m0:00:00\u001b[0m00:01\u001b[0m0:01\u001b[0m\n",
      "\u001b[?25hRequirement already satisfied: spacy<3.8.0,>=3.7.0 in /Users/javi/anaconda3/lib/python3.9/site-packages (from en-core-web-sm==3.7.0) (3.7.2)\n",
      "Requirement already satisfied: spacy-legacy<3.1.0,>=3.0.11 in /Users/javi/anaconda3/lib/python3.9/site-packages (from spacy<3.8.0,>=3.7.0->en-core-web-sm==3.7.0) (3.0.12)\n",
      "Requirement already satisfied: spacy-loggers<2.0.0,>=1.0.0 in /Users/javi/anaconda3/lib/python3.9/site-packages (from spacy<3.8.0,>=3.7.0->en-core-web-sm==3.7.0) (1.0.5)\n",
      "Requirement already satisfied: murmurhash<1.1.0,>=0.28.0 in /Users/javi/anaconda3/lib/python3.9/site-packages (from spacy<3.8.0,>=3.7.0->en-core-web-sm==3.7.0) (1.0.10)\n",
      "Requirement already satisfied: cymem<2.1.0,>=2.0.2 in /Users/javi/anaconda3/lib/python3.9/site-packages (from spacy<3.8.0,>=3.7.0->en-core-web-sm==3.7.0) (2.0.8)\n",
      "Requirement already satisfied: preshed<3.1.0,>=3.0.2 in /Users/javi/anaconda3/lib/python3.9/site-packages (from spacy<3.8.0,>=3.7.0->en-core-web-sm==3.7.0) (3.0.9)\n",
      "Requirement already satisfied: thinc<8.3.0,>=8.1.8 in /Users/javi/anaconda3/lib/python3.9/site-packages (from spacy<3.8.0,>=3.7.0->en-core-web-sm==3.7.0) (8.2.1)\n",
      "Requirement already satisfied: wasabi<1.2.0,>=0.9.1 in /Users/javi/anaconda3/lib/python3.9/site-packages (from spacy<3.8.0,>=3.7.0->en-core-web-sm==3.7.0) (1.1.2)\n",
      "Requirement already satisfied: srsly<3.0.0,>=2.4.3 in /Users/javi/anaconda3/lib/python3.9/site-packages (from spacy<3.8.0,>=3.7.0->en-core-web-sm==3.7.0) (2.4.8)\n",
      "Requirement already satisfied: catalogue<2.1.0,>=2.0.6 in /Users/javi/anaconda3/lib/python3.9/site-packages (from spacy<3.8.0,>=3.7.0->en-core-web-sm==3.7.0) (2.0.10)\n",
      "Requirement already satisfied: weasel<0.4.0,>=0.1.0 in /Users/javi/anaconda3/lib/python3.9/site-packages (from spacy<3.8.0,>=3.7.0->en-core-web-sm==3.7.0) (0.3.3)\n",
      "Requirement already satisfied: typer<0.10.0,>=0.3.0 in /Users/javi/anaconda3/lib/python3.9/site-packages (from spacy<3.8.0,>=3.7.0->en-core-web-sm==3.7.0) (0.9.0)\n",
      "Requirement already satisfied: smart-open<7.0.0,>=5.2.1 in /Users/javi/anaconda3/lib/python3.9/site-packages (from spacy<3.8.0,>=3.7.0->en-core-web-sm==3.7.0) (5.2.1)\n",
      "Requirement already satisfied: tqdm<5.0.0,>=4.38.0 in /Users/javi/anaconda3/lib/python3.9/site-packages (from spacy<3.8.0,>=3.7.0->en-core-web-sm==3.7.0) (4.64.0)\n",
      "Requirement already satisfied: requests<3.0.0,>=2.13.0 in /Users/javi/anaconda3/lib/python3.9/site-packages (from spacy<3.8.0,>=3.7.0->en-core-web-sm==3.7.0) (2.27.1)\n",
      "Requirement already satisfied: pydantic!=1.8,!=1.8.1,<3.0.0,>=1.7.4 in /Users/javi/anaconda3/lib/python3.9/site-packages (from spacy<3.8.0,>=3.7.0->en-core-web-sm==3.7.0) (2.4.2)\n",
      "Requirement already satisfied: jinja2 in /Users/javi/anaconda3/lib/python3.9/site-packages (from spacy<3.8.0,>=3.7.0->en-core-web-sm==3.7.0) (2.11.3)\n",
      "Requirement already satisfied: setuptools in /Users/javi/anaconda3/lib/python3.9/site-packages (from spacy<3.8.0,>=3.7.0->en-core-web-sm==3.7.0) (68.2.2)\n",
      "Requirement already satisfied: packaging>=20.0 in /Users/javi/anaconda3/lib/python3.9/site-packages (from spacy<3.8.0,>=3.7.0->en-core-web-sm==3.7.0) (21.3)\n",
      "Requirement already satisfied: langcodes<4.0.0,>=3.2.0 in /Users/javi/anaconda3/lib/python3.9/site-packages (from spacy<3.8.0,>=3.7.0->en-core-web-sm==3.7.0) (3.3.0)\n",
      "Requirement already satisfied: numpy>=1.19.0 in /Users/javi/anaconda3/lib/python3.9/site-packages (from spacy<3.8.0,>=3.7.0->en-core-web-sm==3.7.0) (1.21.5)\n",
      "Requirement already satisfied: pyparsing!=3.0.5,>=2.0.2 in /Users/javi/anaconda3/lib/python3.9/site-packages (from packaging>=20.0->spacy<3.8.0,>=3.7.0->en-core-web-sm==3.7.0) (3.0.4)\n",
      "Requirement already satisfied: annotated-types>=0.4.0 in /Users/javi/anaconda3/lib/python3.9/site-packages (from pydantic!=1.8,!=1.8.1,<3.0.0,>=1.7.4->spacy<3.8.0,>=3.7.0->en-core-web-sm==3.7.0) (0.6.0)\n",
      "Requirement already satisfied: pydantic-core==2.10.1 in /Users/javi/anaconda3/lib/python3.9/site-packages (from pydantic!=1.8,!=1.8.1,<3.0.0,>=1.7.4->spacy<3.8.0,>=3.7.0->en-core-web-sm==3.7.0) (2.10.1)\n",
      "Requirement already satisfied: typing-extensions>=4.6.1 in /Users/javi/anaconda3/lib/python3.9/site-packages (from pydantic!=1.8,!=1.8.1,<3.0.0,>=1.7.4->spacy<3.8.0,>=3.7.0->en-core-web-sm==3.7.0) (4.8.0)\n",
      "Requirement already satisfied: urllib3<1.27,>=1.21.1 in /Users/javi/anaconda3/lib/python3.9/site-packages (from requests<3.0.0,>=2.13.0->spacy<3.8.0,>=3.7.0->en-core-web-sm==3.7.0) (1.26.9)\n",
      "Requirement already satisfied: certifi>=2017.4.17 in /Users/javi/anaconda3/lib/python3.9/site-packages (from requests<3.0.0,>=2.13.0->spacy<3.8.0,>=3.7.0->en-core-web-sm==3.7.0) (2022.5.18.1)\n",
      "Requirement already satisfied: charset-normalizer~=2.0.0 in /Users/javi/anaconda3/lib/python3.9/site-packages (from requests<3.0.0,>=2.13.0->spacy<3.8.0,>=3.7.0->en-core-web-sm==3.7.0) (2.0.4)\n",
      "Requirement already satisfied: idna<4,>=2.5 in /Users/javi/anaconda3/lib/python3.9/site-packages (from requests<3.0.0,>=2.13.0->spacy<3.8.0,>=3.7.0->en-core-web-sm==3.7.0) (3.3)\n",
      "Requirement already satisfied: blis<0.8.0,>=0.7.8 in /Users/javi/anaconda3/lib/python3.9/site-packages (from thinc<8.3.0,>=8.1.8->spacy<3.8.0,>=3.7.0->en-core-web-sm==3.7.0) (0.7.11)\n",
      "Requirement already satisfied: confection<1.0.0,>=0.0.1 in /Users/javi/anaconda3/lib/python3.9/site-packages (from thinc<8.3.0,>=8.1.8->spacy<3.8.0,>=3.7.0->en-core-web-sm==3.7.0) (0.1.3)\n",
      "Requirement already satisfied: click<9.0.0,>=7.1.1 in /Users/javi/anaconda3/lib/python3.9/site-packages (from typer<0.10.0,>=0.3.0->spacy<3.8.0,>=3.7.0->en-core-web-sm==3.7.0) (8.0.4)\n",
      "Requirement already satisfied: cloudpathlib<0.17.0,>=0.7.0 in /Users/javi/anaconda3/lib/python3.9/site-packages (from weasel<0.4.0,>=0.1.0->spacy<3.8.0,>=3.7.0->en-core-web-sm==3.7.0) (0.16.0)\n",
      "Requirement already satisfied: MarkupSafe>=0.23 in /Users/javi/anaconda3/lib/python3.9/site-packages (from jinja2->spacy<3.8.0,>=3.7.0->en-core-web-sm==3.7.0) (2.0.1)\n",
      "\u001b[38;5;2m✔ Download and installation successful\u001b[0m\n",
      "You can now load the package via spacy.load('en_core_web_sm')\n"
     ]
    }
   ],
   "source": [
    "!python -m spacy download en_core_web_sm"
   ]
  },
  {
   "cell_type": "code",
   "execution_count": 4,
   "id": "710390aa-d65b-409e-94a7-f0acc6f673f2",
   "metadata": {},
   "outputs": [],
   "source": [
    "df = pd.read_csv(\"usnewspaper_china.csv\", header=None,)"
   ]
  },
  {
   "cell_type": "code",
   "execution_count": 5,
   "id": "73785b44-8c8f-4ceb-a871-96d78a0c1bcf",
   "metadata": {},
   "outputs": [],
   "source": [
    "header = ['documents', 'id', 'date', 'title', 'href', 'date_2', 'author', 'tags', 'base_url'] # will workshop the names if they will be helpful for demo"
   ]
  },
  {
   "cell_type": "code",
   "execution_count": 6,
   "id": "d076f9bc-4f02-4db1-8281-01294460bfbc",
   "metadata": {},
   "outputs": [
    {
     "data": {
      "text/html": [
       "<div>\n",
       "<style scoped>\n",
       "    .dataframe tbody tr th:only-of-type {\n",
       "        vertical-align: middle;\n",
       "    }\n",
       "\n",
       "    .dataframe tbody tr th {\n",
       "        vertical-align: top;\n",
       "    }\n",
       "\n",
       "    .dataframe thead th {\n",
       "        text-align: right;\n",
       "    }\n",
       "</style>\n",
       "<table border=\"1\" class=\"dataframe\">\n",
       "  <thead>\n",
       "    <tr style=\"text-align: right;\">\n",
       "      <th></th>\n",
       "      <th>0</th>\n",
       "      <th>1</th>\n",
       "      <th>2</th>\n",
       "      <th>3</th>\n",
       "      <th>4</th>\n",
       "      <th>5</th>\n",
       "      <th>6</th>\n",
       "      <th>7</th>\n",
       "      <th>8</th>\n",
       "      <th>9</th>\n",
       "      <th>10</th>\n",
       "    </tr>\n",
       "  </thead>\n",
       "  <tbody>\n",
       "    <tr>\n",
       "      <th>0</th>\n",
       "      <td>In the new Sino-Russian defense relationship, ...</td>\n",
       "      <td>19169618</td>\n",
       "      <td>2023-04-04</td>\n",
       "      <td>China Is Eating Russia’s Lunch in the Defense...</td>\n",
       "      <td>https://www.defenseone.com/ideas/2023/04/chi...</td>\n",
       "      <td>2023-04-04</td>\n",
       "      <td>{Thomas Corbett,Research Analyst,Bluepath Labs}</td>\n",
       "      <td>{china,war,russias,chinas,lunch,market,industr...</td>\n",
       "      <td>https://www.defenseone.com/</td>\n",
       "      <td>NaN</td>\n",
       "      <td>NaN</td>\n",
       "    </tr>\n",
       "    <tr>\n",
       "      <th>1</th>\n",
       "      <td>Cookie Preferences Cookie List\\n\\nCookie List\\...</td>\n",
       "      <td>22151305</td>\n",
       "      <td>2023-09-05</td>\n",
       "      <td>Geopolitical tension with China would hit U.S...</td>\n",
       "      <td>https://www.defenseone.com/policy/2023/08/ge...</td>\n",
       "      <td>2023-09-05</td>\n",
       "      <td>{Patrick Tucker,Science,Technology Editor,Defe...</td>\n",
       "      <td>{tension,study,geopolitical,sale,selection,sho...</td>\n",
       "      <td>https://www.defenseone.com/</td>\n",
       "      <td>NaN</td>\n",
       "      <td>NaN</td>\n",
       "    </tr>\n",
       "    <tr>\n",
       "      <th>2</th>\n",
       "      <td>In this image made from video, Chinese Foreign...</td>\n",
       "      <td>18118957</td>\n",
       "      <td>2023-02-13</td>\n",
       "      <td>China says more than 10 US balloons flew in i...</td>\n",
       "      <td>https://www.journalgazette.net/news/world/ch...</td>\n",
       "      <td>2023-02-13</td>\n",
       "      <td>{Associated Press}</td>\n",
       "      <td>{airspace,wang,ministry,office,china,image,spe...</td>\n",
       "      <td>https://www.journalgazette.net/</td>\n",
       "      <td>NaN</td>\n",
       "      <td>NaN</td>\n",
       "    </tr>\n",
       "    <tr>\n",
       "      <th>3</th>\n",
       "      <td>Associated Press\\n\\nBEIJING — Heavy flooding h...</td>\n",
       "      <td>20894060</td>\n",
       "      <td>2023-07-04</td>\n",
       "      <td>Flooding displaces 10,000 across China</td>\n",
       "      <td>https://www.mercurynews.com/2023/07/03/flood...</td>\n",
       "      <td>2023-07-04</td>\n",
       "      <td>{The Associated Press}</td>\n",
       "      <td>{temperature,china,heavy,rainfall,capital,floo...</td>\n",
       "      <td>http://www.mercurynews.com/</td>\n",
       "      <td>NaN</td>\n",
       "      <td>NaN</td>\n",
       "    </tr>\n",
       "    <tr>\n",
       "      <th>4</th>\n",
       "      <td>El presidente estadounidense, Joe Biden, afirm...</td>\n",
       "      <td>21023107</td>\n",
       "      <td>2023-07-10</td>\n",
       "      <td>Joe Biden cree que se pueden establecer relac...</td>\n",
       "      <td>https://laopinion.com/2023/07/09/joe-biden-c...</td>\n",
       "      <td>2023-07-10</td>\n",
       "      <td>{La Opinión}</td>\n",
       "      <td>{y,joe,relaciones,los,que,china,en,cree,pueden...</td>\n",
       "      <td>https://laopinion.com/</td>\n",
       "      <td>NaN</td>\n",
       "      <td>NaN</td>\n",
       "    </tr>\n",
       "  </tbody>\n",
       "</table>\n",
       "</div>"
      ],
      "text/plain": [
       "                                                  0         1           2   \\\n",
       "0  In the new Sino-Russian defense relationship, ...  19169618  2023-04-04   \n",
       "1  Cookie Preferences Cookie List\\n\\nCookie List\\...  22151305  2023-09-05   \n",
       "2  In this image made from video, Chinese Foreign...  18118957  2023-02-13   \n",
       "3  Associated Press\\n\\nBEIJING — Heavy flooding h...  20894060  2023-07-04   \n",
       "4  El presidente estadounidense, Joe Biden, afirm...  21023107  2023-07-10   \n",
       "\n",
       "                                                  3   \\\n",
       "0   China Is Eating Russia’s Lunch in the Defense...   \n",
       "1   Geopolitical tension with China would hit U.S...   \n",
       "2   China says more than 10 US balloons flew in i...   \n",
       "3            Flooding displaces 10,000 across China    \n",
       "4   Joe Biden cree que se pueden establecer relac...   \n",
       "\n",
       "                                                  4           5   \\\n",
       "0    https://www.defenseone.com/ideas/2023/04/chi...  2023-04-04   \n",
       "1    https://www.defenseone.com/policy/2023/08/ge...  2023-09-05   \n",
       "2    https://www.journalgazette.net/news/world/ch...  2023-02-13   \n",
       "3    https://www.mercurynews.com/2023/07/03/flood...  2023-07-04   \n",
       "4    https://laopinion.com/2023/07/09/joe-biden-c...  2023-07-10   \n",
       "\n",
       "                                                  6   \\\n",
       "0    {Thomas Corbett,Research Analyst,Bluepath Labs}   \n",
       "1  {Patrick Tucker,Science,Technology Editor,Defe...   \n",
       "2                                 {Associated Press}   \n",
       "3                             {The Associated Press}   \n",
       "4                                       {La Opinión}   \n",
       "\n",
       "                                                  7   \\\n",
       "0  {china,war,russias,chinas,lunch,market,industr...   \n",
       "1  {tension,study,geopolitical,sale,selection,sho...   \n",
       "2  {airspace,wang,ministry,office,china,image,spe...   \n",
       "3  {temperature,china,heavy,rainfall,capital,floo...   \n",
       "4  {y,joe,relaciones,los,que,china,en,cree,pueden...   \n",
       "\n",
       "                                 8   9   10  \n",
       "0       https://www.defenseone.com/ NaN NaN  \n",
       "1       https://www.defenseone.com/ NaN NaN  \n",
       "2   https://www.journalgazette.net/ NaN NaN  \n",
       "3       http://www.mercurynews.com/ NaN NaN  \n",
       "4            https://laopinion.com/ NaN NaN  "
      ]
     },
     "execution_count": 6,
     "metadata": {},
     "output_type": "execute_result"
    }
   ],
   "source": [
    "df.head(5)"
   ]
  },
  {
   "cell_type": "code",
   "execution_count": 7,
   "id": "e047421a-8fd6-4489-8bf3-e17e45b0bf32",
   "metadata": {},
   "outputs": [
    {
     "data": {
      "text/plain": [
       "0         0\n",
       "1         0\n",
       "2         0\n",
       "3         0\n",
       "4         0\n",
       "5         0\n",
       "6      3956\n",
       "7         0\n",
       "8         0\n",
       "9     10000\n",
       "10    10000\n",
       "dtype: int64"
      ]
     },
     "execution_count": 7,
     "metadata": {},
     "output_type": "execute_result"
    }
   ],
   "source": [
    "df.isnull().sum()"
   ]
  },
  {
   "cell_type": "code",
   "execution_count": 8,
   "id": "07db14c8-42d7-46f9-9989-fa476bd1acd9",
   "metadata": {},
   "outputs": [],
   "source": [
    "df = df.drop(columns=[9, 10])"
   ]
  },
  {
   "cell_type": "code",
   "execution_count": 9,
   "id": "d566de70-976d-4c51-8154-3a598b4ed8c1",
   "metadata": {},
   "outputs": [
    {
     "data": {
      "text/plain": [
       "0       In the new Sino-Russian defense relationship, ...\n",
       "1       Cookie Preferences Cookie List\\n\\nCookie List\\...\n",
       "2       In this image made from video, Chinese Foreign...\n",
       "3       Associated Press\\n\\nBEIJING — Heavy flooding h...\n",
       "4       El presidente estadounidense, Joe Biden, afirm...\n",
       "                              ...                        \n",
       "9995    \\n\\n\\n\\n\\n\\n\\n\\n\\n\\n\\n\\n\\n\\nBEIJING, March 20 ...\n",
       "9996    It was a cold and overcast morning in November...\n",
       "9997    China`s expansion of its nuclear arsenal is th...\n",
       "9998    NEW You can now listen to Fox News articles!\\n...\n",
       "9999    Hong Kong CNN —\\n\\nKiki Yang brought an empty ...\n",
       "Name: 0, Length: 10000, dtype: object"
      ]
     },
     "execution_count": 9,
     "metadata": {},
     "output_type": "execute_result"
    }
   ],
   "source": [
    "df[0]"
   ]
  },
  {
   "cell_type": "code",
   "execution_count": 10,
   "id": "30c907a6-585e-4874-81bf-a1975bb3bfc1",
   "metadata": {},
   "outputs": [],
   "source": [
    "documents = df[0].dropna().tolist()"
   ]
  },
  {
   "cell_type": "code",
   "execution_count": 11,
   "id": "73cb41ed-1594-4aef-b4f9-0fd76a81d462",
   "metadata": {},
   "outputs": [],
   "source": [
    "def preprocess(docs):\n",
    "    tokenized_docs = [simple_preprocess(doc) for doc in docs]\n",
    "    bigram = Phrases(tokenized_docs, min_count=5, threshold=100)\n",
    "    trigram = Phrases(bigram[tokenized_docs], threshold=100)\n",
    "    return [trigram[bigram[doc]] for doc in tokenized_docs]\n",
    "\n",
    "processed_docs = preprocess(documents)"
   ]
  },
  {
   "cell_type": "code",
   "execution_count": 12,
   "id": "583c76b8-d4f9-476b-a78f-31b494620520",
   "metadata": {},
   "outputs": [],
   "source": [
    "dictionary = corpora.Dictionary(processed_docs)\n",
    "corpus = [dictionary.doc2bow(doc) for doc in processed_docs]"
   ]
  },
  {
   "cell_type": "code",
   "execution_count": 17,
   "id": "087c6576-76c1-46e7-b7b8-8a255db9c2a1",
   "metadata": {},
   "outputs": [
    {
     "name": "stdout",
     "output_type": "stream",
     "text": [
      "(0, '0.068*\"the\" + 0.035*\"to\" + 0.026*\"of\" + 0.024*\"and\" + 0.018*\"in\" + 0.014*\"it\" + 0.014*\"that\" + 0.014*\"on\" + 0.011*\"for\" + 0.011*\"china\"')\n",
      "(1, '0.073*\"the\" + 0.035*\"and\" + 0.032*\"to\" + 0.031*\"in\" + 0.025*\"of\" + 0.014*\"china\" + 0.011*\"that\" + 0.010*\"on\" + 0.009*\"with\" + 0.009*\"said\"')\n",
      "(2, '0.018*\"to\" + 0.017*\"the\" + 0.013*\"and\" + 0.013*\"in\" + 0.011*\"de\" + 0.011*\"of\" + 0.007*\"la\" + 0.007*\"que\" + 0.006*\"is\" + 0.006*\"china\"')\n",
      "(3, '0.066*\"the\" + 0.029*\"to\" + 0.029*\"and\" + 0.029*\"of\" + 0.022*\"in\" + 0.022*\"china\" + 0.014*\"taiwan\" + 0.013*\"that\" + 0.010*\"on\" + 0.010*\"is\"')\n",
      "(4, '0.081*\"de\" + 0.032*\"la\" + 0.030*\"en\" + 0.027*\"el\" + 0.026*\"que\" + 0.015*\"china\" + 0.009*\"un\" + 0.009*\"los\" + 0.008*\"para\" + 0.007*\"se\"')\n",
      "(5, '0.036*\"die\" + 0.025*\"der\" + 0.022*\"in\" + 0.021*\"und\" + 0.015*\"china\" + 0.011*\"das\" + 0.010*\"von\" + 0.010*\"zu\" + 0.008*\"ist\" + 0.007*\"für\"')\n",
      "(6, '0.025*\"the\" + 0.017*\"of\" + 0.017*\"to\" + 0.012*\"in\" + 0.009*\"new\" + 0.008*\"and\" + 0.006*\"have\" + 0.006*\"is\" + 0.005*\"that\" + 0.005*\"this\"')\n",
      "(7, '0.075*\"the\" + 0.036*\"of\" + 0.029*\"and\" + 0.028*\"to\" + 0.025*\"in\" + 0.017*\"china\" + 0.012*\"on\" + 0.009*\"for\" + 0.008*\"with\" + 0.008*\"is\"')\n",
      "(8, '0.065*\"the\" + 0.035*\"to\" + 0.034*\"and\" + 0.025*\"of\" + 0.025*\"in\" + 0.015*\"that\" + 0.010*\"on\" + 0.010*\"china\" + 0.009*\"with\" + 0.009*\"for\"')\n",
      "(9, '0.046*\"the\" + 0.024*\"of\" + 0.022*\"and\" + 0.021*\"to\" + 0.015*\"in\" + 0.009*\"china\" + 0.008*\"chinese\" + 0.008*\"on\" + 0.008*\"that\" + 0.008*\"for\"')\n",
      "(10, '0.069*\"the\" + 0.036*\"of\" + 0.036*\"and\" + 0.028*\"to\" + 0.022*\"in\" + 0.018*\"china\" + 0.015*\"that\" + 0.010*\"for\" + 0.009*\"on\" + 0.008*\"is\"')\n",
      "(11, '0.048*\"the\" + 0.030*\"of\" + 0.019*\"in\" + 0.018*\"to\" + 0.016*\"and\" + 0.010*\"is\" + 0.008*\"that\" + 0.008*\"china\" + 0.007*\"for\" + 0.007*\"with\"')\n",
      "(12, '0.051*\"the\" + 0.033*\"and\" + 0.032*\"in\" + 0.030*\"to\" + 0.028*\"of\" + 0.012*\"china\" + 0.012*\"as\" + 0.011*\"on\" + 0.010*\"for\" + 0.010*\"with\"')\n",
      "(13, '0.059*\"the\" + 0.032*\"to\" + 0.029*\"of\" + 0.027*\"in\" + 0.023*\"and\" + 0.016*\"china\" + 0.012*\"is\" + 0.011*\"for\" + 0.011*\"that\" + 0.011*\"on\"')\n",
      "(14, '0.127*\"of\" + 0.042*\"the\" + 0.031*\"republic\" + 0.028*\"and\" + 0.010*\"to\" + 0.010*\"in\" + 0.009*\"china\" + 0.008*\"people\" + 0.006*\"from\" + 0.005*\"with\"')\n",
      "(15, '0.055*\"the\" + 0.033*\"to\" + 0.030*\"and\" + 0.022*\"in\" + 0.020*\"of\" + 0.015*\"china\" + 0.011*\"that\" + 0.010*\"with\" + 0.010*\"on\" + 0.010*\"is\"')\n",
      "(16, '0.052*\"the\" + 0.031*\"in\" + 0.028*\"of\" + 0.025*\"to\" + 0.021*\"and\" + 0.020*\"china\" + 0.011*\"on\" + 0.007*\"is\" + 0.007*\"as\" + 0.007*\"with\"')\n",
      "(17, '0.064*\"the\" + 0.036*\"to\" + 0.028*\"of\" + 0.027*\"and\" + 0.025*\"in\" + 0.013*\"that\" + 0.012*\"for\" + 0.011*\"china\" + 0.010*\"on\" + 0.010*\"is\"')\n",
      "(18, '0.034*\"de\" + 0.019*\"china\" + 0.018*\"to\" + 0.018*\"the\" + 0.017*\"in\" + 0.013*\"el\" + 0.012*\"of\" + 0.011*\"and\" + 0.011*\"que\" + 0.009*\"en\"')\n",
      "(19, '0.027*\"the\" + 0.026*\"to\" + 0.021*\"and\" + 0.016*\"of\" + 0.012*\"in\" + 0.010*\"china\" + 0.008*\"is\" + 0.007*\"that\" + 0.007*\"as\" + 0.007*\"on\"')\n"
     ]
    }
   ],
   "source": [
    "lda = LdaMulticore(corpus, num_topics=20, id2word=dictionary, passes=5, workers=min(10, os.cpu_count() - 1))\n",
    "for topic in lda.print_topics():\n",
    "    print(topic)"
   ]
  },
  {
   "cell_type": "code",
   "execution_count": null,
   "id": "e4b0a40d-6537-4d71-818d-a5a9c0d04731",
   "metadata": {},
   "outputs": [],
   "source": [
    "!pip install -U pip setuptools wheel\n",
    "!pip install -U 'spacy[apple]'"
   ]
  },
  {
   "cell_type": "code",
   "execution_count": null,
   "id": "0b63a839-a5e7-4c7f-98f1-399a55612cb1",
   "metadata": {},
   "outputs": [],
   "source": [
    "import spacy\n",
    "import networkx as nx\n",
    "\n",
    "nlp = spacy.load(\"en_core_web_sm\")\n",
    "\n",
    "doc = nlp(' '.join(documents[:5])) \n",
    "\n",
    "graph = nx.DiGraph()\n",
    "\n",
    "for token in doc:\n",
    "    graph.add_node(token.text)\n",
    "\n",
    "    if token.dep_ != \"ROOT\":\n",
    "        graph.add_edge(token.head.text, token.text, label=token.dep_)\n",
    "\n"
   ]
  },
  {
   "cell_type": "code",
   "execution_count": null,
   "id": "ec08aa58-b715-4c41-b55c-f2c8eedeb8e0",
   "metadata": {},
   "outputs": [],
   "source": []
  }
 ],
 "metadata": {
  "kernelspec": {
   "display_name": "Python 3 (ipykernel)",
   "language": "python",
   "name": "python3"
  },
  "language_info": {
   "codemirror_mode": {
    "name": "ipython",
    "version": 3
   },
   "file_extension": ".py",
   "mimetype": "text/x-python",
   "name": "python",
   "nbconvert_exporter": "python",
   "pygments_lexer": "ipython3",
   "version": "3.9.12"
  }
 },
 "nbformat": 4,
 "nbformat_minor": 5
}
