{
 "cells": [
  {
   "cell_type": "code",
   "execution_count": 1,
   "id": "8e167442-6861-4701-8c94-d86cb5d9da63",
   "metadata": {},
   "outputs": [
    {
     "name": "stdout",
     "output_type": "stream",
     "text": [
      "Requirement already satisfied: gensim in /Users/javi/anaconda3/lib/python3.9/site-packages (4.1.2)\n",
      "Requirement already satisfied: numpy>=1.17.0 in /Users/javi/anaconda3/lib/python3.9/site-packages (from gensim) (1.21.5)\n",
      "Requirement already satisfied: smart-open>=1.8.1 in /Users/javi/anaconda3/lib/python3.9/site-packages (from gensim) (5.2.1)\n",
      "Requirement already satisfied: scipy>=0.18.1 in /Users/javi/anaconda3/lib/python3.9/site-packages (from gensim) (1.7.3)\n"
     ]
    }
   ],
   "source": [
    "!pip install gensim"
   ]
  },
  {
   "cell_type": "code",
   "execution_count": 2,
   "id": "f258227b-4ca8-41f2-9cc2-9bceadb1f63d",
   "metadata": {},
   "outputs": [],
   "source": [
    "import pandas as pd\n",
    "import numpy "
   ]
  },
  {
   "cell_type": "code",
   "execution_count": 3,
   "id": "b593c323-8cd3-47c8-a8c4-c57097ff49b6",
   "metadata": {},
   "outputs": [],
   "source": [
    "import gensim"
   ]
  },
  {
   "cell_type": "code",
   "execution_count": 4,
   "id": "710390aa-d65b-409e-94a7-f0acc6f673f2",
   "metadata": {},
   "outputs": [],
   "source": [
    "df = pd.read_csv(\"usnewspaper_china.csv\", header=None,)"
   ]
  },
  {
   "cell_type": "code",
   "execution_count": 5,
   "id": "73785b44-8c8f-4ceb-a871-96d78a0c1bcf",
   "metadata": {},
   "outputs": [],
   "source": [
    "header = ['documents', 'id', 'date', 'title', 'href', 'date_2', 'author', 'tags', 'base_url'] # will workshop the names if they will be helpful for demo"
   ]
  },
  {
   "cell_type": "code",
   "execution_count": 6,
   "id": "d076f9bc-4f02-4db1-8281-01294460bfbc",
   "metadata": {},
   "outputs": [
    {
     "data": {
      "text/html": [
       "<div>\n",
       "<style scoped>\n",
       "    .dataframe tbody tr th:only-of-type {\n",
       "        vertical-align: middle;\n",
       "    }\n",
       "\n",
       "    .dataframe tbody tr th {\n",
       "        vertical-align: top;\n",
       "    }\n",
       "\n",
       "    .dataframe thead th {\n",
       "        text-align: right;\n",
       "    }\n",
       "</style>\n",
       "<table border=\"1\" class=\"dataframe\">\n",
       "  <thead>\n",
       "    <tr style=\"text-align: right;\">\n",
       "      <th></th>\n",
       "      <th>0</th>\n",
       "      <th>1</th>\n",
       "      <th>2</th>\n",
       "      <th>3</th>\n",
       "      <th>4</th>\n",
       "      <th>5</th>\n",
       "      <th>6</th>\n",
       "      <th>7</th>\n",
       "      <th>8</th>\n",
       "      <th>9</th>\n",
       "      <th>10</th>\n",
       "    </tr>\n",
       "  </thead>\n",
       "  <tbody>\n",
       "    <tr>\n",
       "      <th>0</th>\n",
       "      <td>In the new Sino-Russian defense relationship, ...</td>\n",
       "      <td>19169618</td>\n",
       "      <td>2023-04-04</td>\n",
       "      <td>China Is Eating Russia’s Lunch in the Defense...</td>\n",
       "      <td>https://www.defenseone.com/ideas/2023/04/chi...</td>\n",
       "      <td>2023-04-04</td>\n",
       "      <td>{Thomas Corbett,Research Analyst,Bluepath Labs}</td>\n",
       "      <td>{china,war,russias,chinas,lunch,market,industr...</td>\n",
       "      <td>https://www.defenseone.com/</td>\n",
       "      <td>NaN</td>\n",
       "      <td>NaN</td>\n",
       "    </tr>\n",
       "    <tr>\n",
       "      <th>1</th>\n",
       "      <td>Cookie Preferences Cookie List\\n\\nCookie List\\...</td>\n",
       "      <td>22151305</td>\n",
       "      <td>2023-09-05</td>\n",
       "      <td>Geopolitical tension with China would hit U.S...</td>\n",
       "      <td>https://www.defenseone.com/policy/2023/08/ge...</td>\n",
       "      <td>2023-09-05</td>\n",
       "      <td>{Patrick Tucker,Science,Technology Editor,Defe...</td>\n",
       "      <td>{tension,study,geopolitical,sale,selection,sho...</td>\n",
       "      <td>https://www.defenseone.com/</td>\n",
       "      <td>NaN</td>\n",
       "      <td>NaN</td>\n",
       "    </tr>\n",
       "    <tr>\n",
       "      <th>2</th>\n",
       "      <td>In this image made from video, Chinese Foreign...</td>\n",
       "      <td>18118957</td>\n",
       "      <td>2023-02-13</td>\n",
       "      <td>China says more than 10 US balloons flew in i...</td>\n",
       "      <td>https://www.journalgazette.net/news/world/ch...</td>\n",
       "      <td>2023-02-13</td>\n",
       "      <td>{Associated Press}</td>\n",
       "      <td>{airspace,wang,ministry,office,china,image,spe...</td>\n",
       "      <td>https://www.journalgazette.net/</td>\n",
       "      <td>NaN</td>\n",
       "      <td>NaN</td>\n",
       "    </tr>\n",
       "    <tr>\n",
       "      <th>3</th>\n",
       "      <td>Associated Press\\n\\nBEIJING — Heavy flooding h...</td>\n",
       "      <td>20894060</td>\n",
       "      <td>2023-07-04</td>\n",
       "      <td>Flooding displaces 10,000 across China</td>\n",
       "      <td>https://www.mercurynews.com/2023/07/03/flood...</td>\n",
       "      <td>2023-07-04</td>\n",
       "      <td>{The Associated Press}</td>\n",
       "      <td>{temperature,china,heavy,rainfall,capital,floo...</td>\n",
       "      <td>http://www.mercurynews.com/</td>\n",
       "      <td>NaN</td>\n",
       "      <td>NaN</td>\n",
       "    </tr>\n",
       "    <tr>\n",
       "      <th>4</th>\n",
       "      <td>El presidente estadounidense, Joe Biden, afirm...</td>\n",
       "      <td>21023107</td>\n",
       "      <td>2023-07-10</td>\n",
       "      <td>Joe Biden cree que se pueden establecer relac...</td>\n",
       "      <td>https://laopinion.com/2023/07/09/joe-biden-c...</td>\n",
       "      <td>2023-07-10</td>\n",
       "      <td>{La Opinión}</td>\n",
       "      <td>{y,joe,relaciones,los,que,china,en,cree,pueden...</td>\n",
       "      <td>https://laopinion.com/</td>\n",
       "      <td>NaN</td>\n",
       "      <td>NaN</td>\n",
       "    </tr>\n",
       "  </tbody>\n",
       "</table>\n",
       "</div>"
      ],
      "text/plain": [
       "                                                  0         1           2   \\\n",
       "0  In the new Sino-Russian defense relationship, ...  19169618  2023-04-04   \n",
       "1  Cookie Preferences Cookie List\\n\\nCookie List\\...  22151305  2023-09-05   \n",
       "2  In this image made from video, Chinese Foreign...  18118957  2023-02-13   \n",
       "3  Associated Press\\n\\nBEIJING — Heavy flooding h...  20894060  2023-07-04   \n",
       "4  El presidente estadounidense, Joe Biden, afirm...  21023107  2023-07-10   \n",
       "\n",
       "                                                  3   \\\n",
       "0   China Is Eating Russia’s Lunch in the Defense...   \n",
       "1   Geopolitical tension with China would hit U.S...   \n",
       "2   China says more than 10 US balloons flew in i...   \n",
       "3            Flooding displaces 10,000 across China    \n",
       "4   Joe Biden cree que se pueden establecer relac...   \n",
       "\n",
       "                                                  4           5   \\\n",
       "0    https://www.defenseone.com/ideas/2023/04/chi...  2023-04-04   \n",
       "1    https://www.defenseone.com/policy/2023/08/ge...  2023-09-05   \n",
       "2    https://www.journalgazette.net/news/world/ch...  2023-02-13   \n",
       "3    https://www.mercurynews.com/2023/07/03/flood...  2023-07-04   \n",
       "4    https://laopinion.com/2023/07/09/joe-biden-c...  2023-07-10   \n",
       "\n",
       "                                                  6   \\\n",
       "0    {Thomas Corbett,Research Analyst,Bluepath Labs}   \n",
       "1  {Patrick Tucker,Science,Technology Editor,Defe...   \n",
       "2                                 {Associated Press}   \n",
       "3                             {The Associated Press}   \n",
       "4                                       {La Opinión}   \n",
       "\n",
       "                                                  7   \\\n",
       "0  {china,war,russias,chinas,lunch,market,industr...   \n",
       "1  {tension,study,geopolitical,sale,selection,sho...   \n",
       "2  {airspace,wang,ministry,office,china,image,spe...   \n",
       "3  {temperature,china,heavy,rainfall,capital,floo...   \n",
       "4  {y,joe,relaciones,los,que,china,en,cree,pueden...   \n",
       "\n",
       "                                 8   9   10  \n",
       "0       https://www.defenseone.com/ NaN NaN  \n",
       "1       https://www.defenseone.com/ NaN NaN  \n",
       "2   https://www.journalgazette.net/ NaN NaN  \n",
       "3       http://www.mercurynews.com/ NaN NaN  \n",
       "4            https://laopinion.com/ NaN NaN  "
      ]
     },
     "execution_count": 6,
     "metadata": {},
     "output_type": "execute_result"
    }
   ],
   "source": [
    "df.head(5)"
   ]
  },
  {
   "cell_type": "code",
   "execution_count": 7,
   "id": "e047421a-8fd6-4489-8bf3-e17e45b0bf32",
   "metadata": {},
   "outputs": [
    {
     "data": {
      "text/plain": [
       "0         0\n",
       "1         0\n",
       "2         0\n",
       "3         0\n",
       "4         0\n",
       "5         0\n",
       "6      3956\n",
       "7         0\n",
       "8         0\n",
       "9     10000\n",
       "10    10000\n",
       "dtype: int64"
      ]
     },
     "execution_count": 7,
     "metadata": {},
     "output_type": "execute_result"
    }
   ],
   "source": [
    "df.isnull().sum()"
   ]
  },
  {
   "cell_type": "code",
   "execution_count": 8,
   "id": "07db14c8-42d7-46f9-9989-fa476bd1acd9",
   "metadata": {},
   "outputs": [],
   "source": [
    "df = df.drop(columns=[9, 10])"
   ]
  },
  {
   "cell_type": "code",
   "execution_count": 9,
   "id": "d566de70-976d-4c51-8154-3a598b4ed8c1",
   "metadata": {},
   "outputs": [
    {
     "data": {
      "text/plain": [
       "0       In the new Sino-Russian defense relationship, ...\n",
       "1       Cookie Preferences Cookie List\\n\\nCookie List\\...\n",
       "2       In this image made from video, Chinese Foreign...\n",
       "3       Associated Press\\n\\nBEIJING — Heavy flooding h...\n",
       "4       El presidente estadounidense, Joe Biden, afirm...\n",
       "                              ...                        \n",
       "9995    \\n\\n\\n\\n\\n\\n\\n\\n\\n\\n\\n\\n\\n\\nBEIJING, March 20 ...\n",
       "9996    It was a cold and overcast morning in November...\n",
       "9997    China`s expansion of its nuclear arsenal is th...\n",
       "9998    NEW You can now listen to Fox News articles!\\n...\n",
       "9999    Hong Kong CNN —\\n\\nKiki Yang brought an empty ...\n",
       "Name: 0, Length: 10000, dtype: object"
      ]
     },
     "execution_count": 9,
     "metadata": {},
     "output_type": "execute_result"
    }
   ],
   "source": [
    "df[0]"
   ]
  },
  {
   "cell_type": "code",
   "execution_count": 10,
   "id": "30c907a6-585e-4874-81bf-a1975bb3bfc1",
   "metadata": {},
   "outputs": [],
   "source": [
    "documents = df[0].dropna().tolist()"
   ]
  },
  {
   "cell_type": "code",
   "execution_count": 11,
   "id": "73cb41ed-1594-4aef-b4f9-0fd76a81d462",
   "metadata": {},
   "outputs": [],
   "source": [
    "from gensim.utils import simple_preprocess\n",
    "\n",
    "def preprocess(doc):\n",
    "    return simple_preprocess(doc, deacc=True)\n",
    "\n",
    "processed_docs = [preprocess(doc) for doc in documents]"
   ]
  },
  {
   "cell_type": "code",
   "execution_count": 12,
   "id": "583c76b8-d4f9-476b-a78f-31b494620520",
   "metadata": {},
   "outputs": [],
   "source": [
    "from gensim import corpora\n",
    "\n",
    "# Create a dictionary representation of the documents\n",
    "dictionary = corpora.Dictionary(processed_docs)\n",
    "\n",
    "# Convert tokenized documents to vectors\n",
    "corpus = [dictionary.doc2bow(doc) for doc in processed_docs]"
   ]
  }
 ],
 "metadata": {
  "kernelspec": {
   "display_name": "Python 3 (ipykernel)",
   "language": "python",
   "name": "python3"
  },
  "language_info": {
   "codemirror_mode": {
    "name": "ipython",
    "version": 3
   },
   "file_extension": ".py",
   "mimetype": "text/x-python",
   "name": "python",
   "nbconvert_exporter": "python",
   "pygments_lexer": "ipython3",
   "version": "3.9.12"
  }
 },
 "nbformat": 4,
 "nbformat_minor": 5
}
